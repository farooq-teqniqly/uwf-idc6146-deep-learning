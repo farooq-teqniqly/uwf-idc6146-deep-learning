{
 "cells": [
  {
   "cell_type": "code",
   "execution_count": 1,
   "id": "initial_id",
   "metadata": {
    "ExecuteTime": {
     "end_time": "2024-09-27T21:11:48.435472Z",
     "start_time": "2024-09-27T21:11:43.410474Z"
    }
   },
   "outputs": [
    {
     "name": "stdout",
     "output_type": "stream",
     "text": [
      "Requirement already satisfied: tensorflow[and-cuda] in /home/farooq/miniconda3/envs/myenv/lib/python3.12/site-packages (2.17.0)\n",
      "Requirement already satisfied: absl-py>=1.0.0 in /home/farooq/miniconda3/envs/myenv/lib/python3.12/site-packages (from tensorflow[and-cuda]) (2.1.0)\n",
      "Requirement already satisfied: astunparse>=1.6.0 in /home/farooq/miniconda3/envs/myenv/lib/python3.12/site-packages (from tensorflow[and-cuda]) (1.6.3)\n",
      "Requirement already satisfied: flatbuffers>=24.3.25 in /home/farooq/miniconda3/envs/myenv/lib/python3.12/site-packages (from tensorflow[and-cuda]) (24.3.25)\n",
      "Requirement already satisfied: gast!=0.5.0,!=0.5.1,!=0.5.2,>=0.2.1 in /home/farooq/miniconda3/envs/myenv/lib/python3.12/site-packages (from tensorflow[and-cuda]) (0.6.0)\n",
      "Requirement already satisfied: google-pasta>=0.1.1 in /home/farooq/miniconda3/envs/myenv/lib/python3.12/site-packages (from tensorflow[and-cuda]) (0.2.0)\n",
      "Requirement already satisfied: h5py>=3.10.0 in /home/farooq/miniconda3/envs/myenv/lib/python3.12/site-packages (from tensorflow[and-cuda]) (3.12.1)\n",
      "Requirement already satisfied: libclang>=13.0.0 in /home/farooq/miniconda3/envs/myenv/lib/python3.12/site-packages (from tensorflow[and-cuda]) (18.1.1)\n",
      "Requirement already satisfied: ml-dtypes<0.5.0,>=0.3.1 in /home/farooq/miniconda3/envs/myenv/lib/python3.12/site-packages (from tensorflow[and-cuda]) (0.4.1)\n",
      "Requirement already satisfied: opt-einsum>=2.3.2 in /home/farooq/miniconda3/envs/myenv/lib/python3.12/site-packages (from tensorflow[and-cuda]) (3.4.0)\n",
      "Requirement already satisfied: packaging in /home/farooq/miniconda3/envs/myenv/lib/python3.12/site-packages (from tensorflow[and-cuda]) (24.1)\n",
      "Requirement already satisfied: protobuf!=4.21.0,!=4.21.1,!=4.21.2,!=4.21.3,!=4.21.4,!=4.21.5,<5.0.0dev,>=3.20.3 in /home/farooq/miniconda3/envs/myenv/lib/python3.12/site-packages (from tensorflow[and-cuda]) (4.25.5)\n",
      "Requirement already satisfied: requests<3,>=2.21.0 in /home/farooq/miniconda3/envs/myenv/lib/python3.12/site-packages (from tensorflow[and-cuda]) (2.32.3)\n",
      "Requirement already satisfied: setuptools in /home/farooq/miniconda3/envs/myenv/lib/python3.12/site-packages (from tensorflow[and-cuda]) (75.1.0)\n",
      "Requirement already satisfied: six>=1.12.0 in /home/farooq/miniconda3/envs/myenv/lib/python3.12/site-packages (from tensorflow[and-cuda]) (1.16.0)\n",
      "Requirement already satisfied: termcolor>=1.1.0 in /home/farooq/miniconda3/envs/myenv/lib/python3.12/site-packages (from tensorflow[and-cuda]) (2.4.0)\n",
      "Requirement already satisfied: typing-extensions>=3.6.6 in /home/farooq/miniconda3/envs/myenv/lib/python3.12/site-packages (from tensorflow[and-cuda]) (4.12.2)\n",
      "Requirement already satisfied: wrapt>=1.11.0 in /home/farooq/miniconda3/envs/myenv/lib/python3.12/site-packages (from tensorflow[and-cuda]) (1.16.0)\n",
      "Requirement already satisfied: grpcio<2.0,>=1.24.3 in /home/farooq/miniconda3/envs/myenv/lib/python3.12/site-packages (from tensorflow[and-cuda]) (1.66.1)\n",
      "Requirement already satisfied: tensorboard<2.18,>=2.17 in /home/farooq/miniconda3/envs/myenv/lib/python3.12/site-packages (from tensorflow[and-cuda]) (2.17.1)\n",
      "Requirement already satisfied: keras>=3.2.0 in /home/farooq/miniconda3/envs/myenv/lib/python3.12/site-packages (from tensorflow[and-cuda]) (3.5.0)\n",
      "Requirement already satisfied: numpy<2.0.0,>=1.26.0 in /home/farooq/miniconda3/envs/myenv/lib/python3.12/site-packages (from tensorflow[and-cuda]) (1.26.4)\n",
      "Requirement already satisfied: nvidia-cublas-cu12==12.3.4.1 in /home/farooq/miniconda3/envs/myenv/lib/python3.12/site-packages (from tensorflow[and-cuda]) (12.3.4.1)\n",
      "Requirement already satisfied: nvidia-cuda-cupti-cu12==12.3.101 in /home/farooq/miniconda3/envs/myenv/lib/python3.12/site-packages (from tensorflow[and-cuda]) (12.3.101)\n",
      "Requirement already satisfied: nvidia-cuda-nvcc-cu12==12.3.107 in /home/farooq/miniconda3/envs/myenv/lib/python3.12/site-packages (from tensorflow[and-cuda]) (12.3.107)\n",
      "Requirement already satisfied: nvidia-cuda-nvrtc-cu12==12.3.107 in /home/farooq/miniconda3/envs/myenv/lib/python3.12/site-packages (from tensorflow[and-cuda]) (12.3.107)\n",
      "Requirement already satisfied: nvidia-cuda-runtime-cu12==12.3.101 in /home/farooq/miniconda3/envs/myenv/lib/python3.12/site-packages (from tensorflow[and-cuda]) (12.3.101)\n",
      "Requirement already satisfied: nvidia-cudnn-cu12==8.9.7.29 in /home/farooq/miniconda3/envs/myenv/lib/python3.12/site-packages (from tensorflow[and-cuda]) (8.9.7.29)\n",
      "Requirement already satisfied: nvidia-cufft-cu12==11.0.12.1 in /home/farooq/miniconda3/envs/myenv/lib/python3.12/site-packages (from tensorflow[and-cuda]) (11.0.12.1)\n",
      "Requirement already satisfied: nvidia-curand-cu12==10.3.4.107 in /home/farooq/miniconda3/envs/myenv/lib/python3.12/site-packages (from tensorflow[and-cuda]) (10.3.4.107)\n",
      "Requirement already satisfied: nvidia-cusolver-cu12==11.5.4.101 in /home/farooq/miniconda3/envs/myenv/lib/python3.12/site-packages (from tensorflow[and-cuda]) (11.5.4.101)\n",
      "Requirement already satisfied: nvidia-cusparse-cu12==12.2.0.103 in /home/farooq/miniconda3/envs/myenv/lib/python3.12/site-packages (from tensorflow[and-cuda]) (12.2.0.103)\n",
      "Requirement already satisfied: nvidia-nccl-cu12==2.19.3 in /home/farooq/miniconda3/envs/myenv/lib/python3.12/site-packages (from tensorflow[and-cuda]) (2.19.3)\n",
      "Requirement already satisfied: nvidia-nvjitlink-cu12==12.3.101 in /home/farooq/miniconda3/envs/myenv/lib/python3.12/site-packages (from tensorflow[and-cuda]) (12.3.101)\n",
      "Requirement already satisfied: wheel<1.0,>=0.23.0 in /home/farooq/miniconda3/envs/myenv/lib/python3.12/site-packages (from astunparse>=1.6.0->tensorflow[and-cuda]) (0.44.0)\n",
      "Requirement already satisfied: rich in /home/farooq/miniconda3/envs/myenv/lib/python3.12/site-packages (from keras>=3.2.0->tensorflow[and-cuda]) (13.8.1)\n",
      "Requirement already satisfied: namex in /home/farooq/miniconda3/envs/myenv/lib/python3.12/site-packages (from keras>=3.2.0->tensorflow[and-cuda]) (0.0.8)\n",
      "Requirement already satisfied: optree in /home/farooq/miniconda3/envs/myenv/lib/python3.12/site-packages (from keras>=3.2.0->tensorflow[and-cuda]) (0.12.1)\n",
      "Requirement already satisfied: charset-normalizer<4,>=2 in /home/farooq/miniconda3/envs/myenv/lib/python3.12/site-packages (from requests<3,>=2.21.0->tensorflow[and-cuda]) (3.3.2)\n",
      "Requirement already satisfied: idna<4,>=2.5 in /home/farooq/miniconda3/envs/myenv/lib/python3.12/site-packages (from requests<3,>=2.21.0->tensorflow[and-cuda]) (3.10)\n",
      "Requirement already satisfied: urllib3<3,>=1.21.1 in /home/farooq/miniconda3/envs/myenv/lib/python3.12/site-packages (from requests<3,>=2.21.0->tensorflow[and-cuda]) (2.2.3)\n",
      "Requirement already satisfied: certifi>=2017.4.17 in /home/farooq/miniconda3/envs/myenv/lib/python3.12/site-packages (from requests<3,>=2.21.0->tensorflow[and-cuda]) (2024.8.30)\n",
      "Requirement already satisfied: markdown>=2.6.8 in /home/farooq/miniconda3/envs/myenv/lib/python3.12/site-packages (from tensorboard<2.18,>=2.17->tensorflow[and-cuda]) (3.7)\n",
      "Requirement already satisfied: tensorboard-data-server<0.8.0,>=0.7.0 in /home/farooq/miniconda3/envs/myenv/lib/python3.12/site-packages (from tensorboard<2.18,>=2.17->tensorflow[and-cuda]) (0.7.2)\n",
      "Requirement already satisfied: werkzeug>=1.0.1 in /home/farooq/miniconda3/envs/myenv/lib/python3.12/site-packages (from tensorboard<2.18,>=2.17->tensorflow[and-cuda]) (3.0.4)\n",
      "Requirement already satisfied: MarkupSafe>=2.1.1 in /home/farooq/miniconda3/envs/myenv/lib/python3.12/site-packages (from werkzeug>=1.0.1->tensorboard<2.18,>=2.17->tensorflow[and-cuda]) (2.1.5)\n",
      "Requirement already satisfied: markdown-it-py>=2.2.0 in /home/farooq/miniconda3/envs/myenv/lib/python3.12/site-packages (from rich->keras>=3.2.0->tensorflow[and-cuda]) (3.0.0)\n",
      "Requirement already satisfied: pygments<3.0.0,>=2.13.0 in /home/farooq/miniconda3/envs/myenv/lib/python3.12/site-packages (from rich->keras>=3.2.0->tensorflow[and-cuda]) (2.18.0)\n",
      "Requirement already satisfied: mdurl~=0.1 in /home/farooq/miniconda3/envs/myenv/lib/python3.12/site-packages (from markdown-it-py>=2.2.0->rich->keras>=3.2.0->tensorflow[and-cuda]) (0.1.2)\n",
      "Requirement already satisfied: matplotlib in /home/farooq/miniconda3/envs/myenv/lib/python3.12/site-packages (3.9.2)\n",
      "Requirement already satisfied: contourpy>=1.0.1 in /home/farooq/miniconda3/envs/myenv/lib/python3.12/site-packages (from matplotlib) (1.3.0)\n",
      "Requirement already satisfied: cycler>=0.10 in /home/farooq/miniconda3/envs/myenv/lib/python3.12/site-packages (from matplotlib) (0.12.1)\n",
      "Requirement already satisfied: fonttools>=4.22.0 in /home/farooq/miniconda3/envs/myenv/lib/python3.12/site-packages (from matplotlib) (4.54.1)\n",
      "Requirement already satisfied: kiwisolver>=1.3.1 in /home/farooq/miniconda3/envs/myenv/lib/python3.12/site-packages (from matplotlib) (1.4.7)\n",
      "Requirement already satisfied: numpy>=1.23 in /home/farooq/miniconda3/envs/myenv/lib/python3.12/site-packages (from matplotlib) (1.26.4)\n",
      "Requirement already satisfied: packaging>=20.0 in /home/farooq/miniconda3/envs/myenv/lib/python3.12/site-packages (from matplotlib) (24.1)\n",
      "Requirement already satisfied: pillow>=8 in /home/farooq/miniconda3/envs/myenv/lib/python3.12/site-packages (from matplotlib) (10.4.0)\n",
      "Requirement already satisfied: pyparsing>=2.3.1 in /home/farooq/miniconda3/envs/myenv/lib/python3.12/site-packages (from matplotlib) (3.1.4)\n",
      "Requirement already satisfied: python-dateutil>=2.7 in /home/farooq/miniconda3/envs/myenv/lib/python3.12/site-packages (from matplotlib) (2.9.0.post0)\n",
      "Requirement already satisfied: six>=1.5 in /home/farooq/miniconda3/envs/myenv/lib/python3.12/site-packages (from python-dateutil>=2.7->matplotlib) (1.16.0)\n"
     ]
    }
   ],
   "source": [
    "# !pip install tensorflow\n",
    "!pip install tensorflow[and-cuda]\n",
    "!pip install matplotlib"
   ]
  },
  {
   "cell_type": "code",
   "execution_count": 2,
   "id": "fa9d1e20-eea1-43d2-8ac7-bbf2bb2a5ad2",
   "metadata": {},
   "outputs": [
    {
     "name": "stderr",
     "output_type": "stream",
     "text": [
      "2024-09-27 21:07:55.454842: E external/local_xla/xla/stream_executor/cuda/cuda_fft.cc:485] Unable to register cuFFT factory: Attempting to register factory for plugin cuFFT when one has already been registered\n",
      "2024-09-27 21:07:55.465649: E external/local_xla/xla/stream_executor/cuda/cuda_dnn.cc:8454] Unable to register cuDNN factory: Attempting to register factory for plugin cuDNN when one has already been registered\n",
      "2024-09-27 21:07:55.468861: E external/local_xla/xla/stream_executor/cuda/cuda_blas.cc:1452] Unable to register cuBLAS factory: Attempting to register factory for plugin cuBLAS when one has already been registered\n",
      "2024-09-27 21:07:55.476876: I tensorflow/core/platform/cpu_feature_guard.cc:210] This TensorFlow binary is optimized to use available CPU instructions in performance-critical operations.\n",
      "To enable the following instructions: AVX2 FMA, in other operations, rebuild TensorFlow with the appropriate compiler flags.\n",
      "2024-09-27 21:07:56.135424: W tensorflow/compiler/tf2tensorrt/utils/py_utils.cc:38] TF-TRT Warning: Could not find TensorRT\n"
     ]
    }
   ],
   "source": [
    "import tensorflow as tf\n",
    "import os"
   ]
  },
  {
   "cell_type": "code",
   "execution_count": 3,
   "id": "8bd75629-28b5-4db6-8557-bab391fb459b",
   "metadata": {},
   "outputs": [],
   "source": [
    "# from tensorflow.keras import mixed_precision\n",
    "# mixed_precision.set_global_policy('mixed_float16')"
   ]
  },
  {
   "cell_type": "code",
   "execution_count": 4,
   "id": "11d6ee46-af6e-4774-a14a-2e1b3383c5ef",
   "metadata": {},
   "outputs": [],
   "source": [
    "# gpus = tf.config.experimental.list_physical_devices('GPU')\n",
    "\n",
    "# if gpus:\n",
    "#     try:\n",
    "#         for gpu in gpus:\n",
    "#             tf.config.experimental.set_memory_growth(gpu, True)\n",
    "#     except RuntimeError as e:\n",
    "#         print(e)"
   ]
  },
  {
   "cell_type": "code",
   "execution_count": 5,
   "id": "c22435c9c71bbce",
   "metadata": {
    "ExecuteTime": {
     "end_time": "2024-09-27T21:12:00.689375Z",
     "start_time": "2024-09-27T21:12:00.677649Z"
    }
   },
   "outputs": [],
   "source": [
    "image_dir = os.path.join(\"../data\", \"imagenet_224\")"
   ]
  },
  {
   "cell_type": "code",
   "execution_count": 6,
   "id": "95e50e6e62ed18a0",
   "metadata": {
    "ExecuteTime": {
     "end_time": "2024-09-27T21:12:52.400587Z",
     "start_time": "2024-09-27T21:12:52.395358Z"
    }
   },
   "outputs": [],
   "source": [
    "class_names = os.listdir(image_dir)\n",
    "num_classes = len(class_names)\n",
    "image_height = 224\n",
    "image_width = 224\n",
    "image_size = (image_height, image_width)\n",
    "batch_size = 128"
   ]
  },
  {
   "cell_type": "code",
   "execution_count": 7,
   "id": "a4f0ba3210ceb56d",
   "metadata": {
    "ExecuteTime": {
     "end_time": "2024-09-27T21:12:56.098899Z",
     "start_time": "2024-09-27T21:12:54.224766Z"
    }
   },
   "outputs": [
    {
     "name": "stdout",
     "output_type": "stream",
     "text": [
      "Found 14738 files belonging to 10 classes.\n",
      "Using 10317 files for training.\n"
     ]
    },
    {
     "name": "stderr",
     "output_type": "stream",
     "text": [
      "WARNING: All log messages before absl::InitializeLog() is called are written to STDERR\n",
      "I0000 00:00:1727496483.736156   84512 cuda_executor.cc:1001] could not open file to read NUMA node: /sys/bus/pci/devices/0000:01:00.0/numa_node\n",
      "Your kernel may have been built without NUMA support.\n",
      "I0000 00:00:1727496483.752279   84512 cuda_executor.cc:1001] could not open file to read NUMA node: /sys/bus/pci/devices/0000:01:00.0/numa_node\n",
      "Your kernel may have been built without NUMA support.\n",
      "I0000 00:00:1727496483.752318   84512 cuda_executor.cc:1001] could not open file to read NUMA node: /sys/bus/pci/devices/0000:01:00.0/numa_node\n",
      "Your kernel may have been built without NUMA support.\n",
      "I0000 00:00:1727496483.754765   84512 cuda_executor.cc:1001] could not open file to read NUMA node: /sys/bus/pci/devices/0000:01:00.0/numa_node\n",
      "Your kernel may have been built without NUMA support.\n",
      "I0000 00:00:1727496483.754810   84512 cuda_executor.cc:1001] could not open file to read NUMA node: /sys/bus/pci/devices/0000:01:00.0/numa_node\n",
      "Your kernel may have been built without NUMA support.\n",
      "I0000 00:00:1727496483.754827   84512 cuda_executor.cc:1001] could not open file to read NUMA node: /sys/bus/pci/devices/0000:01:00.0/numa_node\n",
      "Your kernel may have been built without NUMA support.\n",
      "I0000 00:00:1727496483.895781   84512 cuda_executor.cc:1001] could not open file to read NUMA node: /sys/bus/pci/devices/0000:01:00.0/numa_node\n",
      "Your kernel may have been built without NUMA support.\n",
      "I0000 00:00:1727496483.895830   84512 cuda_executor.cc:1001] could not open file to read NUMA node: /sys/bus/pci/devices/0000:01:00.0/numa_node\n",
      "Your kernel may have been built without NUMA support.\n",
      "2024-09-27 21:08:03.895839: I tensorflow/core/common_runtime/gpu/gpu_device.cc:2112] Could not identify NUMA node of platform GPU id 0, defaulting to 0.  Your kernel may not have been built with NUMA support.\n",
      "I0000 00:00:1727496483.895870   84512 cuda_executor.cc:1001] could not open file to read NUMA node: /sys/bus/pci/devices/0000:01:00.0/numa_node\n",
      "Your kernel may have been built without NUMA support.\n",
      "2024-09-27 21:08:03.895886: I tensorflow/core/common_runtime/gpu/gpu_device.cc:2021] Created device /job:localhost/replica:0/task:0/device:GPU:0 with 3703 MB memory:  -> device: 0, name: Quadro P2000, pci bus id: 0000:01:00.0, compute capability: 6.1\n"
     ]
    },
    {
     "name": "stdout",
     "output_type": "stream",
     "text": [
      "Found 14738 files belonging to 10 classes.\n",
      "Using 2947 files for validation.\n"
     ]
    }
   ],
   "source": [
    "training_set = tf.keras.utils.image_dataset_from_directory(\n",
    "    image_dir,\n",
    "    labels=\"inferred\",\n",
    "    label_mode=\"categorical\",\n",
    "    class_names=class_names,\n",
    "    validation_split=0.3,\n",
    "    subset=\"training\",\n",
    "    seed=123,\n",
    "    image_size=image_size,\n",
    "    batch_size=batch_size)\n",
    "\n",
    "validation_set = tf.keras.utils.image_dataset_from_directory(\n",
    "    image_dir,\n",
    "    labels=\"inferred\",\n",
    "    label_mode=\"categorical\",\n",
    "    class_names=class_names,\n",
    "    validation_split=0.2,\n",
    "    subset=\"validation\",\n",
    "    seed=123,\n",
    "    image_size=image_size,\n",
    "    batch_size=batch_size)\n"
   ]
  },
  {
   "cell_type": "code",
   "execution_count": 8,
   "id": "b4509333a71497e7",
   "metadata": {
    "ExecuteTime": {
     "end_time": "2024-09-27T21:12:57.005533Z",
     "start_time": "2024-09-27T21:12:56.980345Z"
    }
   },
   "outputs": [],
   "source": [
    "AUTOTUNE = tf.data.AUTOTUNE\n",
    "\n",
    "training_set = training_set.cache().prefetch(buffer_size=AUTOTUNE)\n",
    "validation_set = validation_set.cache().prefetch(buffer_size=AUTOTUNE)     "
   ]
  },
  {
   "cell_type": "code",
   "execution_count": 9,
   "id": "27cb6bbd3072ec36",
   "metadata": {
    "ExecuteTime": {
     "end_time": "2024-09-27T21:12:58.047093Z",
     "start_time": "2024-09-27T21:12:58.039900Z"
    }
   },
   "outputs": [],
   "source": [
    "from tensorflow.keras.layers import Input, Conv2D, MaxPool2D, Flatten, Dense, Dropout\n",
    "from tensorflow.keras.models import Model"
   ]
  },
  {
   "cell_type": "code",
   "execution_count": 10,
   "id": "6498a340222069f7",
   "metadata": {
    "ExecuteTime": {
     "end_time": "2024-09-27T21:14:11.624880Z",
     "start_time": "2024-09-27T21:14:11.574579Z"
    }
   },
   "outputs": [
    {
     "data": {
      "text/html": [
       "<pre style=\"white-space:pre;overflow-x:auto;line-height:normal;font-family:Menlo,'DejaVu Sans Mono',consolas,'Courier New',monospace\"><span style=\"font-weight: bold\">Model: \"functional\"</span>\n",
       "</pre>\n"
      ],
      "text/plain": [
       "\u001b[1mModel: \"functional\"\u001b[0m\n"
      ]
     },
     "metadata": {},
     "output_type": "display_data"
    },
    {
     "data": {
      "text/html": [
       "<pre style=\"white-space:pre;overflow-x:auto;line-height:normal;font-family:Menlo,'DejaVu Sans Mono',consolas,'Courier New',monospace\">┏━━━━━━━━━━━━━━━━━━━━━━━━━━━━━━━━━┳━━━━━━━━━━━━━━━━━━━━━━━━┳━━━━━━━━━━━━━━━┓\n",
       "┃<span style=\"font-weight: bold\"> Layer (type)                    </span>┃<span style=\"font-weight: bold\"> Output Shape           </span>┃<span style=\"font-weight: bold\">       Param # </span>┃\n",
       "┡━━━━━━━━━━━━━━━━━━━━━━━━━━━━━━━━━╇━━━━━━━━━━━━━━━━━━━━━━━━╇━━━━━━━━━━━━━━━┩\n",
       "│ input_layer (<span style=\"color: #0087ff; text-decoration-color: #0087ff\">InputLayer</span>)        │ (<span style=\"color: #00d7ff; text-decoration-color: #00d7ff\">None</span>, <span style=\"color: #00af00; text-decoration-color: #00af00\">224</span>, <span style=\"color: #00af00; text-decoration-color: #00af00\">224</span>, <span style=\"color: #00af00; text-decoration-color: #00af00\">3</span>)    │             <span style=\"color: #00af00; text-decoration-color: #00af00\">0</span> │\n",
       "├─────────────────────────────────┼────────────────────────┼───────────────┤\n",
       "│ conv2d (<span style=\"color: #0087ff; text-decoration-color: #0087ff\">Conv2D</span>)                 │ (<span style=\"color: #00d7ff; text-decoration-color: #00d7ff\">None</span>, <span style=\"color: #00af00; text-decoration-color: #00af00\">224</span>, <span style=\"color: #00af00; text-decoration-color: #00af00\">224</span>, <span style=\"color: #00af00; text-decoration-color: #00af00\">32</span>)   │           <span style=\"color: #00af00; text-decoration-color: #00af00\">896</span> │\n",
       "├─────────────────────────────────┼────────────────────────┼───────────────┤\n",
       "│ max_pooling2d (<span style=\"color: #0087ff; text-decoration-color: #0087ff\">MaxPooling2D</span>)    │ (<span style=\"color: #00d7ff; text-decoration-color: #00d7ff\">None</span>, <span style=\"color: #00af00; text-decoration-color: #00af00\">112</span>, <span style=\"color: #00af00; text-decoration-color: #00af00\">112</span>, <span style=\"color: #00af00; text-decoration-color: #00af00\">32</span>)   │             <span style=\"color: #00af00; text-decoration-color: #00af00\">0</span> │\n",
       "├─────────────────────────────────┼────────────────────────┼───────────────┤\n",
       "│ conv2d_1 (<span style=\"color: #0087ff; text-decoration-color: #0087ff\">Conv2D</span>)               │ (<span style=\"color: #00d7ff; text-decoration-color: #00d7ff\">None</span>, <span style=\"color: #00af00; text-decoration-color: #00af00\">112</span>, <span style=\"color: #00af00; text-decoration-color: #00af00\">112</span>, <span style=\"color: #00af00; text-decoration-color: #00af00\">32</span>)   │         <span style=\"color: #00af00; text-decoration-color: #00af00\">9,248</span> │\n",
       "├─────────────────────────────────┼────────────────────────┼───────────────┤\n",
       "│ max_pooling2d_1 (<span style=\"color: #0087ff; text-decoration-color: #0087ff\">MaxPooling2D</span>)  │ (<span style=\"color: #00d7ff; text-decoration-color: #00d7ff\">None</span>, <span style=\"color: #00af00; text-decoration-color: #00af00\">56</span>, <span style=\"color: #00af00; text-decoration-color: #00af00\">56</span>, <span style=\"color: #00af00; text-decoration-color: #00af00\">32</span>)     │             <span style=\"color: #00af00; text-decoration-color: #00af00\">0</span> │\n",
       "├─────────────────────────────────┼────────────────────────┼───────────────┤\n",
       "│ dropout (<span style=\"color: #0087ff; text-decoration-color: #0087ff\">Dropout</span>)               │ (<span style=\"color: #00d7ff; text-decoration-color: #00d7ff\">None</span>, <span style=\"color: #00af00; text-decoration-color: #00af00\">56</span>, <span style=\"color: #00af00; text-decoration-color: #00af00\">56</span>, <span style=\"color: #00af00; text-decoration-color: #00af00\">32</span>)     │             <span style=\"color: #00af00; text-decoration-color: #00af00\">0</span> │\n",
       "├─────────────────────────────────┼────────────────────────┼───────────────┤\n",
       "│ flatten (<span style=\"color: #0087ff; text-decoration-color: #0087ff\">Flatten</span>)               │ (<span style=\"color: #00d7ff; text-decoration-color: #00d7ff\">None</span>, <span style=\"color: #00af00; text-decoration-color: #00af00\">100352</span>)         │             <span style=\"color: #00af00; text-decoration-color: #00af00\">0</span> │\n",
       "├─────────────────────────────────┼────────────────────────┼───────────────┤\n",
       "│ dense (<span style=\"color: #0087ff; text-decoration-color: #0087ff\">Dense</span>)                   │ (<span style=\"color: #00d7ff; text-decoration-color: #00d7ff\">None</span>, <span style=\"color: #00af00; text-decoration-color: #00af00\">128</span>)            │    <span style=\"color: #00af00; text-decoration-color: #00af00\">12,845,184</span> │\n",
       "├─────────────────────────────────┼────────────────────────┼───────────────┤\n",
       "│ dense_1 (<span style=\"color: #0087ff; text-decoration-color: #0087ff\">Dense</span>)                 │ (<span style=\"color: #00d7ff; text-decoration-color: #00d7ff\">None</span>, <span style=\"color: #00af00; text-decoration-color: #00af00\">10</span>)             │         <span style=\"color: #00af00; text-decoration-color: #00af00\">1,290</span> │\n",
       "└─────────────────────────────────┴────────────────────────┴───────────────┘\n",
       "</pre>\n"
      ],
      "text/plain": [
       "┏━━━━━━━━━━━━━━━━━━━━━━━━━━━━━━━━━┳━━━━━━━━━━━━━━━━━━━━━━━━┳━━━━━━━━━━━━━━━┓\n",
       "┃\u001b[1m \u001b[0m\u001b[1mLayer (type)                   \u001b[0m\u001b[1m \u001b[0m┃\u001b[1m \u001b[0m\u001b[1mOutput Shape          \u001b[0m\u001b[1m \u001b[0m┃\u001b[1m \u001b[0m\u001b[1m      Param #\u001b[0m\u001b[1m \u001b[0m┃\n",
       "┡━━━━━━━━━━━━━━━━━━━━━━━━━━━━━━━━━╇━━━━━━━━━━━━━━━━━━━━━━━━╇━━━━━━━━━━━━━━━┩\n",
       "│ input_layer (\u001b[38;5;33mInputLayer\u001b[0m)        │ (\u001b[38;5;45mNone\u001b[0m, \u001b[38;5;34m224\u001b[0m, \u001b[38;5;34m224\u001b[0m, \u001b[38;5;34m3\u001b[0m)    │             \u001b[38;5;34m0\u001b[0m │\n",
       "├─────────────────────────────────┼────────────────────────┼───────────────┤\n",
       "│ conv2d (\u001b[38;5;33mConv2D\u001b[0m)                 │ (\u001b[38;5;45mNone\u001b[0m, \u001b[38;5;34m224\u001b[0m, \u001b[38;5;34m224\u001b[0m, \u001b[38;5;34m32\u001b[0m)   │           \u001b[38;5;34m896\u001b[0m │\n",
       "├─────────────────────────────────┼────────────────────────┼───────────────┤\n",
       "│ max_pooling2d (\u001b[38;5;33mMaxPooling2D\u001b[0m)    │ (\u001b[38;5;45mNone\u001b[0m, \u001b[38;5;34m112\u001b[0m, \u001b[38;5;34m112\u001b[0m, \u001b[38;5;34m32\u001b[0m)   │             \u001b[38;5;34m0\u001b[0m │\n",
       "├─────────────────────────────────┼────────────────────────┼───────────────┤\n",
       "│ conv2d_1 (\u001b[38;5;33mConv2D\u001b[0m)               │ (\u001b[38;5;45mNone\u001b[0m, \u001b[38;5;34m112\u001b[0m, \u001b[38;5;34m112\u001b[0m, \u001b[38;5;34m32\u001b[0m)   │         \u001b[38;5;34m9,248\u001b[0m │\n",
       "├─────────────────────────────────┼────────────────────────┼───────────────┤\n",
       "│ max_pooling2d_1 (\u001b[38;5;33mMaxPooling2D\u001b[0m)  │ (\u001b[38;5;45mNone\u001b[0m, \u001b[38;5;34m56\u001b[0m, \u001b[38;5;34m56\u001b[0m, \u001b[38;5;34m32\u001b[0m)     │             \u001b[38;5;34m0\u001b[0m │\n",
       "├─────────────────────────────────┼────────────────────────┼───────────────┤\n",
       "│ dropout (\u001b[38;5;33mDropout\u001b[0m)               │ (\u001b[38;5;45mNone\u001b[0m, \u001b[38;5;34m56\u001b[0m, \u001b[38;5;34m56\u001b[0m, \u001b[38;5;34m32\u001b[0m)     │             \u001b[38;5;34m0\u001b[0m │\n",
       "├─────────────────────────────────┼────────────────────────┼───────────────┤\n",
       "│ flatten (\u001b[38;5;33mFlatten\u001b[0m)               │ (\u001b[38;5;45mNone\u001b[0m, \u001b[38;5;34m100352\u001b[0m)         │             \u001b[38;5;34m0\u001b[0m │\n",
       "├─────────────────────────────────┼────────────────────────┼───────────────┤\n",
       "│ dense (\u001b[38;5;33mDense\u001b[0m)                   │ (\u001b[38;5;45mNone\u001b[0m, \u001b[38;5;34m128\u001b[0m)            │    \u001b[38;5;34m12,845,184\u001b[0m │\n",
       "├─────────────────────────────────┼────────────────────────┼───────────────┤\n",
       "│ dense_1 (\u001b[38;5;33mDense\u001b[0m)                 │ (\u001b[38;5;45mNone\u001b[0m, \u001b[38;5;34m10\u001b[0m)             │         \u001b[38;5;34m1,290\u001b[0m │\n",
       "└─────────────────────────────────┴────────────────────────┴───────────────┘\n"
      ]
     },
     "metadata": {},
     "output_type": "display_data"
    },
    {
     "data": {
      "text/html": [
       "<pre style=\"white-space:pre;overflow-x:auto;line-height:normal;font-family:Menlo,'DejaVu Sans Mono',consolas,'Courier New',monospace\"><span style=\"font-weight: bold\"> Total params: </span><span style=\"color: #00af00; text-decoration-color: #00af00\">12,856,618</span> (49.04 MB)\n",
       "</pre>\n"
      ],
      "text/plain": [
       "\u001b[1m Total params: \u001b[0m\u001b[38;5;34m12,856,618\u001b[0m (49.04 MB)\n"
      ]
     },
     "metadata": {},
     "output_type": "display_data"
    },
    {
     "data": {
      "text/html": [
       "<pre style=\"white-space:pre;overflow-x:auto;line-height:normal;font-family:Menlo,'DejaVu Sans Mono',consolas,'Courier New',monospace\"><span style=\"font-weight: bold\"> Trainable params: </span><span style=\"color: #00af00; text-decoration-color: #00af00\">12,856,618</span> (49.04 MB)\n",
       "</pre>\n"
      ],
      "text/plain": [
       "\u001b[1m Trainable params: \u001b[0m\u001b[38;5;34m12,856,618\u001b[0m (49.04 MB)\n"
      ]
     },
     "metadata": {},
     "output_type": "display_data"
    },
    {
     "data": {
      "text/html": [
       "<pre style=\"white-space:pre;overflow-x:auto;line-height:normal;font-family:Menlo,'DejaVu Sans Mono',consolas,'Courier New',monospace\"><span style=\"font-weight: bold\"> Non-trainable params: </span><span style=\"color: #00af00; text-decoration-color: #00af00\">0</span> (0.00 B)\n",
       "</pre>\n"
      ],
      "text/plain": [
       "\u001b[1m Non-trainable params: \u001b[0m\u001b[38;5;34m0\u001b[0m (0.00 B)\n"
      ]
     },
     "metadata": {},
     "output_type": "display_data"
    },
    {
     "name": "stdout",
     "output_type": "stream",
     "text": [
      "None\n"
     ]
    }
   ],
   "source": [
    "input = Input(shape=(image_height, image_width, 3))\n",
    "\n",
    "x = Conv2D(filters=32, kernel_size=3, activation=\"relu\", padding=\"same\")(input)\n",
    "x = MaxPool2D(pool_size=2, strides=2)(x)\n",
    "x = Conv2D(filters=32, kernel_size=3, activation=\"relu\", padding=\"same\")(x)\n",
    "x = MaxPool2D(pool_size=2, strides=2)(x)\n",
    "x = Dropout(0.4)(x)\n",
    "x = Flatten()(x)\n",
    "x = Dense(units=128, activation=\"relu\")(x)\n",
    "\n",
    "output = Dense(units=num_classes, activation=\"softmax\")(x)\n",
    "\n",
    "model = Model(input, output)\n",
    "\n",
    "print(model.summary())\n",
    "\n"
   ]
  },
  {
   "cell_type": "code",
   "execution_count": 11,
   "id": "61cc0491dbd91ca3",
   "metadata": {
    "ExecuteTime": {
     "end_time": "2024-09-27T21:14:19.676805Z",
     "start_time": "2024-09-27T21:14:19.637360Z"
    }
   },
   "outputs": [],
   "source": [
    "from tensorflow.keras.metrics import CategoricalAccuracy, TopKCategoricalAccuracy\n",
    "from tensorflow.keras.optimizers import Adam\n",
    "\n",
    "model.compile(optimizer=Adam(),\n",
    "              loss=tf.keras.losses.CategoricalCrossentropy(),\n",
    "              metrics=[\n",
    "                  CategoricalAccuracy(),\n",
    "                  TopKCategoricalAccuracy()\n",
    "              ])"
   ]
  },
  {
   "cell_type": "code",
   "execution_count": 12,
   "id": "1be1fc8ec7fac510",
   "metadata": {
    "ExecuteTime": {
     "end_time": "2024-09-27T22:03:58.912838Z",
     "start_time": "2024-09-27T21:14:23.982375Z"
    }
   },
   "outputs": [
    {
     "name": "stdout",
     "output_type": "stream",
     "text": [
      "Epoch 1/30\n"
     ]
    },
    {
     "name": "stderr",
     "output_type": "stream",
     "text": [
      "WARNING: All log messages before absl::InitializeLog() is called are written to STDERR\n",
      "I0000 00:00:1727496492.984205   84672 service.cc:146] XLA service 0x7f8a2800a8d0 initialized for platform CUDA (this does not guarantee that XLA will be used). Devices:\n",
      "I0000 00:00:1727496492.984242   84672 service.cc:154]   StreamExecutor device (0): Quadro P2000, Compute Capability 6.1\n",
      "2024-09-27 21:08:13.008504: I tensorflow/compiler/mlir/tensorflow/utils/dump_mlir_util.cc:268] disabling MLIR crash reproducer, set env var `MLIR_CRASH_REPRODUCER_DIRECTORY` to enable.\n",
      "2024-09-27 21:08:13.169994: I external/local_xla/xla/stream_executor/cuda/cuda_dnn.cc:531] Loaded cuDNN version 8907\n",
      "2024-09-27 21:08:23.907230: E external/local_xla/xla/service/slow_operation_alarm.cc:65] Trying algorithm eng0{} for conv (f32[32,32,3,3]{3,2,1,0}, u8[0]{0}) custom-call(f32[128,32,112,112]{3,2,1,0}, f32[128,32,112,112]{3,2,1,0}), window={size=3x3 pad=1_1x1_1}, dim_labels=bf01_oi01->bf01, custom_call_target=\"__cudnn$convBackwardFilter\", backend_config={\"operation_queue_id\":\"0\",\"wait_on_operation_queues\":[],\"cudnn_conv_backend_config\":{\"conv_result_scale\":1,\"activation_mode\":\"kNone\",\"side_input_scale\":0,\"leakyrelu_alpha\":0},\"force_earliest_schedule\":false} is taking a while...\n",
      "2024-09-27 21:08:24.706022: E external/local_xla/xla/service/slow_operation_alarm.cc:133] The operation took 1.798918685s\n",
      "Trying algorithm eng0{} for conv (f32[32,32,3,3]{3,2,1,0}, u8[0]{0}) custom-call(f32[128,32,112,112]{3,2,1,0}, f32[128,32,112,112]{3,2,1,0}), window={size=3x3 pad=1_1x1_1}, dim_labels=bf01_oi01->bf01, custom_call_target=\"__cudnn$convBackwardFilter\", backend_config={\"operation_queue_id\":\"0\",\"wait_on_operation_queues\":[],\"cudnn_conv_backend_config\":{\"conv_result_scale\":1,\"activation_mode\":\"kNone\",\"side_input_scale\":0,\"leakyrelu_alpha\":0},\"force_earliest_schedule\":false} is taking a while...\n"
     ]
    },
    {
     "name": "stdout",
     "output_type": "stream",
     "text": [
      "\u001b[1m 1/81\u001b[0m \u001b[37m━━━━━━━━━━━━━━━━━━━━\u001b[0m \u001b[1m18:50\u001b[0m 14s/step - categorical_accuracy: 0.1094 - loss: 63.1365 - top_k_categorical_accuracy: 0.4375"
     ]
    },
    {
     "name": "stderr",
     "output_type": "stream",
     "text": [
      "I0000 00:00:1727496506.009105   84672 device_compiler.h:188] Compiled cluster using XLA!  This line is logged at most once for the lifetime of the process.\n"
     ]
    },
    {
     "name": "stdout",
     "output_type": "stream",
     "text": [
      "\u001b[1m80/81\u001b[0m \u001b[32m━━━━━━━━━━━━━━━━━━━\u001b[0m\u001b[37m━\u001b[0m \u001b[1m0s\u001b[0m 211ms/step - categorical_accuracy: 0.1517 - loss: 219.8128 - top_k_categorical_accuracy: 0.6661"
     ]
    },
    {
     "name": "stderr",
     "output_type": "stream",
     "text": [
      "2024-09-27 21:08:49.102856: E external/local_xla/xla/service/slow_operation_alarm.cc:65] Trying algorithm eng0{} for conv (f32[32,32,3,3]{3,2,1,0}, u8[0]{0}) custom-call(f32[77,32,112,112]{3,2,1,0}, f32[77,32,112,112]{3,2,1,0}), window={size=3x3 pad=1_1x1_1}, dim_labels=bf01_oi01->bf01, custom_call_target=\"__cudnn$convBackwardFilter\", backend_config={\"operation_queue_id\":\"0\",\"wait_on_operation_queues\":[],\"cudnn_conv_backend_config\":{\"conv_result_scale\":1,\"activation_mode\":\"kNone\",\"side_input_scale\":0,\"leakyrelu_alpha\":0},\"force_earliest_schedule\":false} is taking a while...\n",
      "2024-09-27 21:08:49.174842: E external/local_xla/xla/service/slow_operation_alarm.cc:133] The operation took 1.07209915s\n",
      "Trying algorithm eng0{} for conv (f32[32,32,3,3]{3,2,1,0}, u8[0]{0}) custom-call(f32[77,32,112,112]{3,2,1,0}, f32[77,32,112,112]{3,2,1,0}), window={size=3x3 pad=1_1x1_1}, dim_labels=bf01_oi01->bf01, custom_call_target=\"__cudnn$convBackwardFilter\", backend_config={\"operation_queue_id\":\"0\",\"wait_on_operation_queues\":[],\"cudnn_conv_backend_config\":{\"conv_result_scale\":1,\"activation_mode\":\"kNone\",\"side_input_scale\":0,\"leakyrelu_alpha\":0},\"force_earliest_schedule\":false} is taking a while...\n"
     ]
    },
    {
     "name": "stdout",
     "output_type": "stream",
     "text": [
      "\u001b[1m81/81\u001b[0m \u001b[32m━━━━━━━━━━━━━━━━━━━━\u001b[0m\u001b[37m\u001b[0m \u001b[1m0s\u001b[0m 304ms/step - categorical_accuracy: 0.1520 - loss: 217.8842 - top_k_categorical_accuracy: 0.6660"
     ]
    },
    {
     "name": "stderr",
     "output_type": "stream",
     "text": [
      "2024-09-27 21:08:53.549615: W external/local_tsl/tsl/framework/bfc_allocator.cc:291] Allocator (GPU_0_bfc) ran out of memory trying to allocate 1.90GiB with freed_by_count=0. The caller indicates that this is not a failure, but this may mean that there could be performance gains if more memory were available.\n",
      "2024-09-27 21:08:53.549680: W external/local_tsl/tsl/framework/bfc_allocator.cc:291] Allocator (GPU_0_bfc) ran out of memory trying to allocate 2.03GiB with freed_by_count=0. The caller indicates that this is not a failure, but this may mean that there could be performance gains if more memory were available.\n"
     ]
    },
    {
     "name": "stdout",
     "output_type": "stream",
     "text": [
      "\u001b[1m81/81\u001b[0m \u001b[32m━━━━━━━━━━━━━━━━━━━━\u001b[0m\u001b[37m\u001b[0m \u001b[1m45s\u001b[0m 388ms/step - categorical_accuracy: 0.1524 - loss: 216.0026 - top_k_categorical_accuracy: 0.6660 - val_categorical_accuracy: 0.2290 - val_loss: 2.0949 - val_top_k_categorical_accuracy: 0.7472\n",
      "Epoch 2/30\n",
      "\u001b[1m81/81\u001b[0m \u001b[32m━━━━━━━━━━━━━━━━━━━━\u001b[0m\u001b[37m\u001b[0m \u001b[1m16s\u001b[0m 202ms/step - categorical_accuracy: 0.2984 - loss: 1.9323 - top_k_categorical_accuracy: 0.8046 - val_categorical_accuracy: 0.2759 - val_loss: 2.0933 - val_top_k_categorical_accuracy: 0.7910\n",
      "Epoch 3/30\n",
      "\u001b[1m81/81\u001b[0m \u001b[32m━━━━━━━━━━━━━━━━━━━━\u001b[0m\u001b[37m\u001b[0m \u001b[1m16s\u001b[0m 202ms/step - categorical_accuracy: 0.4650 - loss: 1.5165 - top_k_categorical_accuracy: 0.8869 - val_categorical_accuracy: 0.2521 - val_loss: 2.2718 - val_top_k_categorical_accuracy: 0.7740\n",
      "Epoch 4/30\n",
      "\u001b[1m81/81\u001b[0m \u001b[32m━━━━━━━━━━━━━━━━━━━━\u001b[0m\u001b[37m\u001b[0m \u001b[1m16s\u001b[0m 202ms/step - categorical_accuracy: 0.5784 - loss: 1.2172 - top_k_categorical_accuracy: 0.9187 - val_categorical_accuracy: 0.2657 - val_loss: 2.7343 - val_top_k_categorical_accuracy: 0.7740\n",
      "Epoch 5/30\n",
      "\u001b[1m81/81\u001b[0m \u001b[32m━━━━━━━━━━━━━━━━━━━━\u001b[0m\u001b[37m\u001b[0m \u001b[1m16s\u001b[0m 202ms/step - categorical_accuracy: 0.6309 - loss: 1.1097 - top_k_categorical_accuracy: 0.9334 - val_categorical_accuracy: 0.2711 - val_loss: 3.1012 - val_top_k_categorical_accuracy: 0.7832\n",
      "Epoch 6/30\n",
      "\u001b[1m81/81\u001b[0m \u001b[32m━━━━━━━━━━━━━━━━━━━━\u001b[0m\u001b[37m\u001b[0m \u001b[1m16s\u001b[0m 202ms/step - categorical_accuracy: 0.6595 - loss: 1.0219 - top_k_categorical_accuracy: 0.9518 - val_categorical_accuracy: 0.2508 - val_loss: 3.1161 - val_top_k_categorical_accuracy: 0.7648\n",
      "Epoch 7/30\n",
      "\u001b[1m81/81\u001b[0m \u001b[32m━━━━━━━━━━━━━━━━━━━━\u001b[0m\u001b[37m\u001b[0m \u001b[1m16s\u001b[0m 202ms/step - categorical_accuracy: 0.6982 - loss: 0.9074 - top_k_categorical_accuracy: 0.9585 - val_categorical_accuracy: 0.2474 - val_loss: 3.8172 - val_top_k_categorical_accuracy: 0.7628\n",
      "Epoch 8/30\n",
      "\u001b[1m81/81\u001b[0m \u001b[32m━━━━━━━━━━━━━━━━━━━━\u001b[0m\u001b[37m\u001b[0m \u001b[1m16s\u001b[0m 202ms/step - categorical_accuracy: 0.7204 - loss: 0.8613 - top_k_categorical_accuracy: 0.9606 - val_categorical_accuracy: 0.2609 - val_loss: 3.8952 - val_top_k_categorical_accuracy: 0.7458\n",
      "Epoch 9/30\n",
      "\u001b[1m81/81\u001b[0m \u001b[32m━━━━━━━━━━━━━━━━━━━━\u001b[0m\u001b[37m\u001b[0m \u001b[1m16s\u001b[0m 203ms/step - categorical_accuracy: 0.7340 - loss: 0.8317 - top_k_categorical_accuracy: 0.9665 - val_categorical_accuracy: 0.2725 - val_loss: 5.3325 - val_top_k_categorical_accuracy: 0.7598\n",
      "Epoch 10/30\n",
      "\u001b[1m81/81\u001b[0m \u001b[32m━━━━━━━━━━━━━━━━━━━━\u001b[0m\u001b[37m\u001b[0m \u001b[1m16s\u001b[0m 202ms/step - categorical_accuracy: 0.7980 - loss: 0.6258 - top_k_categorical_accuracy: 0.9740 - val_categorical_accuracy: 0.2633 - val_loss: 4.2787 - val_top_k_categorical_accuracy: 0.7570\n",
      "Epoch 11/30\n",
      "\u001b[1m81/81\u001b[0m \u001b[32m━━━━━━━━━━━━━━━━━━━━\u001b[0m\u001b[37m\u001b[0m \u001b[1m16s\u001b[0m 203ms/step - categorical_accuracy: 0.8239 - loss: 0.5565 - top_k_categorical_accuracy: 0.9810 - val_categorical_accuracy: 0.2667 - val_loss: 4.9129 - val_top_k_categorical_accuracy: 0.7506\n",
      "Epoch 12/30\n",
      "\u001b[1m81/81\u001b[0m \u001b[32m━━━━━━━━━━━━━━━━━━━━\u001b[0m\u001b[37m\u001b[0m \u001b[1m16s\u001b[0m 204ms/step - categorical_accuracy: 0.8179 - loss: 0.5979 - top_k_categorical_accuracy: 0.9765 - val_categorical_accuracy: 0.2596 - val_loss: 5.0160 - val_top_k_categorical_accuracy: 0.7258\n",
      "Epoch 13/30\n",
      "\u001b[1m81/81\u001b[0m \u001b[32m━━━━━━━━━━━━━━━━━━━━\u001b[0m\u001b[37m\u001b[0m \u001b[1m16s\u001b[0m 203ms/step - categorical_accuracy: 0.8023 - loss: 0.6571 - top_k_categorical_accuracy: 0.9754 - val_categorical_accuracy: 0.2691 - val_loss: 4.5164 - val_top_k_categorical_accuracy: 0.7540\n",
      "Epoch 14/30\n",
      "\u001b[1m81/81\u001b[0m \u001b[32m━━━━━━━━━━━━━━━━━━━━\u001b[0m\u001b[37m\u001b[0m \u001b[1m16s\u001b[0m 203ms/step - categorical_accuracy: 0.8425 - loss: 0.5189 - top_k_categorical_accuracy: 0.9831 - val_categorical_accuracy: 0.2480 - val_loss: 4.5290 - val_top_k_categorical_accuracy: 0.7329\n",
      "Epoch 15/30\n",
      "\u001b[1m81/81\u001b[0m \u001b[32m━━━━━━━━━━━━━━━━━━━━\u001b[0m\u001b[37m\u001b[0m \u001b[1m16s\u001b[0m 203ms/step - categorical_accuracy: 0.8421 - loss: 0.5395 - top_k_categorical_accuracy: 0.9836 - val_categorical_accuracy: 0.2630 - val_loss: 4.6140 - val_top_k_categorical_accuracy: 0.7350\n",
      "Epoch 16/30\n",
      "\u001b[1m81/81\u001b[0m \u001b[32m━━━━━━━━━━━━━━━━━━━━\u001b[0m\u001b[37m\u001b[0m \u001b[1m16s\u001b[0m 203ms/step - categorical_accuracy: 0.8419 - loss: 0.5481 - top_k_categorical_accuracy: 0.9854 - val_categorical_accuracy: 0.2572 - val_loss: 4.4910 - val_top_k_categorical_accuracy: 0.7353\n",
      "Epoch 17/30\n",
      "\u001b[1m81/81\u001b[0m \u001b[32m━━━━━━━━━━━━━━━━━━━━\u001b[0m\u001b[37m\u001b[0m \u001b[1m16s\u001b[0m 203ms/step - categorical_accuracy: 0.8657 - loss: 0.4520 - top_k_categorical_accuracy: 0.9874 - val_categorical_accuracy: 0.2643 - val_loss: 4.4436 - val_top_k_categorical_accuracy: 0.7462\n",
      "Epoch 18/30\n",
      "\u001b[1m81/81\u001b[0m \u001b[32m━━━━━━━━━━━━━━━━━━━━\u001b[0m\u001b[37m\u001b[0m \u001b[1m16s\u001b[0m 203ms/step - categorical_accuracy: 0.8538 - loss: 0.4964 - top_k_categorical_accuracy: 0.9866 - val_categorical_accuracy: 0.2569 - val_loss: 4.5795 - val_top_k_categorical_accuracy: 0.7482\n",
      "Epoch 19/30\n",
      "\u001b[1m81/81\u001b[0m \u001b[32m━━━━━━━━━━━━━━━━━━━━\u001b[0m\u001b[37m\u001b[0m \u001b[1m16s\u001b[0m 203ms/step - categorical_accuracy: 0.8467 - loss: 0.5260 - top_k_categorical_accuracy: 0.9871 - val_categorical_accuracy: 0.2674 - val_loss: 4.8234 - val_top_k_categorical_accuracy: 0.7469\n",
      "Epoch 20/30\n",
      "\u001b[1m81/81\u001b[0m \u001b[32m━━━━━━━━━━━━━━━━━━━━\u001b[0m\u001b[37m\u001b[0m \u001b[1m16s\u001b[0m 203ms/step - categorical_accuracy: 0.8756 - loss: 0.4305 - top_k_categorical_accuracy: 0.9868 - val_categorical_accuracy: 0.2650 - val_loss: 4.6612 - val_top_k_categorical_accuracy: 0.7292\n",
      "Epoch 21/30\n",
      "\u001b[1m81/81\u001b[0m \u001b[32m━━━━━━━━━━━━━━━━━━━━\u001b[0m\u001b[37m\u001b[0m \u001b[1m16s\u001b[0m 203ms/step - categorical_accuracy: 0.8755 - loss: 0.4233 - top_k_categorical_accuracy: 0.9892 - val_categorical_accuracy: 0.2569 - val_loss: 4.9776 - val_top_k_categorical_accuracy: 0.7306\n",
      "Epoch 22/30\n",
      "\u001b[1m81/81\u001b[0m \u001b[32m━━━━━━━━━━━━━━━━━━━━\u001b[0m\u001b[37m\u001b[0m \u001b[1m16s\u001b[0m 203ms/step - categorical_accuracy: 0.8837 - loss: 0.3925 - top_k_categorical_accuracy: 0.9883 - val_categorical_accuracy: 0.2528 - val_loss: 5.2431 - val_top_k_categorical_accuracy: 0.7234\n",
      "Epoch 23/30\n",
      "\u001b[1m81/81\u001b[0m \u001b[32m━━━━━━━━━━━━━━━━━━━━\u001b[0m\u001b[37m\u001b[0m \u001b[1m16s\u001b[0m 203ms/step - categorical_accuracy: 0.8888 - loss: 0.3714 - top_k_categorical_accuracy: 0.9910 - val_categorical_accuracy: 0.2464 - val_loss: 5.4955 - val_top_k_categorical_accuracy: 0.7211\n",
      "Epoch 24/30\n",
      "\u001b[1m81/81\u001b[0m \u001b[32m━━━━━━━━━━━━━━━━━━━━\u001b[0m\u001b[37m\u001b[0m \u001b[1m16s\u001b[0m 203ms/step - categorical_accuracy: 0.8962 - loss: 0.3568 - top_k_categorical_accuracy: 0.9892 - val_categorical_accuracy: 0.2440 - val_loss: 5.8094 - val_top_k_categorical_accuracy: 0.7065\n",
      "Epoch 25/30\n",
      "\u001b[1m81/81\u001b[0m \u001b[32m━━━━━━━━━━━━━━━━━━━━\u001b[0m\u001b[37m\u001b[0m \u001b[1m16s\u001b[0m 203ms/step - categorical_accuracy: 0.9023 - loss: 0.3628 - top_k_categorical_accuracy: 0.9923 - val_categorical_accuracy: 0.2514 - val_loss: 6.2380 - val_top_k_categorical_accuracy: 0.7214\n",
      "Epoch 26/30\n",
      "\u001b[1m81/81\u001b[0m \u001b[32m━━━━━━━━━━━━━━━━━━━━\u001b[0m\u001b[37m\u001b[0m \u001b[1m16s\u001b[0m 203ms/step - categorical_accuracy: 0.9139 - loss: 0.2836 - top_k_categorical_accuracy: 0.9927 - val_categorical_accuracy: 0.2535 - val_loss: 6.2403 - val_top_k_categorical_accuracy: 0.7360\n",
      "Epoch 27/30\n",
      "\u001b[1m81/81\u001b[0m \u001b[32m━━━━━━━━━━━━━━━━━━━━\u001b[0m\u001b[37m\u001b[0m \u001b[1m16s\u001b[0m 203ms/step - categorical_accuracy: 0.9264 - loss: 0.2437 - top_k_categorical_accuracy: 0.9952 - val_categorical_accuracy: 0.2382 - val_loss: 7.0490 - val_top_k_categorical_accuracy: 0.7245\n",
      "Epoch 28/30\n",
      "\u001b[1m81/81\u001b[0m \u001b[32m━━━━━━━━━━━━━━━━━━━━\u001b[0m\u001b[37m\u001b[0m \u001b[1m16s\u001b[0m 203ms/step - categorical_accuracy: 0.9300 - loss: 0.2552 - top_k_categorical_accuracy: 0.9955 - val_categorical_accuracy: 0.2491 - val_loss: 7.3728 - val_top_k_categorical_accuracy: 0.7231\n",
      "Epoch 29/30\n",
      "\u001b[1m81/81\u001b[0m \u001b[32m━━━━━━━━━━━━━━━━━━━━\u001b[0m\u001b[37m\u001b[0m \u001b[1m16s\u001b[0m 203ms/step - categorical_accuracy: 0.9332 - loss: 0.2266 - top_k_categorical_accuracy: 0.9947 - val_categorical_accuracy: 0.2423 - val_loss: 7.5060 - val_top_k_categorical_accuracy: 0.7167\n",
      "Epoch 30/30\n",
      "\u001b[1m81/81\u001b[0m \u001b[32m━━━━━━━━━━━━━━━━━━━━\u001b[0m\u001b[37m\u001b[0m \u001b[1m16s\u001b[0m 203ms/step - categorical_accuracy: 0.9348 - loss: 0.2275 - top_k_categorical_accuracy: 0.9962 - val_categorical_accuracy: 0.2504 - val_loss: 8.0957 - val_top_k_categorical_accuracy: 0.7190\n",
      "CPU times: user 8min 23s, sys: 9 s, total: 8min 32s\n",
      "Wall time: 8min 41s\n"
     ]
    }
   ],
   "source": [
    "%%time\n",
    "\n",
    "epochs = 30\n",
    "history = model.fit(training_set, validation_data=validation_set, epochs=epochs)"
   ]
  },
  {
   "cell_type": "code",
   "execution_count": 13,
   "id": "24c5f3232f602c65",
   "metadata": {
    "ExecuteTime": {
     "end_time": "2024-09-27T23:26:11.207160Z",
     "start_time": "2024-09-27T23:26:09.233582Z"
    }
   },
   "outputs": [],
   "source": [
    "import pickle\n",
    "\n",
    "with open(os.path.join(\"../data\", \"history_control.pkl\"), \"wb\") as file:\n",
    "    pickle.dump(history, file)"
   ]
  },
  {
   "cell_type": "code",
   "execution_count": 15,
   "id": "f59f23bbffe91880",
   "metadata": {
    "ExecuteTime": {
     "end_time": "2024-09-27T23:27:03.958343Z",
     "start_time": "2024-09-27T23:27:03.792656Z"
    }
   },
   "outputs": [
    {
     "data": {
      "image/png": "[encoded data removed]",
      "text/plain": [
       "<Figure size 640x480 with 1 Axes>"
      ]
     },
     "metadata": {},
     "output_type": "display_data"
    }
   ],
   "source": [
    "import matplotlib.pyplot as plt\n",
    "\n",
    "def plot_accuracy_curve(training_result, metric):\n",
    "    val_metric = f\"val_{metric}\"\n",
    "    train_perf = training_result.history[metric]\n",
    "    validation_perf = training_result.history[val_metric]\n",
    "    \n",
    "    plt.plot(train_perf, label=metric)\n",
    "    plt.plot(validation_perf, label=val_metric)\n",
    "    \n",
    "    max_val = max(validation_perf)\n",
    "    max_val_epoch = validation_perf.index(max_val)\n",
    "    \n",
    "    plt.xlabel(\"Epoch\")\n",
    "    plt.ylabel(metric)\n",
    "    plt.legend(loc=\"lower right\")\n",
    "    \n",
    "plot_accuracy_curve(history, \"categorical_accuracy\")\n",
    "# plot_accuracy_curve(history, \"top_k_categorical_accuracy\")\n",
    "# plot_accuracy_curve(history, \"loss\")"
   ]
  },
  {
   "cell_type": "code",
   "execution_count": null,
   "id": "4102f1a2a8dddcd4",
   "metadata": {},
   "outputs": [],
   "source": []
  }
 ],
 "metadata": {
  "kernelspec": {
   "display_name": "Python 3 (ipykernel)",
   "language": "python",
   "name": "python3"
  },
  "language_info": {
   "codemirror_mode": {
    "name": "ipython",
    "version": 3
   },
   "file_extension": ".py",
   "mimetype": "text/x-python",
   "name": "python",
   "nbconvert_exporter": "python",
   "pygments_lexer": "ipython3",
   "version": "3.12.5"
  }
 },
 "nbformat": 4,
 "nbformat_minor": 5
}
