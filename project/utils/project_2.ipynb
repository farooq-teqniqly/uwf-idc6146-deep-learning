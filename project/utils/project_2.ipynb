{
 "cells": [
  {
   "metadata": {
    "collapsed": true,
    "ExecuteTime": {
     "end_time": "2024-09-27T21:11:48.435472Z",
     "start_time": "2024-09-27T21:11:43.410474Z"
    }
   },
   "cell_type": "code",
   "source": "!pip install tensorflow",
   "id": "initial_id",
   "outputs": [
    {
     "name": "stdout",
     "output_type": "stream",
     "text": [
      "Requirement already satisfied: tensorflow in c:\\src\\my\\uwf-idc6146-deep-learning\\lib\\site-packages (2.17.0)\n",
      "Requirement already satisfied: tensorflow-intel==2.17.0 in c:\\src\\my\\uwf-idc6146-deep-learning\\lib\\site-packages (from tensorflow) (2.17.0)\n",
      "Requirement already satisfied: absl-py>=1.0.0 in c:\\src\\my\\uwf-idc6146-deep-learning\\lib\\site-packages (from tensorflow-intel==2.17.0->tensorflow) (2.1.0)\n",
      "Requirement already satisfied: astunparse>=1.6.0 in c:\\src\\my\\uwf-idc6146-deep-learning\\lib\\site-packages (from tensorflow-intel==2.17.0->tensorflow) (1.6.3)\n",
      "Requirement already satisfied: flatbuffers>=24.3.25 in c:\\src\\my\\uwf-idc6146-deep-learning\\lib\\site-packages (from tensorflow-intel==2.17.0->tensorflow) (24.3.25)\n",
      "Requirement already satisfied: gast!=0.5.0,!=0.5.1,!=0.5.2,>=0.2.1 in c:\\src\\my\\uwf-idc6146-deep-learning\\lib\\site-packages (from tensorflow-intel==2.17.0->tensorflow) (0.6.0)\n",
      "Requirement already satisfied: google-pasta>=0.1.1 in c:\\src\\my\\uwf-idc6146-deep-learning\\lib\\site-packages (from tensorflow-intel==2.17.0->tensorflow) (0.2.0)\n",
      "Requirement already satisfied: h5py>=3.10.0 in c:\\src\\my\\uwf-idc6146-deep-learning\\lib\\site-packages (from tensorflow-intel==2.17.0->tensorflow) (3.11.0)\n",
      "Requirement already satisfied: libclang>=13.0.0 in c:\\src\\my\\uwf-idc6146-deep-learning\\lib\\site-packages (from tensorflow-intel==2.17.0->tensorflow) (18.1.1)\n",
      "Requirement already satisfied: ml-dtypes<0.5.0,>=0.3.1 in c:\\src\\my\\uwf-idc6146-deep-learning\\lib\\site-packages (from tensorflow-intel==2.17.0->tensorflow) (0.4.1)\n",
      "Requirement already satisfied: opt-einsum>=2.3.2 in c:\\src\\my\\uwf-idc6146-deep-learning\\lib\\site-packages (from tensorflow-intel==2.17.0->tensorflow) (3.3.0)\n",
      "Requirement already satisfied: packaging in c:\\src\\my\\uwf-idc6146-deep-learning\\lib\\site-packages (from tensorflow-intel==2.17.0->tensorflow) (24.1)\n",
      "Requirement already satisfied: protobuf!=4.21.0,!=4.21.1,!=4.21.2,!=4.21.3,!=4.21.4,!=4.21.5,<5.0.0dev,>=3.20.3 in c:\\src\\my\\uwf-idc6146-deep-learning\\lib\\site-packages (from tensorflow-intel==2.17.0->tensorflow) (4.25.4)\n",
      "Requirement already satisfied: requests<3,>=2.21.0 in c:\\src\\my\\uwf-idc6146-deep-learning\\lib\\site-packages (from tensorflow-intel==2.17.0->tensorflow) (2.32.3)\n",
      "Requirement already satisfied: setuptools in c:\\src\\my\\uwf-idc6146-deep-learning\\lib\\site-packages (from tensorflow-intel==2.17.0->tensorflow) (75.1.0)\n",
      "Requirement already satisfied: six>=1.12.0 in c:\\src\\my\\uwf-idc6146-deep-learning\\lib\\site-packages (from tensorflow-intel==2.17.0->tensorflow) (1.16.0)\n",
      "Requirement already satisfied: termcolor>=1.1.0 in c:\\src\\my\\uwf-idc6146-deep-learning\\lib\\site-packages (from tensorflow-intel==2.17.0->tensorflow) (2.4.0)\n",
      "Requirement already satisfied: typing-extensions>=3.6.6 in c:\\src\\my\\uwf-idc6146-deep-learning\\lib\\site-packages (from tensorflow-intel==2.17.0->tensorflow) (4.12.2)\n",
      "Requirement already satisfied: wrapt>=1.11.0 in c:\\src\\my\\uwf-idc6146-deep-learning\\lib\\site-packages (from tensorflow-intel==2.17.0->tensorflow) (1.16.0)\n",
      "Requirement already satisfied: grpcio<2.0,>=1.24.3 in c:\\src\\my\\uwf-idc6146-deep-learning\\lib\\site-packages (from tensorflow-intel==2.17.0->tensorflow) (1.66.1)\n",
      "Requirement already satisfied: tensorboard<2.18,>=2.17 in c:\\src\\my\\uwf-idc6146-deep-learning\\lib\\site-packages (from tensorflow-intel==2.17.0->tensorflow) (2.17.1)\n",
      "Requirement already satisfied: keras>=3.2.0 in c:\\src\\my\\uwf-idc6146-deep-learning\\lib\\site-packages (from tensorflow-intel==2.17.0->tensorflow) (3.5.0)\n",
      "Requirement already satisfied: numpy<2.0.0,>=1.26.0 in c:\\src\\my\\uwf-idc6146-deep-learning\\lib\\site-packages (from tensorflow-intel==2.17.0->tensorflow) (1.26.4)\n",
      "Requirement already satisfied: wheel<1.0,>=0.23.0 in c:\\src\\my\\uwf-idc6146-deep-learning\\lib\\site-packages (from astunparse>=1.6.0->tensorflow-intel==2.17.0->tensorflow) (0.44.0)\n",
      "Requirement already satisfied: rich in c:\\src\\my\\uwf-idc6146-deep-learning\\lib\\site-packages (from keras>=3.2.0->tensorflow-intel==2.17.0->tensorflow) (13.8.1)\n",
      "Requirement already satisfied: namex in c:\\src\\my\\uwf-idc6146-deep-learning\\lib\\site-packages (from keras>=3.2.0->tensorflow-intel==2.17.0->tensorflow) (0.0.8)\n",
      "Requirement already satisfied: optree in c:\\src\\my\\uwf-idc6146-deep-learning\\lib\\site-packages (from keras>=3.2.0->tensorflow-intel==2.17.0->tensorflow) (0.12.1)\n",
      "Requirement already satisfied: charset-normalizer<4,>=2 in c:\\src\\my\\uwf-idc6146-deep-learning\\lib\\site-packages (from requests<3,>=2.21.0->tensorflow-intel==2.17.0->tensorflow) (3.3.2)\n",
      "Requirement already satisfied: idna<4,>=2.5 in c:\\src\\my\\uwf-idc6146-deep-learning\\lib\\site-packages (from requests<3,>=2.21.0->tensorflow-intel==2.17.0->tensorflow) (3.10)\n",
      "Requirement already satisfied: urllib3<3,>=1.21.1 in c:\\src\\my\\uwf-idc6146-deep-learning\\lib\\site-packages (from requests<3,>=2.21.0->tensorflow-intel==2.17.0->tensorflow) (2.2.3)\n",
      "Requirement already satisfied: certifi>=2017.4.17 in c:\\src\\my\\uwf-idc6146-deep-learning\\lib\\site-packages (from requests<3,>=2.21.0->tensorflow-intel==2.17.0->tensorflow) (2024.8.30)\n",
      "Requirement already satisfied: markdown>=2.6.8 in c:\\src\\my\\uwf-idc6146-deep-learning\\lib\\site-packages (from tensorboard<2.18,>=2.17->tensorflow-intel==2.17.0->tensorflow) (3.7)\n",
      "Requirement already satisfied: tensorboard-data-server<0.8.0,>=0.7.0 in c:\\src\\my\\uwf-idc6146-deep-learning\\lib\\site-packages (from tensorboard<2.18,>=2.17->tensorflow-intel==2.17.0->tensorflow) (0.7.2)\n",
      "Requirement already satisfied: werkzeug>=1.0.1 in c:\\src\\my\\uwf-idc6146-deep-learning\\lib\\site-packages (from tensorboard<2.18,>=2.17->tensorflow-intel==2.17.0->tensorflow) (3.0.4)\n",
      "Requirement already satisfied: MarkupSafe>=2.1.1 in c:\\src\\my\\uwf-idc6146-deep-learning\\lib\\site-packages (from werkzeug>=1.0.1->tensorboard<2.18,>=2.17->tensorflow-intel==2.17.0->tensorflow) (2.1.5)\n",
      "Requirement already satisfied: markdown-it-py>=2.2.0 in c:\\src\\my\\uwf-idc6146-deep-learning\\lib\\site-packages (from rich->keras>=3.2.0->tensorflow-intel==2.17.0->tensorflow) (3.0.0)\n",
      "Requirement already satisfied: pygments<3.0.0,>=2.13.0 in c:\\src\\my\\uwf-idc6146-deep-learning\\lib\\site-packages (from rich->keras>=3.2.0->tensorflow-intel==2.17.0->tensorflow) (2.18.0)\n",
      "Requirement already satisfied: mdurl~=0.1 in c:\\src\\my\\uwf-idc6146-deep-learning\\lib\\site-packages (from markdown-it-py>=2.2.0->rich->keras>=3.2.0->tensorflow-intel==2.17.0->tensorflow) (0.1.2)\n",
      "Requirement already satisfied: pydot in c:\\src\\my\\uwf-idc6146-deep-learning\\lib\\site-packages (3.0.2)\n",
      "Requirement already satisfied: pyparsing>=3.0.9 in c:\\src\\my\\uwf-idc6146-deep-learning\\lib\\site-packages (from pydot) (3.1.4)\n"
     ]
    }
   ],
   "execution_count": 1
  },
  {
   "metadata": {
    "ExecuteTime": {
     "end_time": "2024-09-27T21:12:00.689375Z",
     "start_time": "2024-09-27T21:12:00.677649Z"
    }
   },
   "cell_type": "code",
   "source": [
    "import os\n",
    "\n",
    "image_dir = os.path.join(\"../data\", \"imagenet_224\")"
   ],
   "id": "c22435c9c71bbce",
   "outputs": [],
   "execution_count": 2
  },
  {
   "metadata": {
    "ExecuteTime": {
     "end_time": "2024-09-27T21:12:05.951998Z",
     "start_time": "2024-09-27T21:12:01.288977Z"
    }
   },
   "cell_type": "code",
   "source": "import tensorflow as tf",
   "id": "3fd60e43de95b1ca",
   "outputs": [],
   "execution_count": 3
  },
  {
   "metadata": {
    "ExecuteTime": {
     "end_time": "2024-09-27T21:12:52.400587Z",
     "start_time": "2024-09-27T21:12:52.395358Z"
    }
   },
   "cell_type": "code",
   "source": [
    "class_names = os.listdir(image_dir)\n",
    "num_classes = len(class_names)\n",
    "image_height = 224\n",
    "image_width = 224\n",
    "image_size = (image_height, image_width)\n",
    "batch_size = 32"
   ],
   "id": "95e50e6e62ed18a0",
   "outputs": [],
   "execution_count": 9
  },
  {
   "metadata": {
    "ExecuteTime": {
     "end_time": "2024-09-27T21:12:56.098899Z",
     "start_time": "2024-09-27T21:12:54.224766Z"
    }
   },
   "cell_type": "code",
   "source": [
    "training_set = tf.keras.utils.image_dataset_from_directory(\n",
    "    image_dir,\n",
    "    labels=\"inferred\",\n",
    "    label_mode=\"categorical\",\n",
    "    class_names=class_names,\n",
    "    validation_split=0.3,\n",
    "    subset=\"training\",\n",
    "    seed=123,\n",
    "    image_size=image_size,\n",
    "    batch_size=batch_size)\n",
    "\n",
    "validation_set = tf.keras.utils.image_dataset_from_directory(\n",
    "    image_dir,\n",
    "    labels=\"inferred\",\n",
    "    label_mode=\"categorical\",\n",
    "    class_names=class_names,\n",
    "    validation_split=0.2,\n",
    "    subset=\"validation\",\n",
    "    seed=123,\n",
    "    image_size=image_size,\n",
    "    batch_size=batch_size)\n"
   ],
   "id": "a4f0ba3210ceb56d",
   "outputs": [
    {
     "name": "stdout",
     "output_type": "stream",
     "text": [
      "Found 14738 files belonging to 10 classes.\n",
      "Using 10317 files for training.\n",
      "Found 14738 files belonging to 10 classes.\n",
      "Using 2947 files for validation.\n"
     ]
    }
   ],
   "execution_count": 10
  },
  {
   "metadata": {
    "ExecuteTime": {
     "end_time": "2024-09-27T21:12:57.005533Z",
     "start_time": "2024-09-27T21:12:56.980345Z"
    }
   },
   "cell_type": "code",
   "source": [
    "AUTOTUNE = tf.data.AUTOTUNE\n",
    "\n",
    "training_set = training_set.cache().prefetch(buffer_size=AUTOTUNE)\n",
    "validation_set = validation_set.cache().prefetch(buffer_size=AUTOTUNE)\n",
    "     "
   ],
   "id": "b4509333a71497e7",
   "outputs": [],
   "execution_count": 11
  },
  {
   "metadata": {
    "ExecuteTime": {
     "end_time": "2024-09-27T21:12:58.047093Z",
     "start_time": "2024-09-27T21:12:58.039900Z"
    }
   },
   "cell_type": "code",
   "source": [
    "from tensorflow.keras.layers import Input, Conv2D, MaxPool2D, Flatten, Dense, Dropout\n",
    "from tensorflow.keras.models import Model"
   ],
   "id": "27cb6bbd3072ec36",
   "outputs": [],
   "execution_count": 12
  },
  {
   "metadata": {
    "ExecuteTime": {
     "end_time": "2024-09-27T21:14:11.624880Z",
     "start_time": "2024-09-27T21:14:11.574579Z"
    }
   },
   "cell_type": "code",
   "source": [
    "input = Input(shape=(image_height, image_width, 3))\n",
    "\n",
    "x = Conv2D(filters=32, kernel_size=3, activation=\"relu\", padding=\"same\")(input)\n",
    "x = MaxPool2D(pool_size=2, strides=2)(x)\n",
    "x = Conv2D(filters=32, kernel_size=3, activation=\"relu\", padding=\"same\")(x)\n",
    "x = MaxPool2D(pool_size=2, strides=2)(x)\n",
    "x = Dropout(0.4)(x)\n",
    "x = Flatten()(x)\n",
    "x = Dense(units=128, activation=\"relu\")(x)\n",
    "\n",
    "output = Dense(units=num_classes, activation=\"softmax\")(x)\n",
    "\n",
    "model = Model(input, output)\n",
    "\n",
    "print(model.summary())\n",
    "\n"
   ],
   "id": "6498a340222069f7",
   "outputs": [
    {
     "data": {
      "text/plain": [
       "\u001B[1mModel: \"functional_1\"\u001B[0m\n"
      ],
      "text/html": [
       "<pre style=\"white-space:pre;overflow-x:auto;line-height:normal;font-family:Menlo,'DejaVu Sans Mono',consolas,'Courier New',monospace\"><span style=\"font-weight: bold\">Model: \"functional_1\"</span>\n",
       "</pre>\n"
      ]
     },
     "metadata": {},
     "output_type": "display_data"
    },
    {
     "data": {
      "text/plain": [
       "┏━━━━━━━━━━━━━━━━━━━━━━━━━━━━━━━━━┳━━━━━━━━━━━━━━━━━━━━━━━━┳━━━━━━━━━━━━━━━┓\n",
       "┃\u001B[1m \u001B[0m\u001B[1mLayer (type)                   \u001B[0m\u001B[1m \u001B[0m┃\u001B[1m \u001B[0m\u001B[1mOutput Shape          \u001B[0m\u001B[1m \u001B[0m┃\u001B[1m \u001B[0m\u001B[1m      Param #\u001B[0m\u001B[1m \u001B[0m┃\n",
       "┡━━━━━━━━━━━━━━━━━━━━━━━━━━━━━━━━━╇━━━━━━━━━━━━━━━━━━━━━━━━╇━━━━━━━━━━━━━━━┩\n",
       "│ input_layer_1 (\u001B[38;5;33mInputLayer\u001B[0m)      │ (\u001B[38;5;45mNone\u001B[0m, \u001B[38;5;34m224\u001B[0m, \u001B[38;5;34m224\u001B[0m, \u001B[38;5;34m3\u001B[0m)    │             \u001B[38;5;34m0\u001B[0m │\n",
       "├─────────────────────────────────┼────────────────────────┼───────────────┤\n",
       "│ conv2d_2 (\u001B[38;5;33mConv2D\u001B[0m)               │ (\u001B[38;5;45mNone\u001B[0m, \u001B[38;5;34m224\u001B[0m, \u001B[38;5;34m224\u001B[0m, \u001B[38;5;34m32\u001B[0m)   │           \u001B[38;5;34m896\u001B[0m │\n",
       "├─────────────────────────────────┼────────────────────────┼───────────────┤\n",
       "│ max_pooling2d_2 (\u001B[38;5;33mMaxPooling2D\u001B[0m)  │ (\u001B[38;5;45mNone\u001B[0m, \u001B[38;5;34m112\u001B[0m, \u001B[38;5;34m112\u001B[0m, \u001B[38;5;34m32\u001B[0m)   │             \u001B[38;5;34m0\u001B[0m │\n",
       "├─────────────────────────────────┼────────────────────────┼───────────────┤\n",
       "│ conv2d_3 (\u001B[38;5;33mConv2D\u001B[0m)               │ (\u001B[38;5;45mNone\u001B[0m, \u001B[38;5;34m112\u001B[0m, \u001B[38;5;34m112\u001B[0m, \u001B[38;5;34m32\u001B[0m)   │         \u001B[38;5;34m9,248\u001B[0m │\n",
       "├─────────────────────────────────┼────────────────────────┼───────────────┤\n",
       "│ max_pooling2d_3 (\u001B[38;5;33mMaxPooling2D\u001B[0m)  │ (\u001B[38;5;45mNone\u001B[0m, \u001B[38;5;34m56\u001B[0m, \u001B[38;5;34m56\u001B[0m, \u001B[38;5;34m32\u001B[0m)     │             \u001B[38;5;34m0\u001B[0m │\n",
       "├─────────────────────────────────┼────────────────────────┼───────────────┤\n",
       "│ dropout_1 (\u001B[38;5;33mDropout\u001B[0m)             │ (\u001B[38;5;45mNone\u001B[0m, \u001B[38;5;34m56\u001B[0m, \u001B[38;5;34m56\u001B[0m, \u001B[38;5;34m32\u001B[0m)     │             \u001B[38;5;34m0\u001B[0m │\n",
       "├─────────────────────────────────┼────────────────────────┼───────────────┤\n",
       "│ flatten_1 (\u001B[38;5;33mFlatten\u001B[0m)             │ (\u001B[38;5;45mNone\u001B[0m, \u001B[38;5;34m100352\u001B[0m)         │             \u001B[38;5;34m0\u001B[0m │\n",
       "├─────────────────────────────────┼────────────────────────┼───────────────┤\n",
       "│ dense_2 (\u001B[38;5;33mDense\u001B[0m)                 │ (\u001B[38;5;45mNone\u001B[0m, \u001B[38;5;34m128\u001B[0m)            │    \u001B[38;5;34m12,845,184\u001B[0m │\n",
       "├─────────────────────────────────┼────────────────────────┼───────────────┤\n",
       "│ dense_3 (\u001B[38;5;33mDense\u001B[0m)                 │ (\u001B[38;5;45mNone\u001B[0m, \u001B[38;5;34m10\u001B[0m)             │         \u001B[38;5;34m1,290\u001B[0m │\n",
       "└─────────────────────────────────┴────────────────────────┴───────────────┘\n"
      ],
      "text/html": [
       "<pre style=\"white-space:pre;overflow-x:auto;line-height:normal;font-family:Menlo,'DejaVu Sans Mono',consolas,'Courier New',monospace\">┏━━━━━━━━━━━━━━━━━━━━━━━━━━━━━━━━━┳━━━━━━━━━━━━━━━━━━━━━━━━┳━━━━━━━━━━━━━━━┓\n",
       "┃<span style=\"font-weight: bold\"> Layer (type)                    </span>┃<span style=\"font-weight: bold\"> Output Shape           </span>┃<span style=\"font-weight: bold\">       Param # </span>┃\n",
       "┡━━━━━━━━━━━━━━━━━━━━━━━━━━━━━━━━━╇━━━━━━━━━━━━━━━━━━━━━━━━╇━━━━━━━━━━━━━━━┩\n",
       "│ input_layer_1 (<span style=\"color: #0087ff; text-decoration-color: #0087ff\">InputLayer</span>)      │ (<span style=\"color: #00d7ff; text-decoration-color: #00d7ff\">None</span>, <span style=\"color: #00af00; text-decoration-color: #00af00\">224</span>, <span style=\"color: #00af00; text-decoration-color: #00af00\">224</span>, <span style=\"color: #00af00; text-decoration-color: #00af00\">3</span>)    │             <span style=\"color: #00af00; text-decoration-color: #00af00\">0</span> │\n",
       "├─────────────────────────────────┼────────────────────────┼───────────────┤\n",
       "│ conv2d_2 (<span style=\"color: #0087ff; text-decoration-color: #0087ff\">Conv2D</span>)               │ (<span style=\"color: #00d7ff; text-decoration-color: #00d7ff\">None</span>, <span style=\"color: #00af00; text-decoration-color: #00af00\">224</span>, <span style=\"color: #00af00; text-decoration-color: #00af00\">224</span>, <span style=\"color: #00af00; text-decoration-color: #00af00\">32</span>)   │           <span style=\"color: #00af00; text-decoration-color: #00af00\">896</span> │\n",
       "├─────────────────────────────────┼────────────────────────┼───────────────┤\n",
       "│ max_pooling2d_2 (<span style=\"color: #0087ff; text-decoration-color: #0087ff\">MaxPooling2D</span>)  │ (<span style=\"color: #00d7ff; text-decoration-color: #00d7ff\">None</span>, <span style=\"color: #00af00; text-decoration-color: #00af00\">112</span>, <span style=\"color: #00af00; text-decoration-color: #00af00\">112</span>, <span style=\"color: #00af00; text-decoration-color: #00af00\">32</span>)   │             <span style=\"color: #00af00; text-decoration-color: #00af00\">0</span> │\n",
       "├─────────────────────────────────┼────────────────────────┼───────────────┤\n",
       "│ conv2d_3 (<span style=\"color: #0087ff; text-decoration-color: #0087ff\">Conv2D</span>)               │ (<span style=\"color: #00d7ff; text-decoration-color: #00d7ff\">None</span>, <span style=\"color: #00af00; text-decoration-color: #00af00\">112</span>, <span style=\"color: #00af00; text-decoration-color: #00af00\">112</span>, <span style=\"color: #00af00; text-decoration-color: #00af00\">32</span>)   │         <span style=\"color: #00af00; text-decoration-color: #00af00\">9,248</span> │\n",
       "├─────────────────────────────────┼────────────────────────┼───────────────┤\n",
       "│ max_pooling2d_3 (<span style=\"color: #0087ff; text-decoration-color: #0087ff\">MaxPooling2D</span>)  │ (<span style=\"color: #00d7ff; text-decoration-color: #00d7ff\">None</span>, <span style=\"color: #00af00; text-decoration-color: #00af00\">56</span>, <span style=\"color: #00af00; text-decoration-color: #00af00\">56</span>, <span style=\"color: #00af00; text-decoration-color: #00af00\">32</span>)     │             <span style=\"color: #00af00; text-decoration-color: #00af00\">0</span> │\n",
       "├─────────────────────────────────┼────────────────────────┼───────────────┤\n",
       "│ dropout_1 (<span style=\"color: #0087ff; text-decoration-color: #0087ff\">Dropout</span>)             │ (<span style=\"color: #00d7ff; text-decoration-color: #00d7ff\">None</span>, <span style=\"color: #00af00; text-decoration-color: #00af00\">56</span>, <span style=\"color: #00af00; text-decoration-color: #00af00\">56</span>, <span style=\"color: #00af00; text-decoration-color: #00af00\">32</span>)     │             <span style=\"color: #00af00; text-decoration-color: #00af00\">0</span> │\n",
       "├─────────────────────────────────┼────────────────────────┼───────────────┤\n",
       "│ flatten_1 (<span style=\"color: #0087ff; text-decoration-color: #0087ff\">Flatten</span>)             │ (<span style=\"color: #00d7ff; text-decoration-color: #00d7ff\">None</span>, <span style=\"color: #00af00; text-decoration-color: #00af00\">100352</span>)         │             <span style=\"color: #00af00; text-decoration-color: #00af00\">0</span> │\n",
       "├─────────────────────────────────┼────────────────────────┼───────────────┤\n",
       "│ dense_2 (<span style=\"color: #0087ff; text-decoration-color: #0087ff\">Dense</span>)                 │ (<span style=\"color: #00d7ff; text-decoration-color: #00d7ff\">None</span>, <span style=\"color: #00af00; text-decoration-color: #00af00\">128</span>)            │    <span style=\"color: #00af00; text-decoration-color: #00af00\">12,845,184</span> │\n",
       "├─────────────────────────────────┼────────────────────────┼───────────────┤\n",
       "│ dense_3 (<span style=\"color: #0087ff; text-decoration-color: #0087ff\">Dense</span>)                 │ (<span style=\"color: #00d7ff; text-decoration-color: #00d7ff\">None</span>, <span style=\"color: #00af00; text-decoration-color: #00af00\">10</span>)             │         <span style=\"color: #00af00; text-decoration-color: #00af00\">1,290</span> │\n",
       "└─────────────────────────────────┴────────────────────────┴───────────────┘\n",
       "</pre>\n"
      ]
     },
     "metadata": {},
     "output_type": "display_data"
    },
    {
     "data": {
      "text/plain": [
       "\u001B[1m Total params: \u001B[0m\u001B[38;5;34m12,856,618\u001B[0m (49.04 MB)\n"
      ],
      "text/html": [
       "<pre style=\"white-space:pre;overflow-x:auto;line-height:normal;font-family:Menlo,'DejaVu Sans Mono',consolas,'Courier New',monospace\"><span style=\"font-weight: bold\"> Total params: </span><span style=\"color: #00af00; text-decoration-color: #00af00\">12,856,618</span> (49.04 MB)\n",
       "</pre>\n"
      ]
     },
     "metadata": {},
     "output_type": "display_data"
    },
    {
     "data": {
      "text/plain": [
       "\u001B[1m Trainable params: \u001B[0m\u001B[38;5;34m12,856,618\u001B[0m (49.04 MB)\n"
      ],
      "text/html": [
       "<pre style=\"white-space:pre;overflow-x:auto;line-height:normal;font-family:Menlo,'DejaVu Sans Mono',consolas,'Courier New',monospace\"><span style=\"font-weight: bold\"> Trainable params: </span><span style=\"color: #00af00; text-decoration-color: #00af00\">12,856,618</span> (49.04 MB)\n",
       "</pre>\n"
      ]
     },
     "metadata": {},
     "output_type": "display_data"
    },
    {
     "data": {
      "text/plain": [
       "\u001B[1m Non-trainable params: \u001B[0m\u001B[38;5;34m0\u001B[0m (0.00 B)\n"
      ],
      "text/html": [
       "<pre style=\"white-space:pre;overflow-x:auto;line-height:normal;font-family:Menlo,'DejaVu Sans Mono',consolas,'Courier New',monospace\"><span style=\"font-weight: bold\"> Non-trainable params: </span><span style=\"color: #00af00; text-decoration-color: #00af00\">0</span> (0.00 B)\n",
       "</pre>\n"
      ]
     },
     "metadata": {},
     "output_type": "display_data"
    },
    {
     "name": "stdout",
     "output_type": "stream",
     "text": [
      "None\n"
     ]
    }
   ],
   "execution_count": 16
  },
  {
   "metadata": {
    "ExecuteTime": {
     "end_time": "2024-09-27T21:14:19.676805Z",
     "start_time": "2024-09-27T21:14:19.637360Z"
    }
   },
   "cell_type": "code",
   "source": [
    "from tensorflow.keras.metrics import CategoricalAccuracy, TopKCategoricalAccuracy\n",
    "from tensorflow.keras.optimizers import Adam\n",
    "\n",
    "model.compile(optimizer=Adam(),\n",
    "              loss=tf.keras.losses.CategoricalCrossentropy(),\n",
    "              metrics=[\n",
    "                  CategoricalAccuracy(),\n",
    "                  TopKCategoricalAccuracy()\n",
    "              ])"
   ],
   "id": "61cc0491dbd91ca3",
   "outputs": [],
   "execution_count": 17
  },
  {
   "metadata": {
    "ExecuteTime": {
     "end_time": "2024-09-27T22:03:58.912838Z",
     "start_time": "2024-09-27T21:14:23.982375Z"
    }
   },
   "cell_type": "code",
   "source": [
    "epochs = 30\n",
    "history = model.fit(training_set, validation_data=validation_set, epochs=epochs)"
   ],
   "id": "1be1fc8ec7fac510",
   "outputs": [
    {
     "name": "stdout",
     "output_type": "stream",
     "text": [
      "Epoch 1/30\n",
      "\u001B[1m323/323\u001B[0m \u001B[32m━━━━━━━━━━━━━━━━━━━━\u001B[0m\u001B[37m\u001B[0m \u001B[1m86s\u001B[0m 264ms/step - categorical_accuracy: 0.1629 - loss: 127.4475 - top_k_categorical_accuracy: 0.6618 - val_categorical_accuracy: 0.2070 - val_loss: 2.1694 - val_top_k_categorical_accuracy: 0.7109\n",
      "Epoch 2/30\n",
      "\u001B[1m323/323\u001B[0m \u001B[32m━━━━━━━━━━━━━━━━━━━━\u001B[0m\u001B[37m\u001B[0m \u001B[1m95s\u001B[0m 293ms/step - categorical_accuracy: 0.2917 - loss: 2.0160 - top_k_categorical_accuracy: 0.7922 - val_categorical_accuracy: 0.2206 - val_loss: 2.2286 - val_top_k_categorical_accuracy: 0.7275\n",
      "Epoch 3/30\n",
      "\u001B[1m323/323\u001B[0m \u001B[32m━━━━━━━━━━━━━━━━━━━━\u001B[0m\u001B[37m\u001B[0m \u001B[1m100s\u001B[0m 309ms/step - categorical_accuracy: 0.4231 - loss: 1.6705 - top_k_categorical_accuracy: 0.8544 - val_categorical_accuracy: 0.2535 - val_loss: 2.3864 - val_top_k_categorical_accuracy: 0.7737\n",
      "Epoch 4/30\n",
      "\u001B[1m323/323\u001B[0m \u001B[32m━━━━━━━━━━━━━━━━━━━━\u001B[0m\u001B[37m\u001B[0m \u001B[1m96s\u001B[0m 298ms/step - categorical_accuracy: 0.5604 - loss: 1.3365 - top_k_categorical_accuracy: 0.9013 - val_categorical_accuracy: 0.2464 - val_loss: 2.8541 - val_top_k_categorical_accuracy: 0.7577\n",
      "Epoch 5/30\n",
      "\u001B[1m323/323\u001B[0m \u001B[32m━━━━━━━━━━━━━━━━━━━━\u001B[0m\u001B[37m\u001B[0m \u001B[1m97s\u001B[0m 301ms/step - categorical_accuracy: 0.6147 - loss: 1.1795 - top_k_categorical_accuracy: 0.9296 - val_categorical_accuracy: 0.2620 - val_loss: 3.0323 - val_top_k_categorical_accuracy: 0.7645\n",
      "Epoch 6/30\n",
      "\u001B[1m323/323\u001B[0m \u001B[32m━━━━━━━━━━━━━━━━━━━━\u001B[0m\u001B[37m\u001B[0m \u001B[1m98s\u001B[0m 304ms/step - categorical_accuracy: 0.7059 - loss: 0.8886 - top_k_categorical_accuracy: 0.9530 - val_categorical_accuracy: 0.2379 - val_loss: 3.8016 - val_top_k_categorical_accuracy: 0.7604\n",
      "Epoch 7/30\n",
      "\u001B[1m323/323\u001B[0m \u001B[32m━━━━━━━━━━━━━━━━━━━━\u001B[0m\u001B[37m\u001B[0m \u001B[1m99s\u001B[0m 307ms/step - categorical_accuracy: 0.7385 - loss: 0.8237 - top_k_categorical_accuracy: 0.9616 - val_categorical_accuracy: 0.2555 - val_loss: 3.9712 - val_top_k_categorical_accuracy: 0.7587\n",
      "Epoch 8/30\n",
      "\u001B[1m323/323\u001B[0m \u001B[32m━━━━━━━━━━━━━━━━━━━━\u001B[0m\u001B[37m\u001B[0m \u001B[1m100s\u001B[0m 309ms/step - categorical_accuracy: 0.7867 - loss: 0.7012 - top_k_categorical_accuracy: 0.9697 - val_categorical_accuracy: 0.2413 - val_loss: 4.0943 - val_top_k_categorical_accuracy: 0.7533\n",
      "Epoch 9/30\n",
      "\u001B[1m323/323\u001B[0m \u001B[32m━━━━━━━━━━━━━━━━━━━━\u001B[0m\u001B[37m\u001B[0m \u001B[1m101s\u001B[0m 311ms/step - categorical_accuracy: 0.8149 - loss: 0.6198 - top_k_categorical_accuracy: 0.9774 - val_categorical_accuracy: 0.2623 - val_loss: 4.2708 - val_top_k_categorical_accuracy: 0.7469\n",
      "Epoch 10/30\n",
      "\u001B[1m323/323\u001B[0m \u001B[32m━━━━━━━━━━━━━━━━━━━━\u001B[0m\u001B[37m\u001B[0m \u001B[1m100s\u001B[0m 308ms/step - categorical_accuracy: 0.8286 - loss: 0.5646 - top_k_categorical_accuracy: 0.9780 - val_categorical_accuracy: 0.2650 - val_loss: 4.3334 - val_top_k_categorical_accuracy: 0.7594\n",
      "Epoch 11/30\n",
      "\u001B[1m323/323\u001B[0m \u001B[32m━━━━━━━━━━━━━━━━━━━━\u001B[0m\u001B[37m\u001B[0m \u001B[1m98s\u001B[0m 304ms/step - categorical_accuracy: 0.8641 - loss: 0.4562 - top_k_categorical_accuracy: 0.9841 - val_categorical_accuracy: 0.2582 - val_loss: 4.4813 - val_top_k_categorical_accuracy: 0.7584\n",
      "Epoch 12/30\n",
      "\u001B[1m323/323\u001B[0m \u001B[32m━━━━━━━━━━━━━━━━━━━━\u001B[0m\u001B[37m\u001B[0m \u001B[1m100s\u001B[0m 309ms/step - categorical_accuracy: 0.8752 - loss: 0.4629 - top_k_categorical_accuracy: 0.9889 - val_categorical_accuracy: 0.2542 - val_loss: 5.0916 - val_top_k_categorical_accuracy: 0.7397\n",
      "Epoch 13/30\n",
      "\u001B[1m323/323\u001B[0m \u001B[32m━━━━━━━━━━━━━━━━━━━━\u001B[0m\u001B[37m\u001B[0m \u001B[1m102s\u001B[0m 317ms/step - categorical_accuracy: 0.8820 - loss: 0.4294 - top_k_categorical_accuracy: 0.9866 - val_categorical_accuracy: 0.2576 - val_loss: 4.8532 - val_top_k_categorical_accuracy: 0.7486\n",
      "Epoch 14/30\n",
      "\u001B[1m323/323\u001B[0m \u001B[32m━━━━━━━━━━━━━━━━━━━━\u001B[0m\u001B[37m\u001B[0m \u001B[1m99s\u001B[0m 306ms/step - categorical_accuracy: 0.8805 - loss: 0.4401 - top_k_categorical_accuracy: 0.9880 - val_categorical_accuracy: 0.2606 - val_loss: 5.0877 - val_top_k_categorical_accuracy: 0.7499\n",
      "Epoch 15/30\n",
      "\u001B[1m323/323\u001B[0m \u001B[32m━━━━━━━━━━━━━━━━━━━━\u001B[0m\u001B[37m\u001B[0m \u001B[1m97s\u001B[0m 300ms/step - categorical_accuracy: 0.9084 - loss: 0.3326 - top_k_categorical_accuracy: 0.9911 - val_categorical_accuracy: 0.2623 - val_loss: 5.1782 - val_top_k_categorical_accuracy: 0.7452\n",
      "Epoch 16/30\n",
      "\u001B[1m323/323\u001B[0m \u001B[32m━━━━━━━━━━━━━━━━━━━━\u001B[0m\u001B[37m\u001B[0m \u001B[1m105s\u001B[0m 324ms/step - categorical_accuracy: 0.9310 - loss: 0.2455 - top_k_categorical_accuracy: 0.9940 - val_categorical_accuracy: 0.2521 - val_loss: 5.1694 - val_top_k_categorical_accuracy: 0.7435\n",
      "Epoch 17/30\n",
      "\u001B[1m323/323\u001B[0m \u001B[32m━━━━━━━━━━━━━━━━━━━━\u001B[0m\u001B[37m\u001B[0m \u001B[1m97s\u001B[0m 301ms/step - categorical_accuracy: 0.9263 - loss: 0.2574 - top_k_categorical_accuracy: 0.9935 - val_categorical_accuracy: 0.2555 - val_loss: 5.5141 - val_top_k_categorical_accuracy: 0.7530\n",
      "Epoch 18/30\n",
      "\u001B[1m323/323\u001B[0m \u001B[32m━━━━━━━━━━━━━━━━━━━━\u001B[0m\u001B[37m\u001B[0m \u001B[1m102s\u001B[0m 316ms/step - categorical_accuracy: 0.9306 - loss: 0.2550 - top_k_categorical_accuracy: 0.9947 - val_categorical_accuracy: 0.2545 - val_loss: 5.2353 - val_top_k_categorical_accuracy: 0.7604\n",
      "Epoch 19/30\n",
      "\u001B[1m323/323\u001B[0m \u001B[32m━━━━━━━━━━━━━━━━━━━━\u001B[0m\u001B[37m\u001B[0m \u001B[1m100s\u001B[0m 309ms/step - categorical_accuracy: 0.9389 - loss: 0.2332 - top_k_categorical_accuracy: 0.9948 - val_categorical_accuracy: 0.2582 - val_loss: 5.3566 - val_top_k_categorical_accuracy: 0.7547\n",
      "Epoch 20/30\n",
      "\u001B[1m323/323\u001B[0m \u001B[32m━━━━━━━━━━━━━━━━━━━━\u001B[0m\u001B[37m\u001B[0m \u001B[1m108s\u001B[0m 335ms/step - categorical_accuracy: 0.9387 - loss: 0.2413 - top_k_categorical_accuracy: 0.9960 - val_categorical_accuracy: 0.2504 - val_loss: 5.7841 - val_top_k_categorical_accuracy: 0.7516\n",
      "Epoch 21/30\n",
      "\u001B[1m323/323\u001B[0m \u001B[32m━━━━━━━━━━━━━━━━━━━━\u001B[0m\u001B[37m\u001B[0m \u001B[1m103s\u001B[0m 318ms/step - categorical_accuracy: 0.9410 - loss: 0.2308 - top_k_categorical_accuracy: 0.9947 - val_categorical_accuracy: 0.2518 - val_loss: 6.2265 - val_top_k_categorical_accuracy: 0.7384\n",
      "Epoch 22/30\n",
      "\u001B[1m323/323\u001B[0m \u001B[32m━━━━━━━━━━━━━━━━━━━━\u001B[0m\u001B[37m\u001B[0m \u001B[1m99s\u001B[0m 305ms/step - categorical_accuracy: 0.9360 - loss: 0.2611 - top_k_categorical_accuracy: 0.9954 - val_categorical_accuracy: 0.2599 - val_loss: 6.0204 - val_top_k_categorical_accuracy: 0.7489\n",
      "Epoch 23/30\n",
      "\u001B[1m323/323\u001B[0m \u001B[32m━━━━━━━━━━━━━━━━━━━━\u001B[0m\u001B[37m\u001B[0m \u001B[1m102s\u001B[0m 316ms/step - categorical_accuracy: 0.9428 - loss: 0.2235 - top_k_categorical_accuracy: 0.9962 - val_categorical_accuracy: 0.2436 - val_loss: 6.4311 - val_top_k_categorical_accuracy: 0.7553\n",
      "Epoch 24/30\n",
      "\u001B[1m323/323\u001B[0m \u001B[32m━━━━━━━━━━━━━━━━━━━━\u001B[0m\u001B[37m\u001B[0m \u001B[1m101s\u001B[0m 311ms/step - categorical_accuracy: 0.9316 - loss: 0.2719 - top_k_categorical_accuracy: 0.9952 - val_categorical_accuracy: 0.2518 - val_loss: 5.9434 - val_top_k_categorical_accuracy: 0.7516\n",
      "Epoch 25/30\n",
      "\u001B[1m323/323\u001B[0m \u001B[32m━━━━━━━━━━━━━━━━━━━━\u001B[0m\u001B[37m\u001B[0m \u001B[1m100s\u001B[0m 309ms/step - categorical_accuracy: 0.9476 - loss: 0.2225 - top_k_categorical_accuracy: 0.9955 - val_categorical_accuracy: 0.2545 - val_loss: 6.1152 - val_top_k_categorical_accuracy: 0.7631\n",
      "Epoch 26/30\n",
      "\u001B[1m323/323\u001B[0m \u001B[32m━━━━━━━━━━━━━━━━━━━━\u001B[0m\u001B[37m\u001B[0m \u001B[1m100s\u001B[0m 310ms/step - categorical_accuracy: 0.9541 - loss: 0.2121 - top_k_categorical_accuracy: 0.9962 - val_categorical_accuracy: 0.2664 - val_loss: 6.7772 - val_top_k_categorical_accuracy: 0.7662\n",
      "Epoch 27/30\n",
      "\u001B[1m323/323\u001B[0m \u001B[32m━━━━━━━━━━━━━━━━━━━━\u001B[0m\u001B[37m\u001B[0m \u001B[1m99s\u001B[0m 307ms/step - categorical_accuracy: 0.9447 - loss: 0.2262 - top_k_categorical_accuracy: 0.9972 - val_categorical_accuracy: 0.2450 - val_loss: 7.2295 - val_top_k_categorical_accuracy: 0.7268\n",
      "Epoch 28/30\n",
      "\u001B[1m323/323\u001B[0m \u001B[32m━━━━━━━━━━━━━━━━━━━━\u001B[0m\u001B[37m\u001B[0m \u001B[1m97s\u001B[0m 299ms/step - categorical_accuracy: 0.9371 - loss: 0.2689 - top_k_categorical_accuracy: 0.9970 - val_categorical_accuracy: 0.2511 - val_loss: 7.3630 - val_top_k_categorical_accuracy: 0.7302\n",
      "Epoch 29/30\n",
      "\u001B[1m323/323\u001B[0m \u001B[32m━━━━━━━━━━━━━━━━━━━━\u001B[0m\u001B[37m\u001B[0m \u001B[1m96s\u001B[0m 298ms/step - categorical_accuracy: 0.9507 - loss: 0.2082 - top_k_categorical_accuracy: 0.9964 - val_categorical_accuracy: 0.2559 - val_loss: 8.1958 - val_top_k_categorical_accuracy: 0.7445\n",
      "Epoch 30/30\n",
      "\u001B[1m323/323\u001B[0m \u001B[32m━━━━━━━━━━━━━━━━━━━━\u001B[0m\u001B[37m\u001B[0m \u001B[1m96s\u001B[0m 296ms/step - categorical_accuracy: 0.9493 - loss: 0.2235 - top_k_categorical_accuracy: 0.9968 - val_categorical_accuracy: 0.2654 - val_loss: 8.1133 - val_top_k_categorical_accuracy: 0.7513\n"
     ]
    }
   ],
   "execution_count": 18
  },
  {
   "metadata": {
    "ExecuteTime": {
     "end_time": "2024-09-27T23:26:11.207160Z",
     "start_time": "2024-09-27T23:26:09.233582Z"
    }
   },
   "cell_type": "code",
   "source": [
    "import pickle\n",
    "\n",
    "with open(os.path.join(\"../data\", \"history_control.pkl\"), \"wb\") as file:\n",
    "    pickle.dump(history, file)"
   ],
   "id": "24c5f3232f602c65",
   "outputs": [],
   "execution_count": 19
  },
  {
   "metadata": {
    "ExecuteTime": {
     "end_time": "2024-09-27T23:27:03.958343Z",
     "start_time": "2024-09-27T23:27:03.792656Z"
    }
   },
   "cell_type": "code",
   "source": [
    "import matplotlib.pyplot as plt\n",
    "\n",
    "def plot_accuracy_curve(training_result, metric):\n",
    "    val_metric = f\"val_{metric}\"\n",
    "    train_perf = training_result.history[metric]\n",
    "    validation_perf = training_result.history[val_metric]\n",
    "    \n",
    "    plt.plot(train_perf, label=metric)\n",
    "    plt.plot(validation_perf, label=val_metric)\n",
    "    \n",
    "    max_val = max(validation_perf)\n",
    "    max_val_epoch = validation_perf.index(max_val)\n",
    "    \n",
    "    plt.xlabel(\"Epoch\")\n",
    "    plt.ylabel(metric)\n",
    "    plt.legend(loc=\"lower right\")\n",
    "    \n",
    "# plot_accuracy_curve(history, \"categorical_accuracy\")\n",
    "# plot_accuracy_curve(history, \"top_k_categorical_accuracy\")\n",
    "plot_accuracy_curve(history, \"loss\")"
   ],
   "id": "f59f23bbffe91880",
   "outputs": [
    {
     "data": {
      "text/plain": [
       "<Figure size 640x480 with 1 Axes>"
      ],
      "image/png": "[encoded data removed]"
     },
     "metadata": {},
     "output_type": "display_data"
    }
   ],
   "execution_count": 24
  },
  {
   "metadata": {},
   "cell_type": "code",
   "source": "",
   "id": "4102f1a2a8dddcd4",
   "outputs": [],
   "execution_count": null
  }
 ],
 "metadata": {
  "kernelspec": {
   "display_name": "Python 3",
   "language": "python",
   "name": "python3"
  },
  "language_info": {
   "codemirror_mode": {
    "name": "ipython",
    "version": 2
   },
   "file_extension": ".py",
   "mimetype": "text/x-python",
   "name": "python",
   "nbconvert_exporter": "python",
   "pygments_lexer": "ipython2",
   "version": "2.7.6"
  }
 },
 "nbformat": 4,
 "nbformat_minor": 5
}
