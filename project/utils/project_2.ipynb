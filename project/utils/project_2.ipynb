{
 "cells": [
  {
   "cell_type": "code",
   "execution_count": 1,
   "id": "initial_id",
   "metadata": {
    "ExecuteTime": {
     "end_time": "2024-09-27T21:11:48.435472Z",
     "start_time": "2024-09-27T21:11:43.410474Z"
    }
   },
   "outputs": [
    {
     "name": "stdout",
     "output_type": "stream",
     "text": [
      "Requirement already satisfied: tensorflow[and-cuda] in /home/farooqam/miniconda3/envs/myenv/lib/python3.12/site-packages (2.17.0)\n",
      "Requirement already satisfied: absl-py>=1.0.0 in /home/farooqam/miniconda3/envs/myenv/lib/python3.12/site-packages (from tensorflow[and-cuda]) (2.1.0)\n",
      "Requirement already satisfied: astunparse>=1.6.0 in /home/farooqam/miniconda3/envs/myenv/lib/python3.12/site-packages (from tensorflow[and-cuda]) (1.6.3)\n",
      "Requirement already satisfied: flatbuffers>=24.3.25 in /home/farooqam/miniconda3/envs/myenv/lib/python3.12/site-packages (from tensorflow[and-cuda]) (24.3.25)\n",
      "Requirement already satisfied: gast!=0.5.0,!=0.5.1,!=0.5.2,>=0.2.1 in /home/farooqam/miniconda3/envs/myenv/lib/python3.12/site-packages (from tensorflow[and-cuda]) (0.6.0)\n",
      "Requirement already satisfied: google-pasta>=0.1.1 in /home/farooqam/miniconda3/envs/myenv/lib/python3.12/site-packages (from tensorflow[and-cuda]) (0.2.0)\n",
      "Requirement already satisfied: h5py>=3.10.0 in /home/farooqam/miniconda3/envs/myenv/lib/python3.12/site-packages (from tensorflow[and-cuda]) (3.12.1)\n",
      "Requirement already satisfied: libclang>=13.0.0 in /home/farooqam/miniconda3/envs/myenv/lib/python3.12/site-packages (from tensorflow[and-cuda]) (18.1.1)\n",
      "Requirement already satisfied: ml-dtypes<0.5.0,>=0.3.1 in /home/farooqam/miniconda3/envs/myenv/lib/python3.12/site-packages (from tensorflow[and-cuda]) (0.4.1)\n",
      "Requirement already satisfied: opt-einsum>=2.3.2 in /home/farooqam/miniconda3/envs/myenv/lib/python3.12/site-packages (from tensorflow[and-cuda]) (3.4.0)\n",
      "Requirement already satisfied: packaging in /home/farooqam/miniconda3/envs/myenv/lib/python3.12/site-packages (from tensorflow[and-cuda]) (24.1)\n",
      "Requirement already satisfied: protobuf!=4.21.0,!=4.21.1,!=4.21.2,!=4.21.3,!=4.21.4,!=4.21.5,<5.0.0dev,>=3.20.3 in /home/farooqam/miniconda3/envs/myenv/lib/python3.12/site-packages (from tensorflow[and-cuda]) (4.25.5)\n",
      "Requirement already satisfied: requests<3,>=2.21.0 in /home/farooqam/miniconda3/envs/myenv/lib/python3.12/site-packages (from tensorflow[and-cuda]) (2.32.3)\n",
      "Requirement already satisfied: setuptools in /home/farooqam/miniconda3/envs/myenv/lib/python3.12/site-packages (from tensorflow[and-cuda]) (75.1.0)\n",
      "Requirement already satisfied: six>=1.12.0 in /home/farooqam/miniconda3/envs/myenv/lib/python3.12/site-packages (from tensorflow[and-cuda]) (1.16.0)\n",
      "Requirement already satisfied: termcolor>=1.1.0 in /home/farooqam/miniconda3/envs/myenv/lib/python3.12/site-packages (from tensorflow[and-cuda]) (2.4.0)\n",
      "Requirement already satisfied: typing-extensions>=3.6.6 in /home/farooqam/miniconda3/envs/myenv/lib/python3.12/site-packages (from tensorflow[and-cuda]) (4.12.2)\n",
      "Requirement already satisfied: wrapt>=1.11.0 in /home/farooqam/miniconda3/envs/myenv/lib/python3.12/site-packages (from tensorflow[and-cuda]) (1.16.0)\n",
      "Requirement already satisfied: grpcio<2.0,>=1.24.3 in /home/farooqam/miniconda3/envs/myenv/lib/python3.12/site-packages (from tensorflow[and-cuda]) (1.66.1)\n",
      "Requirement already satisfied: tensorboard<2.18,>=2.17 in /home/farooqam/miniconda3/envs/myenv/lib/python3.12/site-packages (from tensorflow[and-cuda]) (2.17.1)\n",
      "Requirement already satisfied: keras>=3.2.0 in /home/farooqam/miniconda3/envs/myenv/lib/python3.12/site-packages (from tensorflow[and-cuda]) (3.5.0)\n",
      "Requirement already satisfied: numpy<2.0.0,>=1.26.0 in /home/farooqam/miniconda3/envs/myenv/lib/python3.12/site-packages (from tensorflow[and-cuda]) (1.26.4)\n",
      "Requirement already satisfied: nvidia-cublas-cu12==12.3.4.1 in /home/farooqam/miniconda3/envs/myenv/lib/python3.12/site-packages (from tensorflow[and-cuda]) (12.3.4.1)\n",
      "Requirement already satisfied: nvidia-cuda-cupti-cu12==12.3.101 in /home/farooqam/miniconda3/envs/myenv/lib/python3.12/site-packages (from tensorflow[and-cuda]) (12.3.101)\n",
      "Requirement already satisfied: nvidia-cuda-nvcc-cu12==12.3.107 in /home/farooqam/miniconda3/envs/myenv/lib/python3.12/site-packages (from tensorflow[and-cuda]) (12.3.107)\n",
      "Requirement already satisfied: nvidia-cuda-nvrtc-cu12==12.3.107 in /home/farooqam/miniconda3/envs/myenv/lib/python3.12/site-packages (from tensorflow[and-cuda]) (12.3.107)\n",
      "Requirement already satisfied: nvidia-cuda-runtime-cu12==12.3.101 in /home/farooqam/miniconda3/envs/myenv/lib/python3.12/site-packages (from tensorflow[and-cuda]) (12.3.101)\n",
      "Requirement already satisfied: nvidia-cudnn-cu12==8.9.7.29 in /home/farooqam/miniconda3/envs/myenv/lib/python3.12/site-packages (from tensorflow[and-cuda]) (8.9.7.29)\n",
      "Requirement already satisfied: nvidia-cufft-cu12==11.0.12.1 in /home/farooqam/miniconda3/envs/myenv/lib/python3.12/site-packages (from tensorflow[and-cuda]) (11.0.12.1)\n",
      "Requirement already satisfied: nvidia-curand-cu12==10.3.4.107 in /home/farooqam/miniconda3/envs/myenv/lib/python3.12/site-packages (from tensorflow[and-cuda]) (10.3.4.107)\n",
      "Requirement already satisfied: nvidia-cusolver-cu12==11.5.4.101 in /home/farooqam/miniconda3/envs/myenv/lib/python3.12/site-packages (from tensorflow[and-cuda]) (11.5.4.101)\n",
      "Requirement already satisfied: nvidia-cusparse-cu12==12.2.0.103 in /home/farooqam/miniconda3/envs/myenv/lib/python3.12/site-packages (from tensorflow[and-cuda]) (12.2.0.103)\n",
      "Requirement already satisfied: nvidia-nccl-cu12==2.19.3 in /home/farooqam/miniconda3/envs/myenv/lib/python3.12/site-packages (from tensorflow[and-cuda]) (2.19.3)\n",
      "Requirement already satisfied: nvidia-nvjitlink-cu12==12.3.101 in /home/farooqam/miniconda3/envs/myenv/lib/python3.12/site-packages (from tensorflow[and-cuda]) (12.3.101)\n",
      "Requirement already satisfied: wheel<1.0,>=0.23.0 in /home/farooqam/miniconda3/envs/myenv/lib/python3.12/site-packages (from astunparse>=1.6.0->tensorflow[and-cuda]) (0.44.0)\n",
      "Requirement already satisfied: rich in /home/farooqam/miniconda3/envs/myenv/lib/python3.12/site-packages (from keras>=3.2.0->tensorflow[and-cuda]) (13.8.1)\n",
      "Requirement already satisfied: namex in /home/farooqam/miniconda3/envs/myenv/lib/python3.12/site-packages (from keras>=3.2.0->tensorflow[and-cuda]) (0.0.8)\n",
      "Requirement already satisfied: optree in /home/farooqam/miniconda3/envs/myenv/lib/python3.12/site-packages (from keras>=3.2.0->tensorflow[and-cuda]) (0.12.1)\n",
      "Requirement already satisfied: charset-normalizer<4,>=2 in /home/farooqam/miniconda3/envs/myenv/lib/python3.12/site-packages (from requests<3,>=2.21.0->tensorflow[and-cuda]) (3.3.2)\n",
      "Requirement already satisfied: idna<4,>=2.5 in /home/farooqam/miniconda3/envs/myenv/lib/python3.12/site-packages (from requests<3,>=2.21.0->tensorflow[and-cuda]) (3.10)\n",
      "Requirement already satisfied: urllib3<3,>=1.21.1 in /home/farooqam/miniconda3/envs/myenv/lib/python3.12/site-packages (from requests<3,>=2.21.0->tensorflow[and-cuda]) (2.2.3)\n",
      "Requirement already satisfied: certifi>=2017.4.17 in /home/farooqam/miniconda3/envs/myenv/lib/python3.12/site-packages (from requests<3,>=2.21.0->tensorflow[and-cuda]) (2024.8.30)\n",
      "Requirement already satisfied: markdown>=2.6.8 in /home/farooqam/miniconda3/envs/myenv/lib/python3.12/site-packages (from tensorboard<2.18,>=2.17->tensorflow[and-cuda]) (3.7)\n",
      "Requirement already satisfied: tensorboard-data-server<0.8.0,>=0.7.0 in /home/farooqam/miniconda3/envs/myenv/lib/python3.12/site-packages (from tensorboard<2.18,>=2.17->tensorflow[and-cuda]) (0.7.2)\n",
      "Requirement already satisfied: werkzeug>=1.0.1 in /home/farooqam/miniconda3/envs/myenv/lib/python3.12/site-packages (from tensorboard<2.18,>=2.17->tensorflow[and-cuda]) (3.0.4)\n",
      "Requirement already satisfied: MarkupSafe>=2.1.1 in /home/farooqam/miniconda3/envs/myenv/lib/python3.12/site-packages (from werkzeug>=1.0.1->tensorboard<2.18,>=2.17->tensorflow[and-cuda]) (2.1.5)\n",
      "Requirement already satisfied: markdown-it-py>=2.2.0 in /home/farooqam/miniconda3/envs/myenv/lib/python3.12/site-packages (from rich->keras>=3.2.0->tensorflow[and-cuda]) (3.0.0)\n",
      "Requirement already satisfied: pygments<3.0.0,>=2.13.0 in /home/farooqam/miniconda3/envs/myenv/lib/python3.12/site-packages (from rich->keras>=3.2.0->tensorflow[and-cuda]) (2.18.0)\n",
      "Requirement already satisfied: mdurl~=0.1 in /home/farooqam/miniconda3/envs/myenv/lib/python3.12/site-packages (from markdown-it-py>=2.2.0->rich->keras>=3.2.0->tensorflow[and-cuda]) (0.1.2)\n"
     ]
    }
   ],
   "source": [
    "# !pip install tensorflow\n",
    "!pip install tensorflow[and-cuda]"
   ]
  },
  {
   "cell_type": "code",
   "execution_count": 2,
   "id": "fa9d1e20-eea1-43d2-8ac7-bbf2bb2a5ad2",
   "metadata": {},
   "outputs": [
    {
     "name": "stderr",
     "output_type": "stream",
     "text": [
      "2024-09-27 20:24:33.321770: I tensorflow/core/util/port.cc:153] oneDNN custom operations are on. You may see slightly different numerical results due to floating-point round-off errors from different computation orders. To turn them off, set the environment variable `TF_ENABLE_ONEDNN_OPTS=0`.\n",
      "2024-09-27 20:24:33.331538: E external/local_xla/xla/stream_executor/cuda/cuda_fft.cc:485] Unable to register cuFFT factory: Attempting to register factory for plugin cuFFT when one has already been registered\n",
      "2024-09-27 20:24:33.342782: E external/local_xla/xla/stream_executor/cuda/cuda_dnn.cc:8454] Unable to register cuDNN factory: Attempting to register factory for plugin cuDNN when one has already been registered\n",
      "2024-09-27 20:24:33.345990: E external/local_xla/xla/stream_executor/cuda/cuda_blas.cc:1452] Unable to register cuBLAS factory: Attempting to register factory for plugin cuBLAS when one has already been registered\n",
      "2024-09-27 20:24:33.354677: I tensorflow/core/platform/cpu_feature_guard.cc:210] This TensorFlow binary is optimized to use available CPU instructions in performance-critical operations.\n",
      "To enable the following instructions: AVX2 AVX512F AVX512_VNNI FMA, in other operations, rebuild TensorFlow with the appropriate compiler flags.\n",
      "2024-09-27 20:24:33.986379: W tensorflow/compiler/tf2tensorrt/utils/py_utils.cc:38] TF-TRT Warning: Could not find TensorRT\n"
     ]
    }
   ],
   "source": [
    "import tensorflow as tf\n",
    "import os"
   ]
  },
  {
   "cell_type": "code",
   "execution_count": 3,
   "id": "8bd75629-28b5-4db6-8557-bab391fb459b",
   "metadata": {},
   "outputs": [],
   "source": [
    "from tensorflow.keras import mixed_precision\n",
    "mixed_precision.set_global_policy('mixed_float16')"
   ]
  },
  {
   "cell_type": "code",
   "execution_count": 4,
   "id": "11d6ee46-af6e-4774-a14a-2e1b3383c5ef",
   "metadata": {},
   "outputs": [
    {
     "name": "stderr",
     "output_type": "stream",
     "text": [
      "WARNING: All log messages before absl::InitializeLog() is called are written to STDERR\n",
      "I0000 00:00:1727493877.088380    7394 cuda_executor.cc:1001] could not open file to read NUMA node: /sys/bus/pci/devices/0000:01:00.0/numa_node\n",
      "Your kernel may have been built without NUMA support.\n",
      "I0000 00:00:1727493877.109863    7394 cuda_executor.cc:1001] could not open file to read NUMA node: /sys/bus/pci/devices/0000:01:00.0/numa_node\n",
      "Your kernel may have been built without NUMA support.\n",
      "I0000 00:00:1727493877.109901    7394 cuda_executor.cc:1001] could not open file to read NUMA node: /sys/bus/pci/devices/0000:01:00.0/numa_node\n",
      "Your kernel may have been built without NUMA support.\n"
     ]
    }
   ],
   "source": [
    "gpus = tf.config.experimental.list_physical_devices('GPU')\n",
    "\n",
    "if gpus:\n",
    "    try:\n",
    "        for gpu in gpus:\n",
    "            tf.config.experimental.set_memory_growth(gpu, True)\n",
    "    except RuntimeError as e:\n",
    "        print(e)"
   ]
  },
  {
   "cell_type": "code",
   "execution_count": 5,
   "id": "c22435c9c71bbce",
   "metadata": {
    "ExecuteTime": {
     "end_time": "2024-09-27T21:12:00.689375Z",
     "start_time": "2024-09-27T21:12:00.677649Z"
    }
   },
   "outputs": [],
   "source": [
    "image_dir = os.path.join(\"../data\", \"imagenet_224\")"
   ]
  },
  {
   "cell_type": "code",
   "execution_count": 6,
   "id": "95e50e6e62ed18a0",
   "metadata": {
    "ExecuteTime": {
     "end_time": "2024-09-27T21:12:52.400587Z",
     "start_time": "2024-09-27T21:12:52.395358Z"
    }
   },
   "outputs": [],
   "source": [
    "class_names = os.listdir(image_dir)\n",
    "num_classes = len(class_names)\n",
    "image_height = 224\n",
    "image_width = 224\n",
    "image_size = (image_height, image_width)\n",
    "batch_size = 1"
   ]
  },
  {
   "cell_type": "code",
   "execution_count": 7,
   "id": "a4f0ba3210ceb56d",
   "metadata": {
    "ExecuteTime": {
     "end_time": "2024-09-27T21:12:56.098899Z",
     "start_time": "2024-09-27T21:12:54.224766Z"
    }
   },
   "outputs": [
    {
     "name": "stdout",
     "output_type": "stream",
     "text": [
      "Found 14738 files belonging to 10 classes.\n",
      "Using 10317 files for training.\n"
     ]
    },
    {
     "name": "stderr",
     "output_type": "stream",
     "text": [
      "I0000 00:00:1727493882.119119    7394 cuda_executor.cc:1001] could not open file to read NUMA node: /sys/bus/pci/devices/0000:01:00.0/numa_node\n",
      "Your kernel may have been built without NUMA support.\n",
      "I0000 00:00:1727493882.119189    7394 cuda_executor.cc:1001] could not open file to read NUMA node: /sys/bus/pci/devices/0000:01:00.0/numa_node\n",
      "Your kernel may have been built without NUMA support.\n",
      "I0000 00:00:1727493882.119200    7394 cuda_executor.cc:1001] could not open file to read NUMA node: /sys/bus/pci/devices/0000:01:00.0/numa_node\n",
      "Your kernel may have been built without NUMA support.\n",
      "I0000 00:00:1727493882.308393    7394 cuda_executor.cc:1001] could not open file to read NUMA node: /sys/bus/pci/devices/0000:01:00.0/numa_node\n",
      "Your kernel may have been built without NUMA support.\n",
      "I0000 00:00:1727493882.308439    7394 cuda_executor.cc:1001] could not open file to read NUMA node: /sys/bus/pci/devices/0000:01:00.0/numa_node\n",
      "Your kernel may have been built without NUMA support.\n",
      "2024-09-27 20:24:42.308449: I tensorflow/core/common_runtime/gpu/gpu_device.cc:2112] Could not identify NUMA node of platform GPU id 0, defaulting to 0.  Your kernel may not have been built with NUMA support.\n",
      "I0000 00:00:1727493882.308478    7394 cuda_executor.cc:1001] could not open file to read NUMA node: /sys/bus/pci/devices/0000:01:00.0/numa_node\n",
      "Your kernel may have been built without NUMA support.\n",
      "2024-09-27 20:24:42.308498: I tensorflow/core/common_runtime/gpu/gpu_device.cc:2021] Created device /job:localhost/replica:0/task:0/device:GPU:0 with 1756 MB memory:  -> device: 0, name: NVIDIA GeForce RTX 3050 Ti Laptop GPU, pci bus id: 0000:01:00.0, compute capability: 8.6\n"
     ]
    },
    {
     "name": "stdout",
     "output_type": "stream",
     "text": [
      "Found 14738 files belonging to 10 classes.\n",
      "Using 2947 files for validation.\n"
     ]
    }
   ],
   "source": [
    "training_set = tf.keras.utils.image_dataset_from_directory(\n",
    "    image_dir,\n",
    "    labels=\"inferred\",\n",
    "    label_mode=\"categorical\",\n",
    "    class_names=class_names,\n",
    "    validation_split=0.3,\n",
    "    subset=\"training\",\n",
    "    seed=123,\n",
    "    image_size=image_size,\n",
    "    batch_size=batch_size)\n",
    "\n",
    "validation_set = tf.keras.utils.image_dataset_from_directory(\n",
    "    image_dir,\n",
    "    labels=\"inferred\",\n",
    "    label_mode=\"categorical\",\n",
    "    class_names=class_names,\n",
    "    validation_split=0.2,\n",
    "    subset=\"validation\",\n",
    "    seed=123,\n",
    "    image_size=image_size,\n",
    "    batch_size=batch_size)\n"
   ]
  },
  {
   "cell_type": "code",
   "execution_count": 8,
   "id": "b4509333a71497e7",
   "metadata": {
    "ExecuteTime": {
     "end_time": "2024-09-27T21:12:57.005533Z",
     "start_time": "2024-09-27T21:12:56.980345Z"
    }
   },
   "outputs": [],
   "source": [
    "AUTOTUNE = tf.data.AUTOTUNE\n",
    "\n",
    "training_set = training_set.cache().prefetch(buffer_size=AUTOTUNE)\n",
    "validation_set = validation_set.cache().prefetch(buffer_size=AUTOTUNE)     "
   ]
  },
  {
   "cell_type": "code",
   "execution_count": 9,
   "id": "27cb6bbd3072ec36",
   "metadata": {
    "ExecuteTime": {
     "end_time": "2024-09-27T21:12:58.047093Z",
     "start_time": "2024-09-27T21:12:58.039900Z"
    }
   },
   "outputs": [],
   "source": [
    "from tensorflow.keras.layers import Input, Conv2D, MaxPool2D, Flatten, Dense, Dropout\n",
    "from tensorflow.keras.models import Model"
   ]
  },
  {
   "cell_type": "code",
   "execution_count": 11,
   "id": "6498a340222069f7",
   "metadata": {
    "ExecuteTime": {
     "end_time": "2024-09-27T21:14:11.624880Z",
     "start_time": "2024-09-27T21:14:11.574579Z"
    }
   },
   "outputs": [
    {
     "data": {
      "text/html": [
       "<pre style=\"white-space:pre;overflow-x:auto;line-height:normal;font-family:Menlo,'DejaVu Sans Mono',consolas,'Courier New',monospace\"><span style=\"font-weight: bold\">Model: \"functional_1\"</span>\n",
       "</pre>\n"
      ],
      "text/plain": [
       "\u001b[1mModel: \"functional_1\"\u001b[0m\n"
      ]
     },
     "metadata": {},
     "output_type": "display_data"
    },
    {
     "data": {
      "text/html": [
       "<pre style=\"white-space:pre;overflow-x:auto;line-height:normal;font-family:Menlo,'DejaVu Sans Mono',consolas,'Courier New',monospace\">┏━━━━━━━━━━━━━━━━━━━━━━━━━━━━━━━━━┳━━━━━━━━━━━━━━━━━━━━━━━━┳━━━━━━━━━━━━━━━┓\n",
       "┃<span style=\"font-weight: bold\"> Layer (type)                    </span>┃<span style=\"font-weight: bold\"> Output Shape           </span>┃<span style=\"font-weight: bold\">       Param # </span>┃\n",
       "┡━━━━━━━━━━━━━━━━━━━━━━━━━━━━━━━━━╇━━━━━━━━━━━━━━━━━━━━━━━━╇━━━━━━━━━━━━━━━┩\n",
       "│ input_layer_1 (<span style=\"color: #0087ff; text-decoration-color: #0087ff\">InputLayer</span>)      │ (<span style=\"color: #00d7ff; text-decoration-color: #00d7ff\">None</span>, <span style=\"color: #00af00; text-decoration-color: #00af00\">224</span>, <span style=\"color: #00af00; text-decoration-color: #00af00\">224</span>, <span style=\"color: #00af00; text-decoration-color: #00af00\">3</span>)    │             <span style=\"color: #00af00; text-decoration-color: #00af00\">0</span> │\n",
       "├─────────────────────────────────┼────────────────────────┼───────────────┤\n",
       "│ cast_1 (<span style=\"color: #0087ff; text-decoration-color: #0087ff\">Cast</span>)                   │ (<span style=\"color: #00d7ff; text-decoration-color: #00d7ff\">None</span>, <span style=\"color: #00af00; text-decoration-color: #00af00\">224</span>, <span style=\"color: #00af00; text-decoration-color: #00af00\">224</span>, <span style=\"color: #00af00; text-decoration-color: #00af00\">3</span>)    │             <span style=\"color: #00af00; text-decoration-color: #00af00\">0</span> │\n",
       "├─────────────────────────────────┼────────────────────────┼───────────────┤\n",
       "│ conv2d_2 (<span style=\"color: #0087ff; text-decoration-color: #0087ff\">Conv2D</span>)               │ (<span style=\"color: #00d7ff; text-decoration-color: #00d7ff\">None</span>, <span style=\"color: #00af00; text-decoration-color: #00af00\">224</span>, <span style=\"color: #00af00; text-decoration-color: #00af00\">224</span>, <span style=\"color: #00af00; text-decoration-color: #00af00\">32</span>)   │           <span style=\"color: #00af00; text-decoration-color: #00af00\">896</span> │\n",
       "├─────────────────────────────────┼────────────────────────┼───────────────┤\n",
       "│ max_pooling2d_2 (<span style=\"color: #0087ff; text-decoration-color: #0087ff\">MaxPooling2D</span>)  │ (<span style=\"color: #00d7ff; text-decoration-color: #00d7ff\">None</span>, <span style=\"color: #00af00; text-decoration-color: #00af00\">112</span>, <span style=\"color: #00af00; text-decoration-color: #00af00\">112</span>, <span style=\"color: #00af00; text-decoration-color: #00af00\">32</span>)   │             <span style=\"color: #00af00; text-decoration-color: #00af00\">0</span> │\n",
       "├─────────────────────────────────┼────────────────────────┼───────────────┤\n",
       "│ conv2d_3 (<span style=\"color: #0087ff; text-decoration-color: #0087ff\">Conv2D</span>)               │ (<span style=\"color: #00d7ff; text-decoration-color: #00d7ff\">None</span>, <span style=\"color: #00af00; text-decoration-color: #00af00\">112</span>, <span style=\"color: #00af00; text-decoration-color: #00af00\">112</span>, <span style=\"color: #00af00; text-decoration-color: #00af00\">32</span>)   │         <span style=\"color: #00af00; text-decoration-color: #00af00\">9,248</span> │\n",
       "├─────────────────────────────────┼────────────────────────┼───────────────┤\n",
       "│ max_pooling2d_3 (<span style=\"color: #0087ff; text-decoration-color: #0087ff\">MaxPooling2D</span>)  │ (<span style=\"color: #00d7ff; text-decoration-color: #00d7ff\">None</span>, <span style=\"color: #00af00; text-decoration-color: #00af00\">56</span>, <span style=\"color: #00af00; text-decoration-color: #00af00\">56</span>, <span style=\"color: #00af00; text-decoration-color: #00af00\">32</span>)     │             <span style=\"color: #00af00; text-decoration-color: #00af00\">0</span> │\n",
       "├─────────────────────────────────┼────────────────────────┼───────────────┤\n",
       "│ dropout_1 (<span style=\"color: #0087ff; text-decoration-color: #0087ff\">Dropout</span>)             │ (<span style=\"color: #00d7ff; text-decoration-color: #00d7ff\">None</span>, <span style=\"color: #00af00; text-decoration-color: #00af00\">56</span>, <span style=\"color: #00af00; text-decoration-color: #00af00\">56</span>, <span style=\"color: #00af00; text-decoration-color: #00af00\">32</span>)     │             <span style=\"color: #00af00; text-decoration-color: #00af00\">0</span> │\n",
       "├─────────────────────────────────┼────────────────────────┼───────────────┤\n",
       "│ flatten_1 (<span style=\"color: #0087ff; text-decoration-color: #0087ff\">Flatten</span>)             │ (<span style=\"color: #00d7ff; text-decoration-color: #00d7ff\">None</span>, <span style=\"color: #00af00; text-decoration-color: #00af00\">100352</span>)         │             <span style=\"color: #00af00; text-decoration-color: #00af00\">0</span> │\n",
       "├─────────────────────────────────┼────────────────────────┼───────────────┤\n",
       "│ dense_2 (<span style=\"color: #0087ff; text-decoration-color: #0087ff\">Dense</span>)                 │ (<span style=\"color: #00d7ff; text-decoration-color: #00d7ff\">None</span>, <span style=\"color: #00af00; text-decoration-color: #00af00\">128</span>)            │    <span style=\"color: #00af00; text-decoration-color: #00af00\">12,845,184</span> │\n",
       "├─────────────────────────────────┼────────────────────────┼───────────────┤\n",
       "│ dense_3 (<span style=\"color: #0087ff; text-decoration-color: #0087ff\">Dense</span>)                 │ (<span style=\"color: #00d7ff; text-decoration-color: #00d7ff\">None</span>, <span style=\"color: #00af00; text-decoration-color: #00af00\">10</span>)             │         <span style=\"color: #00af00; text-decoration-color: #00af00\">1,290</span> │\n",
       "└─────────────────────────────────┴────────────────────────┴───────────────┘\n",
       "</pre>\n"
      ],
      "text/plain": [
       "┏━━━━━━━━━━━━━━━━━━━━━━━━━━━━━━━━━┳━━━━━━━━━━━━━━━━━━━━━━━━┳━━━━━━━━━━━━━━━┓\n",
       "┃\u001b[1m \u001b[0m\u001b[1mLayer (type)                   \u001b[0m\u001b[1m \u001b[0m┃\u001b[1m \u001b[0m\u001b[1mOutput Shape          \u001b[0m\u001b[1m \u001b[0m┃\u001b[1m \u001b[0m\u001b[1m      Param #\u001b[0m\u001b[1m \u001b[0m┃\n",
       "┡━━━━━━━━━━━━━━━━━━━━━━━━━━━━━━━━━╇━━━━━━━━━━━━━━━━━━━━━━━━╇━━━━━━━━━━━━━━━┩\n",
       "│ input_layer_1 (\u001b[38;5;33mInputLayer\u001b[0m)      │ (\u001b[38;5;45mNone\u001b[0m, \u001b[38;5;34m224\u001b[0m, \u001b[38;5;34m224\u001b[0m, \u001b[38;5;34m3\u001b[0m)    │             \u001b[38;5;34m0\u001b[0m │\n",
       "├─────────────────────────────────┼────────────────────────┼───────────────┤\n",
       "│ cast_1 (\u001b[38;5;33mCast\u001b[0m)                   │ (\u001b[38;5;45mNone\u001b[0m, \u001b[38;5;34m224\u001b[0m, \u001b[38;5;34m224\u001b[0m, \u001b[38;5;34m3\u001b[0m)    │             \u001b[38;5;34m0\u001b[0m │\n",
       "├─────────────────────────────────┼────────────────────────┼───────────────┤\n",
       "│ conv2d_2 (\u001b[38;5;33mConv2D\u001b[0m)               │ (\u001b[38;5;45mNone\u001b[0m, \u001b[38;5;34m224\u001b[0m, \u001b[38;5;34m224\u001b[0m, \u001b[38;5;34m32\u001b[0m)   │           \u001b[38;5;34m896\u001b[0m │\n",
       "├─────────────────────────────────┼────────────────────────┼───────────────┤\n",
       "│ max_pooling2d_2 (\u001b[38;5;33mMaxPooling2D\u001b[0m)  │ (\u001b[38;5;45mNone\u001b[0m, \u001b[38;5;34m112\u001b[0m, \u001b[38;5;34m112\u001b[0m, \u001b[38;5;34m32\u001b[0m)   │             \u001b[38;5;34m0\u001b[0m │\n",
       "├─────────────────────────────────┼────────────────────────┼───────────────┤\n",
       "│ conv2d_3 (\u001b[38;5;33mConv2D\u001b[0m)               │ (\u001b[38;5;45mNone\u001b[0m, \u001b[38;5;34m112\u001b[0m, \u001b[38;5;34m112\u001b[0m, \u001b[38;5;34m32\u001b[0m)   │         \u001b[38;5;34m9,248\u001b[0m │\n",
       "├─────────────────────────────────┼────────────────────────┼───────────────┤\n",
       "│ max_pooling2d_3 (\u001b[38;5;33mMaxPooling2D\u001b[0m)  │ (\u001b[38;5;45mNone\u001b[0m, \u001b[38;5;34m56\u001b[0m, \u001b[38;5;34m56\u001b[0m, \u001b[38;5;34m32\u001b[0m)     │             \u001b[38;5;34m0\u001b[0m │\n",
       "├─────────────────────────────────┼────────────────────────┼───────────────┤\n",
       "│ dropout_1 (\u001b[38;5;33mDropout\u001b[0m)             │ (\u001b[38;5;45mNone\u001b[0m, \u001b[38;5;34m56\u001b[0m, \u001b[38;5;34m56\u001b[0m, \u001b[38;5;34m32\u001b[0m)     │             \u001b[38;5;34m0\u001b[0m │\n",
       "├─────────────────────────────────┼────────────────────────┼───────────────┤\n",
       "│ flatten_1 (\u001b[38;5;33mFlatten\u001b[0m)             │ (\u001b[38;5;45mNone\u001b[0m, \u001b[38;5;34m100352\u001b[0m)         │             \u001b[38;5;34m0\u001b[0m │\n",
       "├─────────────────────────────────┼────────────────────────┼───────────────┤\n",
       "│ dense_2 (\u001b[38;5;33mDense\u001b[0m)                 │ (\u001b[38;5;45mNone\u001b[0m, \u001b[38;5;34m128\u001b[0m)            │    \u001b[38;5;34m12,845,184\u001b[0m │\n",
       "├─────────────────────────────────┼────────────────────────┼───────────────┤\n",
       "│ dense_3 (\u001b[38;5;33mDense\u001b[0m)                 │ (\u001b[38;5;45mNone\u001b[0m, \u001b[38;5;34m10\u001b[0m)             │         \u001b[38;5;34m1,290\u001b[0m │\n",
       "└─────────────────────────────────┴────────────────────────┴───────────────┘\n"
      ]
     },
     "metadata": {},
     "output_type": "display_data"
    },
    {
     "data": {
      "text/html": [
       "<pre style=\"white-space:pre;overflow-x:auto;line-height:normal;font-family:Menlo,'DejaVu Sans Mono',consolas,'Courier New',monospace\"><span style=\"font-weight: bold\"> Total params: </span><span style=\"color: #00af00; text-decoration-color: #00af00\">12,856,618</span> (49.04 MB)\n",
       "</pre>\n"
      ],
      "text/plain": [
       "\u001b[1m Total params: \u001b[0m\u001b[38;5;34m12,856,618\u001b[0m (49.04 MB)\n"
      ]
     },
     "metadata": {},
     "output_type": "display_data"
    },
    {
     "data": {
      "text/html": [
       "<pre style=\"white-space:pre;overflow-x:auto;line-height:normal;font-family:Menlo,'DejaVu Sans Mono',consolas,'Courier New',monospace\"><span style=\"font-weight: bold\"> Trainable params: </span><span style=\"color: #00af00; text-decoration-color: #00af00\">12,856,618</span> (49.04 MB)\n",
       "</pre>\n"
      ],
      "text/plain": [
       "\u001b[1m Trainable params: \u001b[0m\u001b[38;5;34m12,856,618\u001b[0m (49.04 MB)\n"
      ]
     },
     "metadata": {},
     "output_type": "display_data"
    },
    {
     "data": {
      "text/html": [
       "<pre style=\"white-space:pre;overflow-x:auto;line-height:normal;font-family:Menlo,'DejaVu Sans Mono',consolas,'Courier New',monospace\"><span style=\"font-weight: bold\"> Non-trainable params: </span><span style=\"color: #00af00; text-decoration-color: #00af00\">0</span> (0.00 B)\n",
       "</pre>\n"
      ],
      "text/plain": [
       "\u001b[1m Non-trainable params: \u001b[0m\u001b[38;5;34m0\u001b[0m (0.00 B)\n"
      ]
     },
     "metadata": {},
     "output_type": "display_data"
    },
    {
     "name": "stdout",
     "output_type": "stream",
     "text": [
      "None\n"
     ]
    }
   ],
   "source": [
    "input = Input(shape=(image_height, image_width, 3))\n",
    "\n",
    "x = Conv2D(filters=32, kernel_size=3, activation=\"relu\", padding=\"same\")(input)\n",
    "x = MaxPool2D(pool_size=2, strides=2)(x)\n",
    "x = Conv2D(filters=32, kernel_size=3, activation=\"relu\", padding=\"same\")(x)\n",
    "x = MaxPool2D(pool_size=2, strides=2)(x)\n",
    "x = Dropout(0.4)(x)\n",
    "x = Flatten()(x)\n",
    "x = Dense(units=128, activation=\"relu\")(x)\n",
    "\n",
    "output = Dense(units=num_classes, activation=\"softmax\")(x)\n",
    "\n",
    "model = Model(input, output)\n",
    "\n",
    "print(model.summary())\n",
    "\n"
   ]
  },
  {
   "cell_type": "code",
   "execution_count": 14,
   "id": "61cc0491dbd91ca3",
   "metadata": {
    "ExecuteTime": {
     "end_time": "2024-09-27T21:14:19.676805Z",
     "start_time": "2024-09-27T21:14:19.637360Z"
    }
   },
   "outputs": [],
   "source": [
    "from tensorflow.keras.metrics import CategoricalAccuracy, TopKCategoricalAccuracy\n",
    "from tensorflow.keras.optimizers import Adam\n",
    "\n",
    "model.compile(optimizer=Adam(),\n",
    "              loss=tf.keras.losses.CategoricalCrossentropy(),\n",
    "              metrics=[\n",
    "                  CategoricalAccuracy(),\n",
    "                  # TopKCategoricalAccuracy()\n",
    "              ])"
   ]
  },
  {
   "cell_type": "code",
   "execution_count": null,
   "id": "1be1fc8ec7fac510",
   "metadata": {
    "ExecuteTime": {
     "end_time": "2024-09-27T22:03:58.912838Z",
     "start_time": "2024-09-27T21:14:23.982375Z"
    }
   },
   "outputs": [
    {
     "name": "stdout",
     "output_type": "stream",
     "text": [
      "Epoch 1/30\n"
     ]
    },
    {
     "name": "stderr",
     "output_type": "stream",
     "text": [
      "WARNING: All log messages before absl::InitializeLog() is called are written to STDERR\n",
      "I0000 00:00:1727493916.089628    7664 service.cc:146] XLA service 0x7f077c00b100 initialized for platform CUDA (this does not guarantee that XLA will be used). Devices:\n",
      "I0000 00:00:1727493916.089664    7664 service.cc:154]   StreamExecutor device (0): NVIDIA GeForce RTX 3050 Ti Laptop GPU, Compute Capability 8.6\n",
      "2024-09-27 20:25:16.118254: I tensorflow/compiler/mlir/tensorflow/utils/dump_mlir_util.cc:268] disabling MLIR crash reproducer, set env var `MLIR_CRASH_REPRODUCER_DIRECTORY` to enable.\n",
      "2024-09-27 20:25:16.253317: I external/local_xla/xla/stream_executor/cuda/cuda_dnn.cc:531] Loaded cuDNN version 8907\n"
     ]
    },
    {
     "name": "stdout",
     "output_type": "stream",
     "text": [
      "\u001b[1m   33/10317\u001b[0m \u001b[37m━━━━━━━━━━━━━━━━━━━━\u001b[0m \u001b[1m49s\u001b[0m 5ms/step - categorical_accuracy: 0.0538 - loss: 14.3169    "
     ]
    },
    {
     "name": "stderr",
     "output_type": "stream",
     "text": [
      "I0000 00:00:1727493919.380791    7664 device_compiler.h:188] Compiled cluster using XLA!  This line is logged at most once for the lifetime of the process.\n"
     ]
    },
    {
     "name": "stdout",
     "output_type": "stream",
     "text": [
      "\u001b[1m 1761/10317\u001b[0m \u001b[32m━━━\u001b[0m\u001b[37m━━━━━━━━━━━━━━━━━\u001b[0m \u001b[1m42s\u001b[0m 5ms/step - categorical_accuracy: 0.1018 - loss: 14.3386"
     ]
    },
    {
     "name": "stderr",
     "output_type": "stream",
     "text": [
      "2024-09-27 20:25:28.250697: E external/local_xla/xla/stream_executor/cuda/cuda_driver.cc:1641] failed to alloc 1073741824 bytes on host: CUDA_ERROR_OUT_OF_MEMORY: out of memory\n",
      "2024-09-27 20:25:28.250754: W external/local_xla/xla/stream_executor/integrations/device_host_allocator.h:61] could not allocate pinned host memory of size: 1073741824\n",
      "2024-09-27 20:25:28.346803: E external/local_xla/xla/stream_executor/cuda/cuda_driver.cc:1641] failed to alloc 966367744 bytes on host: CUDA_ERROR_OUT_OF_MEMORY: out of memory\n",
      "2024-09-27 20:25:28.346850: W external/local_xla/xla/stream_executor/integrations/device_host_allocator.h:61] could not allocate pinned host memory of size: 966367744\n",
      "2024-09-27 20:25:28.441204: E external/local_xla/xla/stream_executor/cuda/cuda_driver.cc:1641] failed to alloc 869731072 bytes on host: CUDA_ERROR_OUT_OF_MEMORY: out of memory\n",
      "2024-09-27 20:25:28.441247: W external/local_xla/xla/stream_executor/integrations/device_host_allocator.h:61] could not allocate pinned host memory of size: 869731072\n",
      "2024-09-27 20:25:28.540409: E external/local_xla/xla/stream_executor/cuda/cuda_driver.cc:1641] failed to alloc 782758144 bytes on host: CUDA_ERROR_OUT_OF_MEMORY: out of memory\n",
      "2024-09-27 20:25:28.540457: W external/local_xla/xla/stream_executor/integrations/device_host_allocator.h:61] could not allocate pinned host memory of size: 782758144\n",
      "2024-09-27 20:25:28.637690: E external/local_xla/xla/stream_executor/cuda/cuda_driver.cc:1641] failed to alloc 704482304 bytes on host: CUDA_ERROR_OUT_OF_MEMORY: out of memory\n",
      "2024-09-27 20:25:28.637744: W external/local_xla/xla/stream_executor/integrations/device_host_allocator.h:61] could not allocate pinned host memory of size: 704482304\n",
      "2024-09-27 20:25:28.735814: E external/local_xla/xla/stream_executor/cuda/cuda_driver.cc:1641] failed to alloc 634034176 bytes on host: CUDA_ERROR_OUT_OF_MEMORY: out of memory\n",
      "2024-09-27 20:25:28.735861: W external/local_xla/xla/stream_executor/integrations/device_host_allocator.h:61] could not allocate pinned host memory of size: 634034176\n",
      "2024-09-27 20:25:28.837227: E external/local_xla/xla/stream_executor/cuda/cuda_driver.cc:1641] failed to alloc 570630912 bytes on host: CUDA_ERROR_OUT_OF_MEMORY: out of memory\n",
      "2024-09-27 20:25:28.837291: W external/local_xla/xla/stream_executor/integrations/device_host_allocator.h:61] could not allocate pinned host memory of size: 570630912\n",
      "2024-09-27 20:25:28.935007: E external/local_xla/xla/stream_executor/cuda/cuda_driver.cc:1641] failed to alloc 513568000 bytes on host: CUDA_ERROR_OUT_OF_MEMORY: out of memory\n",
      "2024-09-27 20:25:28.935050: W external/local_xla/xla/stream_executor/integrations/device_host_allocator.h:61] could not allocate pinned host memory of size: 513568000\n",
      "2024-09-27 20:25:29.052499: E external/local_xla/xla/stream_executor/cuda/cuda_driver.cc:1641] failed to alloc 462211328 bytes on host: CUDA_ERROR_OUT_OF_MEMORY: out of memory\n",
      "2024-09-27 20:25:29.052549: W external/local_xla/xla/stream_executor/integrations/device_host_allocator.h:61] could not allocate pinned host memory of size: 462211328\n",
      "2024-09-27 20:25:29.152401: E external/local_xla/xla/stream_executor/cuda/cuda_driver.cc:1641] failed to alloc 415990272 bytes on host: CUDA_ERROR_OUT_OF_MEMORY: out of memory\n",
      "2024-09-27 20:25:29.152446: W external/local_xla/xla/stream_executor/integrations/device_host_allocator.h:61] could not allocate pinned host memory of size: 415990272\n",
      "2024-09-27 20:25:29.246714: E external/local_xla/xla/stream_executor/cuda/cuda_driver.cc:1641] failed to alloc 374391296 bytes on host: CUDA_ERROR_OUT_OF_MEMORY: out of memory\n",
      "2024-09-27 20:25:29.246755: W external/local_xla/xla/stream_executor/integrations/device_host_allocator.h:61] could not allocate pinned host memory of size: 374391296\n",
      "2024-09-27 20:25:29.343456: E external/local_xla/xla/stream_executor/cuda/cuda_driver.cc:1641] failed to alloc 336952320 bytes on host: CUDA_ERROR_OUT_OF_MEMORY: out of memory\n",
      "2024-09-27 20:25:29.343484: W external/local_xla/xla/stream_executor/integrations/device_host_allocator.h:61] could not allocate pinned host memory of size: 336952320\n",
      "2024-09-27 20:25:29.438404: E external/local_xla/xla/stream_executor/cuda/cuda_driver.cc:1641] failed to alloc 303257088 bytes on host: CUDA_ERROR_OUT_OF_MEMORY: out of memory\n",
      "2024-09-27 20:25:29.438430: W external/local_xla/xla/stream_executor/integrations/device_host_allocator.h:61] could not allocate pinned host memory of size: 303257088\n",
      "2024-09-27 20:25:29.530887: E external/local_xla/xla/stream_executor/cuda/cuda_driver.cc:1641] failed to alloc 272931584 bytes on host: CUDA_ERROR_OUT_OF_MEMORY: out of memory\n",
      "2024-09-27 20:25:29.530916: W external/local_xla/xla/stream_executor/integrations/device_host_allocator.h:61] could not allocate pinned host memory of size: 272931584\n",
      "2024-09-27 20:25:29.623167: E external/local_xla/xla/stream_executor/cuda/cuda_driver.cc:1641] failed to alloc 245638656 bytes on host: CUDA_ERROR_OUT_OF_MEMORY: out of memory\n",
      "2024-09-27 20:25:29.623194: W external/local_xla/xla/stream_executor/integrations/device_host_allocator.h:61] could not allocate pinned host memory of size: 245638656\n",
      "2024-09-27 20:25:29.718653: E external/local_xla/xla/stream_executor/cuda/cuda_driver.cc:1641] failed to alloc 221074944 bytes on host: CUDA_ERROR_OUT_OF_MEMORY: out of memory\n",
      "2024-09-27 20:25:29.718685: W external/local_xla/xla/stream_executor/integrations/device_host_allocator.h:61] could not allocate pinned host memory of size: 221074944\n",
      "2024-09-27 20:25:29.816053: E external/local_xla/xla/stream_executor/cuda/cuda_driver.cc:1641] failed to alloc 198967552 bytes on host: CUDA_ERROR_OUT_OF_MEMORY: out of memory\n",
      "2024-09-27 20:25:29.816081: W external/local_xla/xla/stream_executor/integrations/device_host_allocator.h:61] could not allocate pinned host memory of size: 198967552\n",
      "2024-09-27 20:25:29.915429: E external/local_xla/xla/stream_executor/cuda/cuda_driver.cc:1641] failed to alloc 179070976 bytes on host: CUDA_ERROR_OUT_OF_MEMORY: out of memory\n",
      "2024-09-27 20:25:29.915470: W external/local_xla/xla/stream_executor/integrations/device_host_allocator.h:61] could not allocate pinned host memory of size: 179070976\n",
      "2024-09-27 20:25:30.007294: E external/local_xla/xla/stream_executor/cuda/cuda_driver.cc:1641] failed to alloc 161164032 bytes on host: CUDA_ERROR_OUT_OF_MEMORY: out of memory\n",
      "2024-09-27 20:25:30.007336: W external/local_xla/xla/stream_executor/integrations/device_host_allocator.h:61] could not allocate pinned host memory of size: 161164032\n"
     ]
    },
    {
     "name": "stdout",
     "output_type": "stream",
     "text": [
      "\u001b[1m 1780/10317\u001b[0m \u001b[32m━━━\u001b[0m\u001b[37m━━━━━━━━━━━━━━━━━\u001b[0m \u001b[1m52s\u001b[0m 6ms/step - categorical_accuracy: 0.1018 - loss: 14.3400"
     ]
    },
    {
     "name": "stderr",
     "output_type": "stream",
     "text": [
      "2024-09-27 20:25:30.106321: E external/local_xla/xla/stream_executor/cuda/cuda_driver.cc:1641] failed to alloc 145047808 bytes on host: CUDA_ERROR_OUT_OF_MEMORY: out of memory\n",
      "2024-09-27 20:25:30.106366: W external/local_xla/xla/stream_executor/integrations/device_host_allocator.h:61] could not allocate pinned host memory of size: 145047808\n"
     ]
    },
    {
     "name": "stdout",
     "output_type": "stream",
     "text": [
      "\u001b[1m 1975/10317\u001b[0m \u001b[32m━━━\u001b[0m\u001b[37m━━━━━━━━━━━━━━━━━\u001b[0m \u001b[1m50s\u001b[0m 6ms/step - categorical_accuracy: 0.1018 - loss: 14.3512"
     ]
    },
    {
     "name": "stderr",
     "output_type": "stream",
     "text": [
      "2024-09-27 20:25:31.311458: E external/local_xla/xla/stream_executor/cuda/cuda_driver.cc:1641] failed to alloc 2147483648 bytes on host: CUDA_ERROR_OUT_OF_MEMORY: out of memory\n",
      "2024-09-27 20:25:31.311512: W external/local_xla/xla/stream_executor/integrations/device_host_allocator.h:61] could not allocate pinned host memory of size: 2147483648\n",
      "2024-09-27 20:25:31.322731: E external/local_xla/xla/stream_executor/cuda/cuda_driver.cc:1641] failed to alloc 1932735232 bytes on host: CUDA_ERROR_OUT_OF_MEMORY: out of memory\n",
      "2024-09-27 20:25:31.322763: W external/local_xla/xla/stream_executor/integrations/device_host_allocator.h:61] could not allocate pinned host memory of size: 1932735232\n",
      "2024-09-27 20:25:31.366480: E external/local_xla/xla/stream_executor/cuda/cuda_driver.cc:1641] failed to alloc 1739461632 bytes on host: CUDA_ERROR_OUT_OF_MEMORY: out of memory\n",
      "2024-09-27 20:25:31.366514: W external/local_xla/xla/stream_executor/integrations/device_host_allocator.h:61] could not allocate pinned host memory of size: 1739461632\n",
      "2024-09-27 20:25:31.377944: E external/local_xla/xla/stream_executor/cuda/cuda_driver.cc:1641] failed to alloc 1565515520 bytes on host: CUDA_ERROR_OUT_OF_MEMORY: out of memory\n",
      "2024-09-27 20:25:31.377971: W external/local_xla/xla/stream_executor/integrations/device_host_allocator.h:61] could not allocate pinned host memory of size: 1565515520\n",
      "2024-09-27 20:25:31.390314: E external/local_xla/xla/stream_executor/cuda/cuda_driver.cc:1641] failed to alloc 1408964096 bytes on host: CUDA_ERROR_OUT_OF_MEMORY: out of memory\n",
      "2024-09-27 20:25:31.390337: W external/local_xla/xla/stream_executor/integrations/device_host_allocator.h:61] could not allocate pinned host memory of size: 1408964096\n",
      "2024-09-27 20:25:31.400779: E external/local_xla/xla/stream_executor/cuda/cuda_driver.cc:1641] failed to alloc 1268067840 bytes on host: CUDA_ERROR_OUT_OF_MEMORY: out of memory\n",
      "2024-09-27 20:25:31.400791: W external/local_xla/xla/stream_executor/integrations/device_host_allocator.h:61] could not allocate pinned host memory of size: 1268067840\n",
      "2024-09-27 20:25:31.411164: E external/local_xla/xla/stream_executor/cuda/cuda_driver.cc:1641] failed to alloc 1141261056 bytes on host: CUDA_ERROR_OUT_OF_MEMORY: out of memory\n",
      "2024-09-27 20:25:31.411177: W external/local_xla/xla/stream_executor/integrations/device_host_allocator.h:61] could not allocate pinned host memory of size: 1141261056\n",
      "2024-09-27 20:25:31.421999: E external/local_xla/xla/stream_executor/cuda/cuda_driver.cc:1641] failed to alloc 1027134976 bytes on host: CUDA_ERROR_OUT_OF_MEMORY: out of memory\n",
      "2024-09-27 20:25:31.422012: W external/local_xla/xla/stream_executor/integrations/device_host_allocator.h:61] could not allocate pinned host memory of size: 1027134976\n",
      "2024-09-27 20:25:31.432800: E external/local_xla/xla/stream_executor/cuda/cuda_driver.cc:1641] failed to alloc 924421632 bytes on host: CUDA_ERROR_OUT_OF_MEMORY: out of memory\n",
      "2024-09-27 20:25:31.432812: W external/local_xla/xla/stream_executor/integrations/device_host_allocator.h:61] could not allocate pinned host memory of size: 924421632\n",
      "2024-09-27 20:25:31.443426: E external/local_xla/xla/stream_executor/cuda/cuda_driver.cc:1641] failed to alloc 831979520 bytes on host: CUDA_ERROR_OUT_OF_MEMORY: out of memory\n",
      "2024-09-27 20:25:31.443438: W external/local_xla/xla/stream_executor/integrations/device_host_allocator.h:61] could not allocate pinned host memory of size: 831979520\n",
      "2024-09-27 20:25:31.454411: E external/local_xla/xla/stream_executor/cuda/cuda_driver.cc:1641] failed to alloc 748781568 bytes on host: CUDA_ERROR_OUT_OF_MEMORY: out of memory\n",
      "2024-09-27 20:25:31.454424: W external/local_xla/xla/stream_executor/integrations/device_host_allocator.h:61] could not allocate pinned host memory of size: 748781568\n",
      "2024-09-27 20:25:31.465993: E external/local_xla/xla/stream_executor/cuda/cuda_driver.cc:1641] failed to alloc 673903616 bytes on host: CUDA_ERROR_OUT_OF_MEMORY: out of memory\n",
      "2024-09-27 20:25:31.466008: W external/local_xla/xla/stream_executor/integrations/device_host_allocator.h:61] could not allocate pinned host memory of size: 673903616\n",
      "2024-09-27 20:25:31.476934: E external/local_xla/xla/stream_executor/cuda/cuda_driver.cc:1641] failed to alloc 606513408 bytes on host: CUDA_ERROR_OUT_OF_MEMORY: out of memory\n",
      "2024-09-27 20:25:31.476947: W external/local_xla/xla/stream_executor/integrations/device_host_allocator.h:61] could not allocate pinned host memory of size: 606513408\n",
      "2024-09-27 20:25:31.487610: E external/local_xla/xla/stream_executor/cuda/cuda_driver.cc:1641] failed to alloc 545862144 bytes on host: CUDA_ERROR_OUT_OF_MEMORY: out of memory\n",
      "2024-09-27 20:25:31.487623: W external/local_xla/xla/stream_executor/integrations/device_host_allocator.h:61] could not allocate pinned host memory of size: 545862144\n",
      "2024-09-27 20:25:31.497707: E external/local_xla/xla/stream_executor/cuda/cuda_driver.cc:1641] failed to alloc 491276032 bytes on host: CUDA_ERROR_OUT_OF_MEMORY: out of memory\n",
      "2024-09-27 20:25:31.497719: W external/local_xla/xla/stream_executor/integrations/device_host_allocator.h:61] could not allocate pinned host memory of size: 491276032\n",
      "2024-09-27 20:25:31.508998: E external/local_xla/xla/stream_executor/cuda/cuda_driver.cc:1641] failed to alloc 442148608 bytes on host: CUDA_ERROR_OUT_OF_MEMORY: out of memory\n",
      "2024-09-27 20:25:31.509012: W external/local_xla/xla/stream_executor/integrations/device_host_allocator.h:61] could not allocate pinned host memory of size: 442148608\n",
      "2024-09-27 20:25:31.519868: E external/local_xla/xla/stream_executor/cuda/cuda_driver.cc:1641] failed to alloc 397933824 bytes on host: CUDA_ERROR_OUT_OF_MEMORY: out of memory\n",
      "2024-09-27 20:25:31.519881: W external/local_xla/xla/stream_executor/integrations/device_host_allocator.h:61] could not allocate pinned host memory of size: 397933824\n",
      "2024-09-27 20:25:31.530784: E external/local_xla/xla/stream_executor/cuda/cuda_driver.cc:1641] failed to alloc 358140672 bytes on host: CUDA_ERROR_OUT_OF_MEMORY: out of memory\n",
      "2024-09-27 20:25:31.530796: W external/local_xla/xla/stream_executor/integrations/device_host_allocator.h:61] could not allocate pinned host memory of size: 358140672\n",
      "2024-09-27 20:25:31.541497: E external/local_xla/xla/stream_executor/cuda/cuda_driver.cc:1641] failed to alloc 322326784 bytes on host: CUDA_ERROR_OUT_OF_MEMORY: out of memory\n",
      "2024-09-27 20:25:31.541509: W external/local_xla/xla/stream_executor/integrations/device_host_allocator.h:61] could not allocate pinned host memory of size: 322326784\n",
      "2024-09-27 20:25:31.552441: E external/local_xla/xla/stream_executor/cuda/cuda_driver.cc:1641] failed to alloc 290094336 bytes on host: CUDA_ERROR_OUT_OF_MEMORY: out of memory\n",
      "2024-09-27 20:25:31.552453: W external/local_xla/xla/stream_executor/integrations/device_host_allocator.h:61] could not allocate pinned host memory of size: 290094336\n",
      "2024-09-27 20:25:31.565503: E external/local_xla/xla/stream_executor/cuda/cuda_driver.cc:1641] failed to alloc 261084928 bytes on host: CUDA_ERROR_OUT_OF_MEMORY: out of memory\n",
      "2024-09-27 20:25:31.565516: W external/local_xla/xla/stream_executor/integrations/device_host_allocator.h:61] could not allocate pinned host memory of size: 261084928\n",
      "2024-09-27 20:25:31.576104: E external/local_xla/xla/stream_executor/cuda/cuda_driver.cc:1641] failed to alloc 234976512 bytes on host: CUDA_ERROR_OUT_OF_MEMORY: out of memory\n",
      "2024-09-27 20:25:31.576117: W external/local_xla/xla/stream_executor/integrations/device_host_allocator.h:61] could not allocate pinned host memory of size: 234976512\n",
      "2024-09-27 20:25:31.586877: E external/local_xla/xla/stream_executor/cuda/cuda_driver.cc:1641] failed to alloc 211479040 bytes on host: CUDA_ERROR_OUT_OF_MEMORY: out of memory\n",
      "2024-09-27 20:25:31.586891: W external/local_xla/xla/stream_executor/integrations/device_host_allocator.h:61] could not allocate pinned host memory of size: 211479040\n",
      "2024-09-27 20:25:31.597229: E external/local_xla/xla/stream_executor/cuda/cuda_driver.cc:1641] failed to alloc 190331136 bytes on host: CUDA_ERROR_OUT_OF_MEMORY: out of memory\n",
      "2024-09-27 20:25:31.597241: W external/local_xla/xla/stream_executor/integrations/device_host_allocator.h:61] could not allocate pinned host memory of size: 190331136\n",
      "2024-09-27 20:25:31.607676: E external/local_xla/xla/stream_executor/cuda/cuda_driver.cc:1641] failed to alloc 171298048 bytes on host: CUDA_ERROR_OUT_OF_MEMORY: out of memory\n",
      "2024-09-27 20:25:31.607690: W external/local_xla/xla/stream_executor/integrations/device_host_allocator.h:61] could not allocate pinned host memory of size: 171298048\n",
      "2024-09-27 20:25:31.619254: E external/local_xla/xla/stream_executor/cuda/cuda_driver.cc:1641] failed to alloc 154168320 bytes on host: CUDA_ERROR_OUT_OF_MEMORY: out of memory\n",
      "2024-09-27 20:25:31.619286: W external/local_xla/xla/stream_executor/integrations/device_host_allocator.h:61] could not allocate pinned host memory of size: 154168320\n",
      "2024-09-27 20:25:31.632409: E external/local_xla/xla/stream_executor/cuda/cuda_driver.cc:1641] failed to alloc 138751488 bytes on host: CUDA_ERROR_OUT_OF_MEMORY: out of memory\n",
      "2024-09-27 20:25:31.632450: W external/local_xla/xla/stream_executor/integrations/device_host_allocator.h:61] could not allocate pinned host memory of size: 138751488\n",
      "2024-09-27 20:25:31.644275: E external/local_xla/xla/stream_executor/cuda/cuda_driver.cc:1641] failed to alloc 124876544 bytes on host: CUDA_ERROR_OUT_OF_MEMORY: out of memory\n",
      "2024-09-27 20:25:31.644306: W external/local_xla/xla/stream_executor/integrations/device_host_allocator.h:61] could not allocate pinned host memory of size: 124876544\n",
      "2024-09-27 20:25:31.655309: E external/local_xla/xla/stream_executor/cuda/cuda_driver.cc:1641] failed to alloc 112389120 bytes on host: CUDA_ERROR_OUT_OF_MEMORY: out of memory\n",
      "2024-09-27 20:25:31.655337: W external/local_xla/xla/stream_executor/integrations/device_host_allocator.h:61] could not allocate pinned host memory of size: 112389120\n",
      "2024-09-27 20:25:31.666439: E external/local_xla/xla/stream_executor/cuda/cuda_driver.cc:1641] failed to alloc 101150208 bytes on host: CUDA_ERROR_OUT_OF_MEMORY: out of memory\n",
      "2024-09-27 20:25:31.666465: W external/local_xla/xla/stream_executor/integrations/device_host_allocator.h:61] could not allocate pinned host memory of size: 101150208\n",
      "2024-09-27 20:25:31.677481: E external/local_xla/xla/stream_executor/cuda/cuda_driver.cc:1641] failed to alloc 91035392 bytes on host: CUDA_ERROR_OUT_OF_MEMORY: out of memory\n",
      "2024-09-27 20:25:31.677508: W external/local_xla/xla/stream_executor/integrations/device_host_allocator.h:61] could not allocate pinned host memory of size: 91035392\n",
      "2024-09-27 20:25:31.688525: E external/local_xla/xla/stream_executor/cuda/cuda_driver.cc:1641] failed to alloc 81932032 bytes on host: CUDA_ERROR_OUT_OF_MEMORY: out of memory\n",
      "2024-09-27 20:25:31.688549: W external/local_xla/xla/stream_executor/integrations/device_host_allocator.h:61] could not allocate pinned host memory of size: 81932032\n",
      "2024-09-27 20:25:31.699584: E external/local_xla/xla/stream_executor/cuda/cuda_driver.cc:1641] failed to alloc 73739008 bytes on host: CUDA_ERROR_OUT_OF_MEMORY: out of memory\n",
      "2024-09-27 20:25:31.699611: W external/local_xla/xla/stream_executor/integrations/device_host_allocator.h:61] could not allocate pinned host memory of size: 73739008\n"
     ]
    },
    {
     "name": "stdout",
     "output_type": "stream",
     "text": [
      "\u001b[1m 1982/10317\u001b[0m \u001b[32m━━━\u001b[0m\u001b[37m━━━━━━━━━━━━━━━━━\u001b[0m \u001b[1m52s\u001b[0m 6ms/step - categorical_accuracy: 0.1018 - loss: 14.3515"
     ]
    },
    {
     "name": "stderr",
     "output_type": "stream",
     "text": [
      "2024-09-27 20:25:31.711118: E external/local_xla/xla/stream_executor/cuda/cuda_driver.cc:1641] failed to alloc 66365184 bytes on host: CUDA_ERROR_OUT_OF_MEMORY: out of memory\n",
      "2024-09-27 20:25:31.711134: W external/local_xla/xla/stream_executor/integrations/device_host_allocator.h:61] could not allocate pinned host memory of size: 66365184\n",
      "2024-09-27 20:25:31.722149: E external/local_xla/xla/stream_executor/cuda/cuda_driver.cc:1641] failed to alloc 59728896 bytes on host: CUDA_ERROR_OUT_OF_MEMORY: out of memory\n",
      "2024-09-27 20:25:31.722163: W external/local_xla/xla/stream_executor/integrations/device_host_allocator.h:61] could not allocate pinned host memory of size: 59728896\n",
      "2024-09-27 20:25:31.732623: E external/local_xla/xla/stream_executor/cuda/cuda_driver.cc:1641] failed to alloc 53756160 bytes on host: CUDA_ERROR_OUT_OF_MEMORY: out of memory\n",
      "2024-09-27 20:25:31.732637: W external/local_xla/xla/stream_executor/integrations/device_host_allocator.h:61] could not allocate pinned host memory of size: 53756160\n",
      "2024-09-27 20:25:31.744234: E external/local_xla/xla/stream_executor/cuda/cuda_driver.cc:1641] failed to alloc 48380672 bytes on host: CUDA_ERROR_OUT_OF_MEMORY: out of memory\n",
      "2024-09-27 20:25:31.744255: W external/local_xla/xla/stream_executor/integrations/device_host_allocator.h:61] could not allocate pinned host memory of size: 48380672\n",
      "2024-09-27 20:25:31.756180: E external/local_xla/xla/stream_executor/cuda/cuda_driver.cc:1641] failed to alloc 43542784 bytes on host: CUDA_ERROR_OUT_OF_MEMORY: out of memory\n",
      "2024-09-27 20:25:31.756194: W external/local_xla/xla/stream_executor/integrations/device_host_allocator.h:61] could not allocate pinned host memory of size: 43542784\n",
      "2024-09-27 20:25:31.767886: E external/local_xla/xla/stream_executor/cuda/cuda_driver.cc:1641] failed to alloc 39188736 bytes on host: CUDA_ERROR_OUT_OF_MEMORY: out of memory\n",
      "2024-09-27 20:25:31.767900: W external/local_xla/xla/stream_executor/integrations/device_host_allocator.h:61] could not allocate pinned host memory of size: 39188736\n",
      "2024-09-27 20:25:31.779229: E external/local_xla/xla/stream_executor/cuda/cuda_driver.cc:1641] failed to alloc 35269888 bytes on host: CUDA_ERROR_OUT_OF_MEMORY: out of memory\n",
      "2024-09-27 20:25:31.779241: W external/local_xla/xla/stream_executor/integrations/device_host_allocator.h:61] could not allocate pinned host memory of size: 35269888\n",
      "2024-09-27 20:25:31.789800: E external/local_xla/xla/stream_executor/cuda/cuda_driver.cc:1641] failed to alloc 31742976 bytes on host: CUDA_ERROR_OUT_OF_MEMORY: out of memory\n",
      "2024-09-27 20:25:31.789814: W external/local_xla/xla/stream_executor/integrations/device_host_allocator.h:61] could not allocate pinned host memory of size: 31742976\n",
      "2024-09-27 20:25:31.799929: E external/local_xla/xla/stream_executor/cuda/cuda_driver.cc:1641] failed to alloc 28568832 bytes on host: CUDA_ERROR_OUT_OF_MEMORY: out of memory\n",
      "2024-09-27 20:25:31.799942: W external/local_xla/xla/stream_executor/integrations/device_host_allocator.h:61] could not allocate pinned host memory of size: 28568832\n",
      "2024-09-27 20:25:31.810806: E external/local_xla/xla/stream_executor/cuda/cuda_driver.cc:1641] failed to alloc 25712128 bytes on host: CUDA_ERROR_OUT_OF_MEMORY: out of memory\n",
      "2024-09-27 20:25:31.810818: W external/local_xla/xla/stream_executor/integrations/device_host_allocator.h:61] could not allocate pinned host memory of size: 25712128\n",
      "2024-09-27 20:25:31.822802: E external/local_xla/xla/stream_executor/cuda/cuda_driver.cc:1641] failed to alloc 23141120 bytes on host: CUDA_ERROR_OUT_OF_MEMORY: out of memory\n",
      "2024-09-27 20:25:31.822813: W external/local_xla/xla/stream_executor/integrations/device_host_allocator.h:61] could not allocate pinned host memory of size: 23141120\n",
      "2024-09-27 20:25:31.833116: E external/local_xla/xla/stream_executor/cuda/cuda_driver.cc:1641] failed to alloc 20827136 bytes on host: CUDA_ERROR_OUT_OF_MEMORY: out of memory\n",
      "2024-09-27 20:25:31.833130: W external/local_xla/xla/stream_executor/integrations/device_host_allocator.h:61] could not allocate pinned host memory of size: 20827136\n",
      "2024-09-27 20:25:31.843705: E external/local_xla/xla/stream_executor/cuda/cuda_driver.cc:1641] failed to alloc 18744576 bytes on host: CUDA_ERROR_OUT_OF_MEMORY: out of memory\n",
      "2024-09-27 20:25:31.843718: W external/local_xla/xla/stream_executor/integrations/device_host_allocator.h:61] could not allocate pinned host memory of size: 18744576\n",
      "2024-09-27 20:25:31.855329: E external/local_xla/xla/stream_executor/cuda/cuda_driver.cc:1641] failed to alloc 16870144 bytes on host: CUDA_ERROR_OUT_OF_MEMORY: out of memory\n",
      "2024-09-27 20:25:31.855365: W external/local_xla/xla/stream_executor/integrations/device_host_allocator.h:61] could not allocate pinned host memory of size: 16870144\n",
      "2024-09-27 20:25:31.866591: E external/local_xla/xla/stream_executor/cuda/cuda_driver.cc:1641] failed to alloc 15183360 bytes on host: CUDA_ERROR_OUT_OF_MEMORY: out of memory\n",
      "2024-09-27 20:25:31.866624: W external/local_xla/xla/stream_executor/integrations/device_host_allocator.h:61] could not allocate pinned host memory of size: 15183360\n",
      "2024-09-27 20:25:31.876563: E external/local_xla/xla/stream_executor/cuda/cuda_driver.cc:1641] failed to alloc 13665024 bytes on host: CUDA_ERROR_OUT_OF_MEMORY: out of memory\n",
      "2024-09-27 20:25:31.876593: W external/local_xla/xla/stream_executor/integrations/device_host_allocator.h:61] could not allocate pinned host memory of size: 13665024\n",
      "2024-09-27 20:25:31.885038: E external/local_xla/xla/stream_executor/cuda/cuda_driver.cc:1641] failed to alloc 12298752 bytes on host: CUDA_ERROR_OUT_OF_MEMORY: out of memory\n",
      "2024-09-27 20:25:31.885062: W external/local_xla/xla/stream_executor/integrations/device_host_allocator.h:61] could not allocate pinned host memory of size: 12298752\n",
      "2024-09-27 20:25:31.894003: E external/local_xla/xla/stream_executor/cuda/cuda_driver.cc:1641] failed to alloc 11068928 bytes on host: CUDA_ERROR_OUT_OF_MEMORY: out of memory\n",
      "2024-09-27 20:25:31.894027: W external/local_xla/xla/stream_executor/integrations/device_host_allocator.h:61] could not allocate pinned host memory of size: 11068928\n",
      "2024-09-27 20:25:31.901344: E external/local_xla/xla/stream_executor/cuda/cuda_driver.cc:1641] failed to alloc 9962240 bytes on host: CUDA_ERROR_OUT_OF_MEMORY: out of memory\n",
      "2024-09-27 20:25:31.901368: W external/local_xla/xla/stream_executor/integrations/device_host_allocator.h:61] could not allocate pinned host memory of size: 9962240\n",
      "2024-09-27 20:25:31.908875: E external/local_xla/xla/stream_executor/cuda/cuda_driver.cc:1641] failed to alloc 8966144 bytes on host: CUDA_ERROR_OUT_OF_MEMORY: out of memory\n",
      "2024-09-27 20:25:31.908897: W external/local_xla/xla/stream_executor/integrations/device_host_allocator.h:61] could not allocate pinned host memory of size: 8966144\n",
      "2024-09-27 20:25:31.915269: E external/local_xla/xla/stream_executor/cuda/cuda_driver.cc:1641] failed to alloc 8069632 bytes on host: CUDA_ERROR_OUT_OF_MEMORY: out of memory\n",
      "2024-09-27 20:25:31.915291: W external/local_xla/xla/stream_executor/integrations/device_host_allocator.h:61] could not allocate pinned host memory of size: 8069632\n",
      "2024-09-27 20:25:31.921405: E external/local_xla/xla/stream_executor/cuda/cuda_driver.cc:1641] failed to alloc 7262720 bytes on host: CUDA_ERROR_OUT_OF_MEMORY: out of memory\n",
      "2024-09-27 20:25:31.921426: W external/local_xla/xla/stream_executor/integrations/device_host_allocator.h:61] could not allocate pinned host memory of size: 7262720\n",
      "2024-09-27 20:25:31.927895: E external/local_xla/xla/stream_executor/cuda/cuda_driver.cc:1641] failed to alloc 6536448 bytes on host: CUDA_ERROR_OUT_OF_MEMORY: out of memory\n",
      "2024-09-27 20:25:31.927920: W external/local_xla/xla/stream_executor/integrations/device_host_allocator.h:61] could not allocate pinned host memory of size: 6536448\n",
      "2024-09-27 20:25:49.780417: E external/local_xla/xla/stream_executor/cuda/cuda_driver.cc:1641] failed to alloc 4294967296 bytes on host: CUDA_ERROR_OUT_OF_MEMORY: out of memory\n",
      "2024-09-27 20:25:49.780475: W external/local_xla/xla/stream_executor/integrations/device_host_allocator.h:61] could not allocate pinned host memory of size: 4294967296\n"
     ]
    }
   ],
   "source": [
    "epochs = 30\n",
    "history = model.fit(training_set, validation_data=validation_set, epochs=epochs)"
   ]
  },
  {
   "cell_type": "code",
   "execution_count": null,
   "id": "24c5f3232f602c65",
   "metadata": {
    "ExecuteTime": {
     "end_time": "2024-09-27T23:26:11.207160Z",
     "start_time": "2024-09-27T23:26:09.233582Z"
    }
   },
   "outputs": [],
   "source": [
    "import pickle\n",
    "\n",
    "with open(os.path.join(\"../data\", \"history_control.pkl\"), \"wb\") as file:\n",
    "    pickle.dump(history, file)"
   ]
  },
  {
   "cell_type": "code",
   "execution_count": null,
   "id": "f59f23bbffe91880",
   "metadata": {
    "ExecuteTime": {
     "end_time": "2024-09-27T23:27:03.958343Z",
     "start_time": "2024-09-27T23:27:03.792656Z"
    }
   },
   "outputs": [],
   "source": [
    "import matplotlib.pyplot as plt\n",
    "\n",
    "def plot_accuracy_curve(training_result, metric):\n",
    "    val_metric = f\"val_{metric}\"\n",
    "    train_perf = training_result.history[metric]\n",
    "    validation_perf = training_result.history[val_metric]\n",
    "    \n",
    "    plt.plot(train_perf, label=metric)\n",
    "    plt.plot(validation_perf, label=val_metric)\n",
    "    \n",
    "    max_val = max(validation_perf)\n",
    "    max_val_epoch = validation_perf.index(max_val)\n",
    "    \n",
    "    plt.xlabel(\"Epoch\")\n",
    "    plt.ylabel(metric)\n",
    "    plt.legend(loc=\"lower right\")\n",
    "    \n",
    "# plot_accuracy_curve(history, \"categorical_accuracy\")\n",
    "# plot_accuracy_curve(history, \"top_k_categorical_accuracy\")\n",
    "plot_accuracy_curve(history, \"loss\")"
   ]
  },
  {
   "cell_type": "code",
   "execution_count": null,
   "id": "4102f1a2a8dddcd4",
   "metadata": {},
   "outputs": [],
   "source": []
  }
 ],
 "metadata": {
  "kernelspec": {
   "display_name": "Python 3 (ipykernel)",
   "language": "python",
   "name": "python3"
  },
  "language_info": {
   "codemirror_mode": {
    "name": "ipython",
    "version": 3
   },
   "file_extension": ".py",
   "mimetype": "text/x-python",
   "name": "python",
   "nbconvert_exporter": "python",
   "pygments_lexer": "ipython3",
   "version": "3.12.5"
  }
 },
 "nbformat": 4,
 "nbformat_minor": 5
}
