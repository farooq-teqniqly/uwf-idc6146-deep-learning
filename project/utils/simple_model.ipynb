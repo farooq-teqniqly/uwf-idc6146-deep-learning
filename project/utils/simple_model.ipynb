{
 "cells": [
  {
   "cell_type": "markdown",
   "id": "795677b8ba7a0209",
   "metadata": {},
   "source": [
    "# Simple CNN\n",
    "This notebook trains a simplified version of the GoogLeNet model. # Simple CNN"
   ]
  },
  {
   "cell_type": "markdown",
   "id": "99b863f4ede39588",
   "metadata": {},
   "source": [
    "## Prerequisites\n",
    "\n",
    "- Install `tensorflow` or if running on a GPU, `tensorflow[and-cuda]`.\n",
    "- Install `matplotlib`.\n",
    "\n",
    "Configuring Tensorflow to run on a GPU is not trivial, especially in Windows. To run the latest version of Tensorlow on a GPU, it must be run in [WSL](https://learn.microsoft.com/en-us/windows/wsl/about). [This blog](https://medium.com/@ali.abulhawa/installing-tensorflow-2-16-gpu-on-windows-wsl2-df73ac3446c9) has excellent instructions on configuring a GPU for Tensorflow in WSL.\n",
    "\n",
    "Now that Tensorflow can detect your GPU in WSL, you need to be able to run this notebook in Jupyter Lab. Follow [this blog](https://towardsdatascience.com/configuring-jupyter-notebook-in-windows-subsystem-linux-wsl2-c757893e9d69) to accomplish that feat."
   ]
  },
  {
   "cell_type": "code",
   "execution_count": 1,
   "id": "2ef8b35f-637c-4703-990b-753bcbe06941",
   "metadata": {},
   "outputs": [
    {
     "name": "stderr",
     "output_type": "stream",
     "text": [
      "2024-10-10 15:26:56.892662: E external/local_xla/xla/stream_executor/cuda/cuda_fft.cc:485] Unable to register cuFFT factory: Attempting to register factory for plugin cuFFT when one has already been registered\n",
      "2024-10-10 15:26:56.903152: E external/local_xla/xla/stream_executor/cuda/cuda_dnn.cc:8454] Unable to register cuDNN factory: Attempting to register factory for plugin cuDNN when one has already been registered\n",
      "2024-10-10 15:26:56.906321: E external/local_xla/xla/stream_executor/cuda/cuda_blas.cc:1452] Unable to register cuBLAS factory: Attempting to register factory for plugin cuBLAS when one has already been registered\n",
      "2024-10-10 15:26:56.914049: I tensorflow/core/platform/cpu_feature_guard.cc:210] This TensorFlow binary is optimized to use available CPU instructions in performance-critical operations.\n",
      "To enable the following instructions: AVX2 FMA, in other operations, rebuild TensorFlow with the appropriate compiler flags.\n",
      "2024-10-10 15:26:57.514053: W tensorflow/compiler/tf2tensorrt/utils/py_utils.cc:38] TF-TRT Warning: Could not find TensorRT\n"
     ]
    }
   ],
   "source": [
    "import tensorflow as tf\n",
    "import os\n",
    "import pickle\n",
    "import matplotlib.pyplot as plt\n",
    "from tensorflow.keras import layers, models"
   ]
  },
  {
   "cell_type": "markdown",
   "id": "e3c90db6fa066ab5",
   "metadata": {},
   "source": [
    "## Ingesting the input images\n",
    "\n",
    "### Prepare the ImageNet images\n",
    "In the same directory as this notebook, you will find a file named `imagenet_224.zip`. This zip file contains the ImageNet images used for training the CNN.\n",
    "Unzip the files to a folder named `imagenet_224`. The unzipped files will have the following structure:\n",
    "\n",
    "```\n",
    "imagenet_224\n",
    "----airplane\n",
    "----automobile\n",
    "----...\n",
    "----ship\n",
    "----truck\n",
    "``` \n",
    "If the folder structure doesn't match this, then you will get an error!"
   ]
  },
  {
   "cell_type": "code",
   "execution_count": 2,
   "id": "aafc18d2529bb5ab",
   "metadata": {},
   "outputs": [
    {
     "name": "stdout",
     "output_type": "stream",
     "text": [
      "Found 13738 files belonging to 10 classes.\n",
      "Using 10991 files for training.\n"
     ]
    },
    {
     "name": "stderr",
     "output_type": "stream",
     "text": [
      "WARNING: All log messages before absl::InitializeLog() is called are written to STDERR\n",
      "I0000 00:00:1728599223.984931   22446 cuda_executor.cc:1001] could not open file to read NUMA node: /sys/bus/pci/devices/0000:01:00.0/numa_node\n",
      "Your kernel may have been built without NUMA support.\n",
      "I0000 00:00:1728599224.002998   22446 cuda_executor.cc:1001] could not open file to read NUMA node: /sys/bus/pci/devices/0000:01:00.0/numa_node\n",
      "Your kernel may have been built without NUMA support.\n",
      "I0000 00:00:1728599224.003040   22446 cuda_executor.cc:1001] could not open file to read NUMA node: /sys/bus/pci/devices/0000:01:00.0/numa_node\n",
      "Your kernel may have been built without NUMA support.\n",
      "I0000 00:00:1728599224.005164   22446 cuda_executor.cc:1001] could not open file to read NUMA node: /sys/bus/pci/devices/0000:01:00.0/numa_node\n",
      "Your kernel may have been built without NUMA support.\n",
      "I0000 00:00:1728599224.005197   22446 cuda_executor.cc:1001] could not open file to read NUMA node: /sys/bus/pci/devices/0000:01:00.0/numa_node\n",
      "Your kernel may have been built without NUMA support.\n",
      "I0000 00:00:1728599224.005215   22446 cuda_executor.cc:1001] could not open file to read NUMA node: /sys/bus/pci/devices/0000:01:00.0/numa_node\n",
      "Your kernel may have been built without NUMA support.\n",
      "I0000 00:00:1728599224.088398   22446 cuda_executor.cc:1001] could not open file to read NUMA node: /sys/bus/pci/devices/0000:01:00.0/numa_node\n",
      "Your kernel may have been built without NUMA support.\n",
      "I0000 00:00:1728599224.088453   22446 cuda_executor.cc:1001] could not open file to read NUMA node: /sys/bus/pci/devices/0000:01:00.0/numa_node\n",
      "Your kernel may have been built without NUMA support.\n",
      "2024-10-10 15:27:04.088461: I tensorflow/core/common_runtime/gpu/gpu_device.cc:2112] Could not identify NUMA node of platform GPU id 0, defaulting to 0.  Your kernel may not have been built with NUMA support.\n",
      "I0000 00:00:1728599224.088494   22446 cuda_executor.cc:1001] could not open file to read NUMA node: /sys/bus/pci/devices/0000:01:00.0/numa_node\n",
      "Your kernel may have been built without NUMA support.\n",
      "2024-10-10 15:27:04.088513: I tensorflow/core/common_runtime/gpu/gpu_device.cc:2021] Created device /job:localhost/replica:0/task:0/device:GPU:0 with 3287 MB memory:  -> device: 0, name: Quadro P2000, pci bus id: 0000:01:00.0, compute capability: 6.1\n"
     ]
    },
    {
     "name": "stdout",
     "output_type": "stream",
     "text": [
      "Found 13738 files belonging to 10 classes.\n",
      "Using 2747 files for validation.\n"
     ]
    }
   ],
   "source": [
    "IMAGE_DIR = os.path.join(os.getcwd(), \"imagenet_224\")\n",
    "\n",
    "if not os.path.exists(IMAGE_DIR):\n",
    "    raise RuntimeError(\n",
    "        f\"{IMAGE_DIR} not found. You need to download the ImageNet dataset and unzip it into a folder called imagenet_224\")\n",
    "\n",
    "# You can adjust the batch size depending on the compute resources\n",
    "BATCH_SIZE = 16\n",
    "\n",
    "IMG_HEIGHT = 224\n",
    "IMG_WIDTH = 224\n",
    "TARGET_SIZE = (IMG_WIDTH, IMG_HEIGHT)\n",
    "\n",
    "train_dataset = tf.keras.preprocessing.image_dataset_from_directory(\n",
    "    IMAGE_DIR,           \n",
    "    validation_split=0.2,     \n",
    "    subset=\"training\",          \n",
    "    seed=111,                    \n",
    "    image_size=TARGET_SIZE,      \n",
    "    batch_size=BATCH_SIZE              \n",
    ")\n",
    "\n",
    "validation_dataset = tf.keras.preprocessing.image_dataset_from_directory(\n",
    "    IMAGE_DIR,          \n",
    "    validation_split=0.2,       \n",
    "    subset=\"validation\",        \n",
    "    seed=111,                    \n",
    "    image_size=TARGET_SIZE,     \n",
    "    batch_size=BATCH_SIZE              \n",
    ")"
   ]
  },
  {
   "cell_type": "markdown",
   "id": "b5228a0b6b81714c",
   "metadata": {},
   "source": [
    "## Performance enhancements\n",
    "Apply augmentation and prefetching to improve training performance."
   ]
  },
  {
   "cell_type": "code",
   "execution_count": 3,
   "id": "f4f850c14606b198",
   "metadata": {},
   "outputs": [],
   "source": [
    "augmentation = tf.keras.Sequential([\n",
    "    layers.RandomFlip(\"horizontal\"),\n",
    "    layers.RandomRotation(0.1),\n",
    "    layers.RandomZoom(0.2),\n",
    "])\n",
    "\n",
    "# Apply the augmentation only on the training dataset\n",
    "train_dataset = train_dataset.map(lambda x, y: (augmentation(x, training=True), y))\n",
    "\n",
    "# Prefetch the datasets for performance improvement\n",
    "train_dataset = train_dataset.prefetch(buffer_size=tf.data.AUTOTUNE)\n",
    "validation_dataset = validation_dataset.prefetch(buffer_size=tf.data.AUTOTUNE)"
   ]
  },
  {
   "cell_type": "markdown",
   "id": "ced49b3c8b8f69fc",
   "metadata": {},
   "source": [
    "## Build the CNN"
   ]
  },
  {
   "cell_type": "code",
   "execution_count": 4,
   "id": "6fc92fc52ffb8497",
   "metadata": {},
   "outputs": [
    {
     "data": {
      "text/html": [
       "<pre style=\"white-space:pre;overflow-x:auto;line-height:normal;font-family:Menlo,'DejaVu Sans Mono',consolas,'Courier New',monospace\"><span style=\"font-weight: bold\">Model: \"functional_1\"</span>\n",
       "</pre>\n"
      ],
      "text/plain": [
       "\u001b[1mModel: \"functional_1\"\u001b[0m\n"
      ]
     },
     "metadata": {},
     "output_type": "display_data"
    },
    {
     "data": {
      "text/html": [
       "<pre style=\"white-space:pre;overflow-x:auto;line-height:normal;font-family:Menlo,'DejaVu Sans Mono',consolas,'Courier New',monospace\">┏━━━━━━━━━━━━━━━━━━━━━━━━━━━━━━━━━┳━━━━━━━━━━━━━━━━━━━━━━━━┳━━━━━━━━━━━━━━━┓\n",
       "┃<span style=\"font-weight: bold\"> Layer (type)                    </span>┃<span style=\"font-weight: bold\"> Output Shape           </span>┃<span style=\"font-weight: bold\">       Param # </span>┃\n",
       "┡━━━━━━━━━━━━━━━━━━━━━━━━━━━━━━━━━╇━━━━━━━━━━━━━━━━━━━━━━━━╇━━━━━━━━━━━━━━━┩\n",
       "│ input_layer_1 (<span style=\"color: #0087ff; text-decoration-color: #0087ff\">InputLayer</span>)      │ (<span style=\"color: #00d7ff; text-decoration-color: #00d7ff\">None</span>, <span style=\"color: #00af00; text-decoration-color: #00af00\">224</span>, <span style=\"color: #00af00; text-decoration-color: #00af00\">224</span>, <span style=\"color: #00af00; text-decoration-color: #00af00\">3</span>)    │             <span style=\"color: #00af00; text-decoration-color: #00af00\">0</span> │\n",
       "├─────────────────────────────────┼────────────────────────┼───────────────┤\n",
       "│ conv2d (<span style=\"color: #0087ff; text-decoration-color: #0087ff\">Conv2D</span>)                 │ (<span style=\"color: #00d7ff; text-decoration-color: #00d7ff\">None</span>, <span style=\"color: #00af00; text-decoration-color: #00af00\">112</span>, <span style=\"color: #00af00; text-decoration-color: #00af00\">112</span>, <span style=\"color: #00af00; text-decoration-color: #00af00\">32</span>)   │         <span style=\"color: #00af00; text-decoration-color: #00af00\">4,736</span> │\n",
       "├─────────────────────────────────┼────────────────────────┼───────────────┤\n",
       "│ max_pooling2d (<span style=\"color: #0087ff; text-decoration-color: #0087ff\">MaxPooling2D</span>)    │ (<span style=\"color: #00d7ff; text-decoration-color: #00d7ff\">None</span>, <span style=\"color: #00af00; text-decoration-color: #00af00\">56</span>, <span style=\"color: #00af00; text-decoration-color: #00af00\">56</span>, <span style=\"color: #00af00; text-decoration-color: #00af00\">32</span>)     │             <span style=\"color: #00af00; text-decoration-color: #00af00\">0</span> │\n",
       "├─────────────────────────────────┼────────────────────────┼───────────────┤\n",
       "│ conv2d_1 (<span style=\"color: #0087ff; text-decoration-color: #0087ff\">Conv2D</span>)               │ (<span style=\"color: #00d7ff; text-decoration-color: #00d7ff\">None</span>, <span style=\"color: #00af00; text-decoration-color: #00af00\">56</span>, <span style=\"color: #00af00; text-decoration-color: #00af00\">56</span>, <span style=\"color: #00af00; text-decoration-color: #00af00\">64</span>)     │        <span style=\"color: #00af00; text-decoration-color: #00af00\">18,496</span> │\n",
       "├─────────────────────────────────┼────────────────────────┼───────────────┤\n",
       "│ max_pooling2d_1 (<span style=\"color: #0087ff; text-decoration-color: #0087ff\">MaxPooling2D</span>)  │ (<span style=\"color: #00d7ff; text-decoration-color: #00d7ff\">None</span>, <span style=\"color: #00af00; text-decoration-color: #00af00\">28</span>, <span style=\"color: #00af00; text-decoration-color: #00af00\">28</span>, <span style=\"color: #00af00; text-decoration-color: #00af00\">64</span>)     │             <span style=\"color: #00af00; text-decoration-color: #00af00\">0</span> │\n",
       "├─────────────────────────────────┼────────────────────────┼───────────────┤\n",
       "│ conv2d_2 (<span style=\"color: #0087ff; text-decoration-color: #0087ff\">Conv2D</span>)               │ (<span style=\"color: #00d7ff; text-decoration-color: #00d7ff\">None</span>, <span style=\"color: #00af00; text-decoration-color: #00af00\">28</span>, <span style=\"color: #00af00; text-decoration-color: #00af00\">28</span>, <span style=\"color: #00af00; text-decoration-color: #00af00\">128</span>)    │        <span style=\"color: #00af00; text-decoration-color: #00af00\">73,856</span> │\n",
       "├─────────────────────────────────┼────────────────────────┼───────────────┤\n",
       "│ conv2d_3 (<span style=\"color: #0087ff; text-decoration-color: #0087ff\">Conv2D</span>)               │ (<span style=\"color: #00d7ff; text-decoration-color: #00d7ff\">None</span>, <span style=\"color: #00af00; text-decoration-color: #00af00\">28</span>, <span style=\"color: #00af00; text-decoration-color: #00af00\">28</span>, <span style=\"color: #00af00; text-decoration-color: #00af00\">256</span>)    │       <span style=\"color: #00af00; text-decoration-color: #00af00\">295,168</span> │\n",
       "├─────────────────────────────────┼────────────────────────┼───────────────┤\n",
       "│ max_pooling2d_2 (<span style=\"color: #0087ff; text-decoration-color: #0087ff\">MaxPooling2D</span>)  │ (<span style=\"color: #00d7ff; text-decoration-color: #00d7ff\">None</span>, <span style=\"color: #00af00; text-decoration-color: #00af00\">14</span>, <span style=\"color: #00af00; text-decoration-color: #00af00\">14</span>, <span style=\"color: #00af00; text-decoration-color: #00af00\">256</span>)    │             <span style=\"color: #00af00; text-decoration-color: #00af00\">0</span> │\n",
       "├─────────────────────────────────┼────────────────────────┼───────────────┤\n",
       "│ global_average_pooling2d        │ (<span style=\"color: #00d7ff; text-decoration-color: #00d7ff\">None</span>, <span style=\"color: #00af00; text-decoration-color: #00af00\">256</span>)            │             <span style=\"color: #00af00; text-decoration-color: #00af00\">0</span> │\n",
       "│ (<span style=\"color: #0087ff; text-decoration-color: #0087ff\">GlobalAveragePooling2D</span>)        │                        │               │\n",
       "├─────────────────────────────────┼────────────────────────┼───────────────┤\n",
       "│ dropout (<span style=\"color: #0087ff; text-decoration-color: #0087ff\">Dropout</span>)               │ (<span style=\"color: #00d7ff; text-decoration-color: #00d7ff\">None</span>, <span style=\"color: #00af00; text-decoration-color: #00af00\">256</span>)            │             <span style=\"color: #00af00; text-decoration-color: #00af00\">0</span> │\n",
       "├─────────────────────────────────┼────────────────────────┼───────────────┤\n",
       "│ dense (<span style=\"color: #0087ff; text-decoration-color: #0087ff\">Dense</span>)                   │ (<span style=\"color: #00d7ff; text-decoration-color: #00d7ff\">None</span>, <span style=\"color: #00af00; text-decoration-color: #00af00\">10</span>)             │         <span style=\"color: #00af00; text-decoration-color: #00af00\">2,570</span> │\n",
       "└─────────────────────────────────┴────────────────────────┴───────────────┘\n",
       "</pre>\n"
      ],
      "text/plain": [
       "┏━━━━━━━━━━━━━━━━━━━━━━━━━━━━━━━━━┳━━━━━━━━━━━━━━━━━━━━━━━━┳━━━━━━━━━━━━━━━┓\n",
       "┃\u001b[1m \u001b[0m\u001b[1mLayer (type)                   \u001b[0m\u001b[1m \u001b[0m┃\u001b[1m \u001b[0m\u001b[1mOutput Shape          \u001b[0m\u001b[1m \u001b[0m┃\u001b[1m \u001b[0m\u001b[1m      Param #\u001b[0m\u001b[1m \u001b[0m┃\n",
       "┡━━━━━━━━━━━━━━━━━━━━━━━━━━━━━━━━━╇━━━━━━━━━━━━━━━━━━━━━━━━╇━━━━━━━━━━━━━━━┩\n",
       "│ input_layer_1 (\u001b[38;5;33mInputLayer\u001b[0m)      │ (\u001b[38;5;45mNone\u001b[0m, \u001b[38;5;34m224\u001b[0m, \u001b[38;5;34m224\u001b[0m, \u001b[38;5;34m3\u001b[0m)    │             \u001b[38;5;34m0\u001b[0m │\n",
       "├─────────────────────────────────┼────────────────────────┼───────────────┤\n",
       "│ conv2d (\u001b[38;5;33mConv2D\u001b[0m)                 │ (\u001b[38;5;45mNone\u001b[0m, \u001b[38;5;34m112\u001b[0m, \u001b[38;5;34m112\u001b[0m, \u001b[38;5;34m32\u001b[0m)   │         \u001b[38;5;34m4,736\u001b[0m │\n",
       "├─────────────────────────────────┼────────────────────────┼───────────────┤\n",
       "│ max_pooling2d (\u001b[38;5;33mMaxPooling2D\u001b[0m)    │ (\u001b[38;5;45mNone\u001b[0m, \u001b[38;5;34m56\u001b[0m, \u001b[38;5;34m56\u001b[0m, \u001b[38;5;34m32\u001b[0m)     │             \u001b[38;5;34m0\u001b[0m │\n",
       "├─────────────────────────────────┼────────────────────────┼───────────────┤\n",
       "│ conv2d_1 (\u001b[38;5;33mConv2D\u001b[0m)               │ (\u001b[38;5;45mNone\u001b[0m, \u001b[38;5;34m56\u001b[0m, \u001b[38;5;34m56\u001b[0m, \u001b[38;5;34m64\u001b[0m)     │        \u001b[38;5;34m18,496\u001b[0m │\n",
       "├─────────────────────────────────┼────────────────────────┼───────────────┤\n",
       "│ max_pooling2d_1 (\u001b[38;5;33mMaxPooling2D\u001b[0m)  │ (\u001b[38;5;45mNone\u001b[0m, \u001b[38;5;34m28\u001b[0m, \u001b[38;5;34m28\u001b[0m, \u001b[38;5;34m64\u001b[0m)     │             \u001b[38;5;34m0\u001b[0m │\n",
       "├─────────────────────────────────┼────────────────────────┼───────────────┤\n",
       "│ conv2d_2 (\u001b[38;5;33mConv2D\u001b[0m)               │ (\u001b[38;5;45mNone\u001b[0m, \u001b[38;5;34m28\u001b[0m, \u001b[38;5;34m28\u001b[0m, \u001b[38;5;34m128\u001b[0m)    │        \u001b[38;5;34m73,856\u001b[0m │\n",
       "├─────────────────────────────────┼────────────────────────┼───────────────┤\n",
       "│ conv2d_3 (\u001b[38;5;33mConv2D\u001b[0m)               │ (\u001b[38;5;45mNone\u001b[0m, \u001b[38;5;34m28\u001b[0m, \u001b[38;5;34m28\u001b[0m, \u001b[38;5;34m256\u001b[0m)    │       \u001b[38;5;34m295,168\u001b[0m │\n",
       "├─────────────────────────────────┼────────────────────────┼───────────────┤\n",
       "│ max_pooling2d_2 (\u001b[38;5;33mMaxPooling2D\u001b[0m)  │ (\u001b[38;5;45mNone\u001b[0m, \u001b[38;5;34m14\u001b[0m, \u001b[38;5;34m14\u001b[0m, \u001b[38;5;34m256\u001b[0m)    │             \u001b[38;5;34m0\u001b[0m │\n",
       "├─────────────────────────────────┼────────────────────────┼───────────────┤\n",
       "│ global_average_pooling2d        │ (\u001b[38;5;45mNone\u001b[0m, \u001b[38;5;34m256\u001b[0m)            │             \u001b[38;5;34m0\u001b[0m │\n",
       "│ (\u001b[38;5;33mGlobalAveragePooling2D\u001b[0m)        │                        │               │\n",
       "├─────────────────────────────────┼────────────────────────┼───────────────┤\n",
       "│ dropout (\u001b[38;5;33mDropout\u001b[0m)               │ (\u001b[38;5;45mNone\u001b[0m, \u001b[38;5;34m256\u001b[0m)            │             \u001b[38;5;34m0\u001b[0m │\n",
       "├─────────────────────────────────┼────────────────────────┼───────────────┤\n",
       "│ dense (\u001b[38;5;33mDense\u001b[0m)                   │ (\u001b[38;5;45mNone\u001b[0m, \u001b[38;5;34m10\u001b[0m)             │         \u001b[38;5;34m2,570\u001b[0m │\n",
       "└─────────────────────────────────┴────────────────────────┴───────────────┘\n"
      ]
     },
     "metadata": {},
     "output_type": "display_data"
    },
    {
     "data": {
      "text/html": [
       "<pre style=\"white-space:pre;overflow-x:auto;line-height:normal;font-family:Menlo,'DejaVu Sans Mono',consolas,'Courier New',monospace\"><span style=\"font-weight: bold\"> Total params: </span><span style=\"color: #00af00; text-decoration-color: #00af00\">394,826</span> (1.51 MB)\n",
       "</pre>\n"
      ],
      "text/plain": [
       "\u001b[1m Total params: \u001b[0m\u001b[38;5;34m394,826\u001b[0m (1.51 MB)\n"
      ]
     },
     "metadata": {},
     "output_type": "display_data"
    },
    {
     "data": {
      "text/html": [
       "<pre style=\"white-space:pre;overflow-x:auto;line-height:normal;font-family:Menlo,'DejaVu Sans Mono',consolas,'Courier New',monospace\"><span style=\"font-weight: bold\"> Trainable params: </span><span style=\"color: #00af00; text-decoration-color: #00af00\">394,826</span> (1.51 MB)\n",
       "</pre>\n"
      ],
      "text/plain": [
       "\u001b[1m Trainable params: \u001b[0m\u001b[38;5;34m394,826\u001b[0m (1.51 MB)\n"
      ]
     },
     "metadata": {},
     "output_type": "display_data"
    },
    {
     "data": {
      "text/html": [
       "<pre style=\"white-space:pre;overflow-x:auto;line-height:normal;font-family:Menlo,'DejaVu Sans Mono',consolas,'Courier New',monospace\"><span style=\"font-weight: bold\"> Non-trainable params: </span><span style=\"color: #00af00; text-decoration-color: #00af00\">0</span> (0.00 B)\n",
       "</pre>\n"
      ],
      "text/plain": [
       "\u001b[1m Non-trainable params: \u001b[0m\u001b[38;5;34m0\u001b[0m (0.00 B)\n"
      ]
     },
     "metadata": {},
     "output_type": "display_data"
    }
   ],
   "source": [
    "# There are 10 image classes.\n",
    "NUM_CLASSES = 10\n",
    "\n",
    "# Specify a lower learning late because of the small data set.\n",
    "LEARNING_RATE = 0.0001\n",
    "\n",
    "# Add the layers using the Functional API\n",
    "inputs = layers.Input(shape=(IMG_HEIGHT, IMG_WIDTH, 3))\n",
    "x = layers.Conv2D(32, (7, 7), strides=(2, 2), activation=\"relu\", padding=\"same\")(inputs)\n",
    "x = layers.MaxPooling2D((3, 3), strides=(2, 2), padding=\"same\")(x)\n",
    "x = layers.Conv2D(64, (3, 3), strides=(1, 1), activation=\"relu\", padding=\"same\")(x)\n",
    "x = layers.MaxPooling2D((3, 3), strides=(2, 2), padding=\"same\")(x)\n",
    "x = layers.Conv2D(128, (3, 3), activation=\"relu\", padding=\"same\")(x)\n",
    "x = layers.Conv2D(256, (3, 3), activation=\"relu\", padding=\"same\")(x)\n",
    "x = layers.MaxPooling2D((3, 3), strides=(2, 2), padding=\"same\")(x)\n",
    "x = layers.GlobalAveragePooling2D()(x)\n",
    "x = layers.Dropout(0.3)(x)\n",
    "\n",
    "outputs = layers.Dense(NUM_CLASSES, activation=\"softmax\")(x)\n",
    "model = models.Model(inputs=inputs, outputs=outputs)\n",
    "\n",
    "optimizer = tf.keras.optimizers.Adam(learning_rate=LEARNING_RATE)\n",
    "\n",
    "model.compile(optimizer=optimizer,\n",
    "              loss=\"sparse_categorical_crossentropy\",\n",
    "              metrics=[\"accuracy\"])\n",
    "\n",
    "model.summary()"
   ]
  },
  {
   "cell_type": "markdown",
   "id": "9e75016a7061fef0",
   "metadata": {},
   "source": [
    "## Train the model"
   ]
  },
  {
   "cell_type": "code",
   "execution_count": 5,
   "id": "14b5dbea75947606",
   "metadata": {},
   "outputs": [
    {
     "name": "stdout",
     "output_type": "stream",
     "text": [
      "Epoch 1/30\n"
     ]
    },
    {
     "name": "stderr",
     "output_type": "stream",
     "text": [
      "WARNING: All log messages before absl::InitializeLog() is called are written to STDERR\n",
      "I0000 00:00:1728599233.466489   22547 service.cc:146] XLA service 0x7fa298007190 initialized for platform CUDA (this does not guarantee that XLA will be used). Devices:\n",
      "I0000 00:00:1728599233.466523   22547 service.cc:154]   StreamExecutor device (0): Quadro P2000, Compute Capability 6.1\n",
      "2024-10-10 15:27:13.489831: I tensorflow/compiler/mlir/tensorflow/utils/dump_mlir_util.cc:268] disabling MLIR crash reproducer, set env var `MLIR_CRASH_REPRODUCER_DIRECTORY` to enable.\n",
      "2024-10-10 15:27:13.605576: I external/local_xla/xla/stream_executor/cuda/cuda_dnn.cc:531] Loaded cuDNN version 8907\n"
     ]
    },
    {
     "name": "stdout",
     "output_type": "stream",
     "text": [
      "\u001b[1m  3/687\u001b[0m \u001b[37m━━━━━━━━━━━━━━━━━━━━\u001b[0m \u001b[1m39s\u001b[0m 58ms/step - accuracy: 0.1319 - loss: 26.1403 "
     ]
    },
    {
     "name": "stderr",
     "output_type": "stream",
     "text": [
      "2024-10-10 15:27:19.001125: I external/local_xla/xla/stream_executor/cuda/cuda_asm_compiler.cc:393] ptxas warning : Registers are spilled to local memory in function 'loop_add_subtract_fusion_5', 4 bytes spill stores, 12 bytes spill loads\n",
      "ptxas warning : Registers are spilled to local memory in function 'loop_add_subtract_fusion_4', 4 bytes spill stores, 12 bytes spill loads\n",
      "\n",
      "I0000 00:00:1728599239.009343   22547 device_compiler.h:188] Compiled cluster using XLA!  This line is logged at most once for the lifetime of the process.\n"
     ]
    },
    {
     "name": "stdout",
     "output_type": "stream",
     "text": [
      "\u001b[1m687/687\u001b[0m \u001b[32m━━━━━━━━━━━━━━━━━━━━\u001b[0m\u001b[37m\u001b[0m \u001b[1m0s\u001b[0m 108ms/step - accuracy: 0.1698 - loss: 4.3965"
     ]
    },
    {
     "name": "stderr",
     "output_type": "stream",
     "text": [
      "2024-10-10 15:28:32.924829: I external/local_xla/xla/stream_executor/cuda/cuda_asm_compiler.cc:393] ptxas warning : Registers are spilled to local memory in function 'loop_add_subtract_fusion_5', 4 bytes spill stores, 12 bytes spill loads\n",
      "ptxas warning : Registers are spilled to local memory in function 'loop_add_subtract_fusion_4', 4 bytes spill stores, 12 bytes spill loads\n",
      "\n"
     ]
    },
    {
     "name": "stdout",
     "output_type": "stream",
     "text": [
      "\u001b[1m687/687\u001b[0m \u001b[32m━━━━━━━━━━━━━━━━━━━━\u001b[0m\u001b[37m\u001b[0m \u001b[1m84s\u001b[0m 113ms/step - accuracy: 0.1698 - loss: 4.3939 - val_accuracy: 0.3265 - val_loss: 1.9124\n",
      "Epoch 2/30\n",
      "\u001b[1m687/687\u001b[0m \u001b[32m━━━━━━━━━━━━━━━━━━━━\u001b[0m\u001b[37m\u001b[0m \u001b[1m70s\u001b[0m 103ms/step - accuracy: 0.3097 - loss: 1.8999 - val_accuracy: 0.3535 - val_loss: 1.8849\n",
      "Epoch 3/30\n",
      "\u001b[1m687/687\u001b[0m \u001b[32m━━━━━━━━━━━━━━━━━━━━\u001b[0m\u001b[37m\u001b[0m \u001b[1m71s\u001b[0m 103ms/step - accuracy: 0.3530 - loss: 1.7913 - val_accuracy: 0.4165 - val_loss: 1.6656\n",
      "Epoch 4/30\n",
      "\u001b[1m687/687\u001b[0m \u001b[32m━━━━━━━━━━━━━━━━━━━━\u001b[0m\u001b[37m\u001b[0m \u001b[1m71s\u001b[0m 103ms/step - accuracy: 0.3760 - loss: 1.7243 - val_accuracy: 0.4459 - val_loss: 1.5970\n",
      "Epoch 5/30\n",
      "\u001b[1m687/687\u001b[0m \u001b[32m━━━━━━━━━━━━━━━━━━━━\u001b[0m\u001b[37m\u001b[0m \u001b[1m71s\u001b[0m 103ms/step - accuracy: 0.4070 - loss: 1.6581 - val_accuracy: 0.4361 - val_loss: 1.5671\n",
      "Epoch 6/30\n",
      "\u001b[1m687/687\u001b[0m \u001b[32m━━━━━━━━━━━━━━━━━━━━\u001b[0m\u001b[37m\u001b[0m \u001b[1m71s\u001b[0m 103ms/step - accuracy: 0.4195 - loss: 1.6190 - val_accuracy: 0.4529 - val_loss: 1.5452\n",
      "Epoch 7/30\n",
      "\u001b[1m687/687\u001b[0m \u001b[32m━━━━━━━━━━━━━━━━━━━━\u001b[0m\u001b[37m\u001b[0m \u001b[1m71s\u001b[0m 103ms/step - accuracy: 0.4264 - loss: 1.5892 - val_accuracy: 0.4525 - val_loss: 1.5537\n",
      "Epoch 8/30\n",
      "\u001b[1m687/687\u001b[0m \u001b[32m━━━━━━━━━━━━━━━━━━━━\u001b[0m\u001b[37m\u001b[0m \u001b[1m71s\u001b[0m 103ms/step - accuracy: 0.4563 - loss: 1.5439 - val_accuracy: 0.4456 - val_loss: 1.6015\n",
      "Epoch 9/30\n",
      "\u001b[1m687/687\u001b[0m \u001b[32m━━━━━━━━━━━━━━━━━━━━\u001b[0m\u001b[37m\u001b[0m \u001b[1m71s\u001b[0m 103ms/step - accuracy: 0.4641 - loss: 1.5196 - val_accuracy: 0.4914 - val_loss: 1.5077\n",
      "Epoch 10/30\n",
      "\u001b[1m687/687\u001b[0m \u001b[32m━━━━━━━━━━━━━━━━━━━━\u001b[0m\u001b[37m\u001b[0m \u001b[1m71s\u001b[0m 103ms/step - accuracy: 0.4786 - loss: 1.4621 - val_accuracy: 0.4987 - val_loss: 1.3976\n",
      "Epoch 11/30\n",
      "\u001b[1m687/687\u001b[0m \u001b[32m━━━━━━━━━━━━━━━━━━━━\u001b[0m\u001b[37m\u001b[0m \u001b[1m71s\u001b[0m 103ms/step - accuracy: 0.4940 - loss: 1.4370 - val_accuracy: 0.4936 - val_loss: 1.4111\n",
      "Epoch 12/30\n",
      "\u001b[1m687/687\u001b[0m \u001b[32m━━━━━━━━━━━━━━━━━━━━\u001b[0m\u001b[37m\u001b[0m \u001b[1m71s\u001b[0m 103ms/step - accuracy: 0.4972 - loss: 1.4141 - val_accuracy: 0.5286 - val_loss: 1.3357\n",
      "Epoch 13/30\n",
      "\u001b[1m687/687\u001b[0m \u001b[32m━━━━━━━━━━━━━━━━━━━━\u001b[0m\u001b[37m\u001b[0m \u001b[1m71s\u001b[0m 103ms/step - accuracy: 0.5106 - loss: 1.3766 - val_accuracy: 0.5304 - val_loss: 1.3173\n",
      "Epoch 14/30\n",
      "\u001b[1m687/687\u001b[0m \u001b[32m━━━━━━━━━━━━━━━━━━━━\u001b[0m\u001b[37m\u001b[0m \u001b[1m71s\u001b[0m 103ms/step - accuracy: 0.5207 - loss: 1.3592 - val_accuracy: 0.5435 - val_loss: 1.3046\n",
      "Epoch 15/30\n",
      "\u001b[1m687/687\u001b[0m \u001b[32m━━━━━━━━━━━━━━━━━━━━\u001b[0m\u001b[37m\u001b[0m \u001b[1m71s\u001b[0m 103ms/step - accuracy: 0.5247 - loss: 1.3331 - val_accuracy: 0.5351 - val_loss: 1.3002\n",
      "Epoch 16/30\n",
      "\u001b[1m687/687\u001b[0m \u001b[32m━━━━━━━━━━━━━━━━━━━━\u001b[0m\u001b[37m\u001b[0m \u001b[1m71s\u001b[0m 103ms/step - accuracy: 0.5378 - loss: 1.3080 - val_accuracy: 0.5592 - val_loss: 1.2424\n",
      "Epoch 17/30\n",
      "\u001b[1m687/687\u001b[0m \u001b[32m━━━━━━━━━━━━━━━━━━━━\u001b[0m\u001b[37m\u001b[0m \u001b[1m71s\u001b[0m 103ms/step - accuracy: 0.5523 - loss: 1.2767 - val_accuracy: 0.5431 - val_loss: 1.2811\n",
      "Epoch 18/30\n",
      "\u001b[1m687/687\u001b[0m \u001b[32m━━━━━━━━━━━━━━━━━━━━\u001b[0m\u001b[37m\u001b[0m \u001b[1m71s\u001b[0m 103ms/step - accuracy: 0.5590 - loss: 1.2586 - val_accuracy: 0.5180 - val_loss: 1.3617\n",
      "Epoch 19/30\n",
      "\u001b[1m687/687\u001b[0m \u001b[32m━━━━━━━━━━━━━━━━━━━━\u001b[0m\u001b[37m\u001b[0m \u001b[1m71s\u001b[0m 103ms/step - accuracy: 0.5585 - loss: 1.2647 - val_accuracy: 0.5581 - val_loss: 1.2329\n",
      "Epoch 20/30\n",
      "\u001b[1m687/687\u001b[0m \u001b[32m━━━━━━━━━━━━━━━━━━━━\u001b[0m\u001b[37m\u001b[0m \u001b[1m70s\u001b[0m 103ms/step - accuracy: 0.5681 - loss: 1.2239 - val_accuracy: 0.5806 - val_loss: 1.1927\n",
      "Epoch 21/30\n",
      "\u001b[1m687/687\u001b[0m \u001b[32m━━━━━━━━━━━━━━━━━━━━\u001b[0m\u001b[37m\u001b[0m \u001b[1m71s\u001b[0m 103ms/step - accuracy: 0.5822 - loss: 1.2012 - val_accuracy: 0.5926 - val_loss: 1.1574\n",
      "Epoch 22/30\n",
      "\u001b[1m687/687\u001b[0m \u001b[32m━━━━━━━━━━━━━━━━━━━━\u001b[0m\u001b[37m\u001b[0m \u001b[1m71s\u001b[0m 103ms/step - accuracy: 0.5755 - loss: 1.2044 - val_accuracy: 0.5865 - val_loss: 1.1673\n",
      "Epoch 23/30\n",
      "\u001b[1m687/687\u001b[0m \u001b[32m━━━━━━━━━━━━━━━━━━━━\u001b[0m\u001b[37m\u001b[0m \u001b[1m71s\u001b[0m 103ms/step - accuracy: 0.5888 - loss: 1.1677 - val_accuracy: 0.5948 - val_loss: 1.1410\n",
      "Epoch 24/30\n",
      "\u001b[1m687/687\u001b[0m \u001b[32m━━━━━━━━━━━━━━━━━━━━\u001b[0m\u001b[37m\u001b[0m \u001b[1m71s\u001b[0m 103ms/step - accuracy: 0.5998 - loss: 1.1564 - val_accuracy: 0.5810 - val_loss: 1.1810\n",
      "Epoch 25/30\n",
      "\u001b[1m687/687\u001b[0m \u001b[32m━━━━━━━━━━━━━━━━━━━━\u001b[0m\u001b[37m\u001b[0m \u001b[1m71s\u001b[0m 103ms/step - accuracy: 0.5940 - loss: 1.1560 - val_accuracy: 0.5741 - val_loss: 1.1945\n",
      "Epoch 26/30\n",
      "\u001b[1m687/687\u001b[0m \u001b[32m━━━━━━━━━━━━━━━━━━━━\u001b[0m\u001b[37m\u001b[0m \u001b[1m70s\u001b[0m 103ms/step - accuracy: 0.6014 - loss: 1.1406 - val_accuracy: 0.5879 - val_loss: 1.1478\n",
      "Epoch 27/30\n",
      "\u001b[1m687/687\u001b[0m \u001b[32m━━━━━━━━━━━━━━━━━━━━\u001b[0m\u001b[37m\u001b[0m \u001b[1m71s\u001b[0m 103ms/step - accuracy: 0.6012 - loss: 1.1230 - val_accuracy: 0.5821 - val_loss: 1.1716\n",
      "Epoch 28/30\n",
      "\u001b[1m687/687\u001b[0m \u001b[32m━━━━━━━━━━━━━━━━━━━━\u001b[0m\u001b[37m\u001b[0m \u001b[1m71s\u001b[0m 103ms/step - accuracy: 0.6109 - loss: 1.1164 - val_accuracy: 0.6112 - val_loss: 1.1039\n",
      "Epoch 29/30\n",
      "\u001b[1m687/687\u001b[0m \u001b[32m━━━━━━━━━━━━━━━━━━━━\u001b[0m\u001b[37m\u001b[0m \u001b[1m71s\u001b[0m 103ms/step - accuracy: 0.6109 - loss: 1.0919 - val_accuracy: 0.6094 - val_loss: 1.1299\n",
      "Epoch 30/30\n",
      "\u001b[1m687/687\u001b[0m \u001b[32m━━━━━━━━━━━━━━━━━━━━\u001b[0m\u001b[37m\u001b[0m \u001b[1m71s\u001b[0m 103ms/step - accuracy: 0.6219 - loss: 1.0888 - val_accuracy: 0.6152 - val_loss: 1.0983\n",
      "CPU times: user 47min 40s, sys: 3min 36s, total: 51min 17s\n",
      "Wall time: 35min 31s\n"
     ]
    }
   ],
   "source": [
    "%%time \n",
    "# You can adjust the number of epochs as needed.\n",
    "EPOCHS = 30\n",
    "\n",
    "history = model.fit(\n",
    "    train_dataset,\n",
    "    epochs=EPOCHS,                        \n",
    "    validation_data=validation_dataset\n",
    ")"
   ]
  },
  {
   "cell_type": "markdown",
   "id": "62a248c0cd61b9b5",
   "metadata": {},
   "source": [
    "## Save training artifacts"
   ]
  },
  {
   "cell_type": "code",
   "execution_count": 6,
   "id": "3ad17b2c847f24c0",
   "metadata": {},
   "outputs": [],
   "source": [
    "# Save the model to a file.\n",
    "model.save(os.path.join(os.getcwd(), \"model_googlenet_simple.keras\"))\n",
    "\n",
    "# Save the history to a file.\n",
    "with open(os.path.join(os.getcwd(), \"history_googlenet_simple.pkl\"), \"wb\") as file:\n",
    "    pickle.dump(history, file)"
   ]
  },
  {
   "cell_type": "markdown",
   "id": "25fdfd45f327f475",
   "metadata": {},
   "source": [
    "## Assess the model's performance"
   ]
  },
  {
   "cell_type": "markdown",
   "id": "d6d8d573dc0fab44",
   "metadata": {},
   "source": [
    "### Plot the accuracy curve"
   ]
  },
  {
   "cell_type": "code",
   "execution_count": 7,
   "id": "cdb1ca57def88917",
   "metadata": {},
   "outputs": [
    {
     "data": {
      "image/png": "[encoded data removed]",
      "text/plain": [
       "<Figure size 640x480 with 1 Axes>"
      ]
     },
     "metadata": {},
     "output_type": "display_data"
    }
   ],
   "source": [
    "def plot_accuracy_curve(training_result, metric):\n",
    "    val_metric = f\"val_{metric}\"\n",
    "    train_perf = training_result.history[metric]\n",
    "    validation_perf = training_result.history[val_metric]\n",
    "    \n",
    "    plt.plot(train_perf, label=metric)\n",
    "    plt.plot(validation_perf, label=val_metric)\n",
    "    \n",
    "    max_val = max(validation_perf)\n",
    "    max_val_epoch = validation_perf.index(max_val)\n",
    "    \n",
    "    plt.xlabel(\"Epoch\")\n",
    "    plt.ylabel(metric)\n",
    "    plt.legend(loc=\"lower right\")\n",
    "    \n",
    "plot_accuracy_curve(history, \"accuracy\")"
   ]
  },
  {
   "cell_type": "markdown",
   "id": "31de90d2834bc8fc",
   "metadata": {},
   "source": [
    "## Find the epoch at which the difference in training and validation accuracies are minimized."
   ]
  },
  {
   "cell_type": "code",
   "execution_count": 8,
   "id": "9ca54507-c9a1-4202-b09b-bb1837b4fb97",
   "metadata": {},
   "outputs": [
    {
     "name": "stdout",
     "output_type": "stream",
     "text": [
      "Minimum difference between accuracy and validation accuracy: 0.0 at epoch 17\n",
      "Training Accuracy at epoch 17: 0.5\n",
      "Validation Accuracy at epoch 17: 0.5\n"
     ]
    }
   ],
   "source": [
    "train_acc = history.history[\"accuracy\"]\n",
    "val_acc = history.history[\"val_accuracy\"]\n",
    "\n",
    "acc_diff = [abs(train - val) for train, val in zip(train_acc, val_acc)]\n",
    "\n",
    "min_diff = min(acc_diff)\n",
    "min_diff_epoch = acc_diff.index(min_diff) + 1\n",
    "\n",
    "train_acc_at_min_diff = train_acc[min_diff_epoch - 1]  \n",
    "val_acc_at_min_diff = val_acc[min_diff_epoch - 1]      \n",
    "\n",
    "print(f\"Minimum difference between accuracy and validation accuracy: {min_diff:.1f} at epoch {min_diff_epoch}\")\n",
    "print(f\"Training Accuracy at epoch {min_diff_epoch}: {train_acc_at_min_diff:.1f}\")\n",
    "print(f\"Validation Accuracy at epoch {min_diff_epoch}: {val_acc_at_min_diff:.1f}\")\n"
   ]
  },
  {
   "cell_type": "markdown",
   "id": "9e7baa54c0a65fa9",
   "metadata": {},
   "source": [
    "## Evaluate the model on unseen ImageNet images.\n",
    "\n",
    "### Prepare the evaluation ImageNet images\n",
    "In the same directory as this notebook, you will find a file named `imagenet_224_eval.zip`. This zip file contains the ImageNet images used for evaluating the CNN.\n",
    "Unzip the files to a folder named `imagenet_224_eval`. The unzipped files will have the following structure:\n",
    "\n",
    "```\n",
    "imagenet_224_eval\n",
    "----airplane\n",
    "----automobile\n",
    "----...\n",
    "----ship\n",
    "----truck\n",
    "``` \n",
    "If the folder structure doesn't match this, then you will get an error!"
   ]
  },
  {
   "cell_type": "code",
   "execution_count": 9,
   "id": "e4bf4f3f-2675-449e-aeae-8259f01d6111",
   "metadata": {},
   "outputs": [
    {
     "name": "stdout",
     "output_type": "stream",
     "text": [
      "Found 1000 files belonging to 10 classes.\n",
      "\u001b[1m63/63\u001b[0m \u001b[32m━━━━━━━━━━━━━━━━━━━━\u001b[0m\u001b[37m\u001b[0m \u001b[1m1s\u001b[0m 21ms/step - accuracy: 0.6698 - loss: 1.0245\n",
      "Loss on unseen ImageNet images: 1.0\n",
      "Accuracy on unseen ImageNet images: 0.7\n"
     ]
    }
   ],
   "source": [
    "UNSEEN_IMAGENET_IMG_DIR = os.path.join(os.getcwd(), \"imagenet_224_eval\")\n",
    "\n",
    "if not os.path.exists(UNSEEN_IMAGENET_IMG_DIR):\n",
    "    raise RuntimeError(\n",
    "        f\"{UNSEEN_IMAGENET_IMG_DIR} not found. You need to download the ImageNet evaluation dataset and unzip it into a folder called imagenet_224_eval\")\n",
    "\n",
    "eval_imagenet_dataset = tf.keras.preprocessing.image_dataset_from_directory(\n",
    "    UNSEEN_IMAGENET_IMG_DIR,          \n",
    "    image_size=TARGET_SIZE,      \n",
    "    batch_size=BATCH_SIZE             \n",
    ")\n",
    "\n",
    "# Prefetch for better performance.\n",
    "eval_imagenet_dataset = eval_imagenet_dataset.prefetch(buffer_size=tf.data.AUTOTUNE)\n",
    "\n",
    "loss, accuracy = model.evaluate(eval_imagenet_dataset)\n",
    "\n",
    "print(f\"Loss on unseen ImageNet images: {loss:.1f}\")\n",
    "print(f\"Accuracy on unseen ImageNet images: {accuracy:.1f}\")"
   ]
  },
  {
   "cell_type": "markdown",
   "id": "b55f2c9a8960e762",
   "metadata": {},
   "source": [
    "## Evaluate the model on CIFAR-10 images.\n",
    "\n",
    "### Prepare the evaluation CIFAR-10 images\n",
    "In the same directory as this notebook, you will find a file named `cifar-10.zip`. This zip file contains the ImageNet images used for evaluating the CNN against a totally different dataset - CIFAR-10.\n",
    "Unzip the files to a folder named `cifar-10`. The unzipped files will have the following structure:\n",
    "\n",
    "```\n",
    "cifar-10\n",
    "----airplane\n",
    "----automobile\n",
    "----...\n",
    "----ship\n",
    "----truck\n",
    "``` \n",
    "If the folder structure doesn't match this, then you will get an error!"
   ]
  },
  {
   "cell_type": "code",
   "execution_count": 10,
   "id": "f7ca01ed-cbdc-48f5-8783-8d5fc2084b99",
   "metadata": {},
   "outputs": [
    {
     "name": "stdout",
     "output_type": "stream",
     "text": [
      "Found 10000 files belonging to 10 classes.\n",
      "\u001b[1m625/625\u001b[0m \u001b[32m━━━━━━━━━━━━━━━━━━━━\u001b[0m\u001b[37m\u001b[0m \u001b[1m4s\u001b[0m 6ms/step - accuracy: 0.1523 - loss: 4.0439\n",
      "Loss on CIFAR-10 images: 4.0\n",
      "Accuracy CIFAR-10 images: 0.1\n"
     ]
    }
   ],
   "source": [
    "CIFAR10_IMG_DIR = os.path.join(os.getcwd(), \"cifar-10\")\n",
    "\n",
    "if not os.path.exists(CIFAR10_IMG_DIR):\n",
    "    raise RuntimeError(\n",
    "        f\"{CIFAR10_IMG_DIR} not found. You need to download the CIFAR-10 dataset and unzip it into a folder called cifar-10\")\n",
    "\n",
    "eval_cifar_dataset = tf.keras.preprocessing.image_dataset_from_directory(\n",
    "    CIFAR10_IMG_DIR,           \n",
    "    image_size=TARGET_SIZE,      \n",
    "    batch_size=BATCH_SIZE              \n",
    ")\n",
    "\n",
    "# Prefetch for better performance.\n",
    "eval_cifar_dataset = eval_cifar_dataset.prefetch(buffer_size=tf.data.AUTOTUNE)\n",
    "\n",
    "loss, accuracy = model.evaluate(eval_cifar_dataset)\n",
    "\n",
    "print(f\"Loss on CIFAR-10 images: {loss:.1f}\")\n",
    "print(f\"Accuracy CIFAR-10 images: {accuracy:.1f}\")"
   ]
  },
  {
   "cell_type": "code",
   "execution_count": null,
   "id": "fbb33138b685dad7",
   "metadata": {},
   "outputs": [],
   "source": []
  }
 ],
 "metadata": {
  "kernelspec": {
   "display_name": "Python 3 (ipykernel)",
   "language": "python",
   "name": "python3"
  },
  "language_info": {
   "codemirror_mode": {
    "name": "ipython",
    "version": 3
   },
   "file_extension": ".py",
   "mimetype": "text/x-python",
   "name": "python",
   "nbconvert_exporter": "python",
   "pygments_lexer": "ipython3",
   "version": "3.12.4"
  }
 },
 "nbformat": 4,
 "nbformat_minor": 5
}
